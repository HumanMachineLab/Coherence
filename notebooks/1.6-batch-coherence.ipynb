{
 "cells": [
  {
   "cell_type": "code",
   "execution_count": 45,
   "id": "23482949",
   "metadata": {},
   "outputs": [
    {
     "name": "stdout",
     "output_type": "stream",
     "text": [
      "The autoreload extension is already loaded. To reload it, use:\n",
      "  %reload_ext autoreload\n",
      "The nb_black extension is already loaded. To reload it, use:\n",
      "  %reload_ext nb_black\n"
     ]
    },
    {
     "data": {
      "application/javascript": [
       "\n",
       "            setTimeout(function() {\n",
       "                var nbb_cell_id = 45;\n",
       "                var nbb_unformatted_code = \"# Run if working locally\\n%load_ext autoreload\\n%autoreload 2\\n%load_ext nb_black\";\n",
       "                var nbb_formatted_code = \"# Run if working locally\\n%load_ext autoreload\\n%autoreload 2\\n%load_ext nb_black\";\n",
       "                var nbb_cells = Jupyter.notebook.get_cells();\n",
       "                for (var i = 0; i < nbb_cells.length; ++i) {\n",
       "                    if (nbb_cells[i].input_prompt_number == nbb_cell_id) {\n",
       "                        if (nbb_cells[i].get_text() == nbb_unformatted_code) {\n",
       "                             nbb_cells[i].set_text(nbb_formatted_code);\n",
       "                        }\n",
       "                        break;\n",
       "                    }\n",
       "                }\n",
       "            }, 500);\n",
       "            "
      ],
      "text/plain": [
       "<IPython.core.display.Javascript object>"
      ]
     },
     "metadata": {},
     "output_type": "display_data"
    }
   ],
   "source": [
    "# Run if working locally\n",
    "%load_ext autoreload\n",
    "%autoreload 2\n",
    "%load_ext nb_black"
   ]
  },
  {
   "cell_type": "code",
   "execution_count": 94,
   "id": "ca476670",
   "metadata": {},
   "outputs": [
    {
     "data": {
      "application/javascript": [
       "\n",
       "            setTimeout(function() {\n",
       "                var nbb_cell_id = 94;\n",
       "                var nbb_unformatted_code = \"import sqlite3\\nfrom sqlite3 import Error\\nimport pickle\\nimport os, sys\\nimport config\\n\\nconfig.root_path = os.path.abspath(os.path.join(os.getcwd(), \\\"..\\\"))\\nsys.path.insert(0, config.root_path)\\n\\nfrom src.dataset.dataset import RawData\\nfrom src.dataset.wikisection_preprocessing import (\\n    tokenize,\\n    clean_sentence,\\n    preprocess_text_segmentation,\\n    format_data_for_db_insertion,\\n)\\nfrom src.dataset.utils import truncate_by_token\\nfrom db.dbv2 import Table, AugmentedTable, TrainTestTable\\nimport pprint\\n\\n\\nfrom utils.metrics import windowdiff, pk\\n\\nfrom src.bertkeywords.src.similarities import Embedding, Similarities\\nfrom src.bertkeywords.src.keywords import Keywords\\nfrom src.encoders.coherence_v2 import Coherence\\nfrom src.dataset.utils import flatten, dedupe_list, truncate_string\\nfrom src.experimentation.coherence_v2 import SimpleExperiment, CoherenceExperiment\";\n",
       "                var nbb_formatted_code = \"import sqlite3\\nfrom sqlite3 import Error\\nimport pickle\\nimport os, sys\\nimport config\\n\\nconfig.root_path = os.path.abspath(os.path.join(os.getcwd(), \\\"..\\\"))\\nsys.path.insert(0, config.root_path)\\n\\nfrom src.dataset.dataset import RawData\\nfrom src.dataset.wikisection_preprocessing import (\\n    tokenize,\\n    clean_sentence,\\n    preprocess_text_segmentation,\\n    format_data_for_db_insertion,\\n)\\nfrom src.dataset.utils import truncate_by_token\\nfrom db.dbv2 import Table, AugmentedTable, TrainTestTable\\nimport pprint\\n\\n\\nfrom utils.metrics import windowdiff, pk\\n\\nfrom src.bertkeywords.src.similarities import Embedding, Similarities\\nfrom src.bertkeywords.src.keywords import Keywords\\nfrom src.encoders.coherence_v2 import Coherence\\nfrom src.dataset.utils import flatten, dedupe_list, truncate_string\\nfrom src.experimentation.coherence_v2 import SimpleExperiment, CoherenceExperiment\";\n",
       "                var nbb_cells = Jupyter.notebook.get_cells();\n",
       "                for (var i = 0; i < nbb_cells.length; ++i) {\n",
       "                    if (nbb_cells[i].input_prompt_number == nbb_cell_id) {\n",
       "                        if (nbb_cells[i].get_text() == nbb_unformatted_code) {\n",
       "                             nbb_cells[i].set_text(nbb_formatted_code);\n",
       "                        }\n",
       "                        break;\n",
       "                    }\n",
       "                }\n",
       "            }, 500);\n",
       "            "
      ],
      "text/plain": [
       "<IPython.core.display.Javascript object>"
      ]
     },
     "metadata": {},
     "output_type": "display_data"
    }
   ],
   "source": [
    "import sqlite3\n",
    "from sqlite3 import Error\n",
    "import pickle\n",
    "import os, sys\n",
    "import config\n",
    "\n",
    "config.root_path = os.path.abspath(os.path.join(os.getcwd(), \"..\"))\n",
    "sys.path.insert(0, config.root_path)\n",
    "\n",
    "from src.dataset.dataset import RawData\n",
    "from src.dataset.wikisection_preprocessing import (\n",
    "    tokenize,\n",
    "    clean_sentence,\n",
    "    preprocess_text_segmentation,\n",
    "    format_data_for_db_insertion,\n",
    ")\n",
    "from src.dataset.utils import truncate_by_token\n",
    "from db.dbv2 import Table, AugmentedTable, TrainTestTable\n",
    "import pprint\n",
    "\n",
    "\n",
    "from utils.metrics import windowdiff, pk\n",
    "\n",
    "from src.bertkeywords.src.similarities import Embedding, Similarities\n",
    "from src.bertkeywords.src.keywords import Keywords\n",
    "from src.encoders.coherence_v2 import Coherence\n",
    "from src.dataset.utils import flatten, dedupe_list, truncate_string\n",
    "from src.experimentation.coherence_v2 import SimpleExperiment, CoherenceExperiment"
   ]
  },
  {
   "cell_type": "code",
   "execution_count": 148,
   "id": "8b71ba8b",
   "metadata": {},
   "outputs": [
    {
     "data": {
      "application/javascript": [
       "\n",
       "            setTimeout(function() {\n",
       "                var nbb_cell_id = 148;\n",
       "                var nbb_unformatted_code = \"experimentation = SimpleExperiment()\\n\\nexperimentation.queue_experiment(\\n    CoherenceExperiment(\\n        dataset_type=\\\"city\\\",\\n        #         model_string=\\\"bert-base-uncased\\\",\\n        model_string=\\\"sentence-transformers/all-MiniLM-L6-v2\\\",\\n        #         model_string=\\\"sentence-transformers/LaBSE\\\",\\n        #         model_string=\\\"roberta-base\\\",\\n        max_words_per_step=6,\\n        start=1000,\\n        num_samples=200,\\n        same_word_multiplier=1,\\n        no_same_word_penalty=1,\\n        kb_embeddings=True,\\n        coherence_dump_on_prediction=False,\\n        coherence_threshold=0.3,\\n        prediction_threshold=0.47,\\n        pruning=1,\\n        pruning_min=7,\\n        batch_size=10,\\n        print_metrics_summary=True,\\n        print_predictions_summary=True,\\n        keyword_diversity=0.3,\\n        diverse_keywords=True,\\n        similar_keywords=True,\\n    )\\n)\";\n",
       "                var nbb_formatted_code = \"experimentation = SimpleExperiment()\\n\\nexperimentation.queue_experiment(\\n    CoherenceExperiment(\\n        dataset_type=\\\"city\\\",\\n        #         model_string=\\\"bert-base-uncased\\\",\\n        model_string=\\\"sentence-transformers/all-MiniLM-L6-v2\\\",\\n        #         model_string=\\\"sentence-transformers/LaBSE\\\",\\n        #         model_string=\\\"roberta-base\\\",\\n        max_words_per_step=6,\\n        start=1000,\\n        num_samples=200,\\n        same_word_multiplier=1,\\n        no_same_word_penalty=1,\\n        kb_embeddings=True,\\n        coherence_dump_on_prediction=False,\\n        coherence_threshold=0.3,\\n        prediction_threshold=0.47,\\n        pruning=1,\\n        pruning_min=7,\\n        batch_size=10,\\n        print_metrics_summary=True,\\n        print_predictions_summary=True,\\n        keyword_diversity=0.3,\\n        diverse_keywords=True,\\n        similar_keywords=True,\\n    )\\n)\";\n",
       "                var nbb_cells = Jupyter.notebook.get_cells();\n",
       "                for (var i = 0; i < nbb_cells.length; ++i) {\n",
       "                    if (nbb_cells[i].input_prompt_number == nbb_cell_id) {\n",
       "                        if (nbb_cells[i].get_text() == nbb_unformatted_code) {\n",
       "                             nbb_cells[i].set_text(nbb_formatted_code);\n",
       "                        }\n",
       "                        break;\n",
       "                    }\n",
       "                }\n",
       "            }, 500);\n",
       "            "
      ],
      "text/plain": [
       "<IPython.core.display.Javascript object>"
      ]
     },
     "metadata": {},
     "output_type": "display_data"
    }
   ],
   "source": [
    "experimentation = SimpleExperiment()\n",
    "\n",
    "experimentation.queue_experiment(\n",
    "    CoherenceExperiment(\n",
    "        dataset_type=\"city\",\n",
    "        #         model_string=\"bert-base-uncased\",\n",
    "        model_string=\"sentence-transformers/all-MiniLM-L6-v2\",\n",
    "        #         model_string=\"sentence-transformers/LaBSE\",\n",
    "        #         model_string=\"roberta-base\",\n",
    "        max_words_per_step=6,\n",
    "        start=1000,\n",
    "        num_samples=200,\n",
    "        same_word_multiplier=1,\n",
    "        no_same_word_penalty=1,\n",
    "        kb_embeddings=True,\n",
    "        coherence_dump_on_prediction=False,\n",
    "        coherence_threshold=0.3,\n",
    "        prediction_threshold=0.47,\n",
    "        pruning=1,\n",
    "        pruning_min=7,\n",
    "        batch_size=10,\n",
    "        print_metrics_summary=True,\n",
    "        print_predictions_summary=True,\n",
    "        keyword_diversity=0.3,\n",
    "        diverse_keywords=True,\n",
    "        similar_keywords=True,\n",
    "    )\n",
    ")"
   ]
  },
  {
   "cell_type": "code",
   "execution_count": 149,
   "id": "b57a9097",
   "metadata": {
    "scrolled": true
   },
   "outputs": [
    {
     "name": "stdout",
     "output_type": "stream",
     "text": [
      "Running experiment set: kkMuK\n",
      "Running experiment: CoherenceExperiment(num_samples=200, start=1000, dataset_type='city', model_string='sentence-transformers/all-MiniLM-L6-v2', max_words_per_step=6, same_word_multiplier=1, no_same_word_penalty=1, prediction_threshold=0.47, coherence_threshold=0.3, coherence_dump_on_prediction=False, pruning=1, pruning_min=7, dynamic_threshold=False, threshold_warmup=10, last_n_threshold=5, kb_embeddings=True, experiment_hash='2GYsp', batch_size=10, keyword_diversity=0.3, diverse_keywords=True, similar_keywords=True, print_metrics_summary=True, print_predictions_summary=True)\n"
     ]
    },
    {
     "name": "stderr",
     "output_type": "stream",
     "text": [
      "WARNING:sentence_transformers.SentenceTransformer:No sentence-transformers model found with name /Users/amitmaraj/.cache/torch/sentence_transformers/bert-base-uncased. Creating a new one with MEAN pooling.\n",
      "Some weights of the model checkpoint at /Users/amitmaraj/.cache/torch/sentence_transformers/bert-base-uncased were not used when initializing BertModel: ['cls.predictions.transform.LayerNorm.weight', 'cls.predictions.bias', 'cls.predictions.transform.dense.weight', 'cls.predictions.transform.dense.bias', 'cls.predictions.decoder.weight', 'cls.seq_relationship.bias', 'cls.predictions.transform.LayerNorm.bias', 'cls.seq_relationship.weight']\n",
      "- This IS expected if you are initializing BertModel from the checkpoint of a model trained on another task or with another architecture (e.g. initializing a BertForSequenceClassification model from a BertForPreTraining model).\n",
      "- This IS NOT expected if you are initializing BertModel from the checkpoint of a model that you expect to be exactly identical (initializing a BertForSequenceClassification model from a BertForSequenceClassification model).\n"
     ]
    },
    {
     "name": "stdout",
     "output_type": "stream",
     "text": [
      "TOTAL BATCHES: 20\n",
      "\n",
      "......... 1 .......... 2 .......... 3 .......... 4 .......... 5 .......... 6 .......... 7 .......... 8 .......... 9 .......... 10 .......... 11 .......... 12 .......... 13 .......... 14 .......... 15 .......... 16 .......... 17 .......... 18 .......... 19 .......... 20 \n",
      "============= Metrics Summary =============\n",
      "prediction threshold: 0.4\n",
      "pk score: 0.3238255033557047\n",
      "wd score: 0.3238255033557047\n",
      "proximity: 0.008903133903133903\n",
      "confusion: f1 [0.795], tp [0], fp [2], tn [159], fn [39]\n",
      "==========================\n",
      "prediction threshold: 0.41\n",
      "pk score: 0.31543624161073824\n",
      "wd score: 0.3187919463087248\n",
      "proximity: 0.060778727445394115\n",
      "confusion: f1 [0.8000000000000002], tp [1], fp [2], tn [159], fn [38]\n",
      "==========================\n",
      "prediction threshold: 0.42\n",
      "pk score: 0.3104026845637584\n",
      "wd score: 0.3104026845637584\n",
      "proximity: 0.06428062678062677\n",
      "confusion: f1 [0.805], tp [2], fp [2], tn [159], fn [37]\n",
      "==========================\n",
      "prediction threshold: 0.43\n",
      "pk score: 0.30201342281879195\n",
      "wd score: 0.30201342281879195\n",
      "proximity: 0.08903133903133903\n",
      "confusion: f1 [0.81], tp [3], fp [2], tn [159], fn [36]\n",
      "==========================\n",
      "prediction threshold: 0.44\n",
      "pk score: 0.30201342281879195\n",
      "wd score: 0.30201342281879195\n",
      "proximity: 0.08903133903133903\n",
      "confusion: f1 [0.81], tp [3], fp [2], tn [159], fn [36]\n",
      "==========================\n",
      "prediction threshold: 0.45\n",
      "pk score: 0.2936241610738255\n",
      "wd score: 0.2936241610738255\n",
      "proximity: 0.12927350427350426\n",
      "confusion: f1 [0.815], tp [4], fp [2], tn [159], fn [35]\n",
      "==========================\n",
      "prediction threshold: 0.46\n",
      "pk score: 0.2936241610738255\n",
      "wd score: 0.2936241610738255\n",
      "proximity: 0.12927350427350426\n",
      "confusion: f1 [0.815], tp [4], fp [2], tn [159], fn [35]\n",
      "==========================\n",
      "prediction threshold: 0.47\n",
      "pk score: 0.27684563758389263\n",
      "wd score: 0.27684563758389263\n",
      "proximity: 0.18028846153846154\n",
      "confusion: f1 [0.825], tp [6], fp [2], tn [159], fn [33]\n",
      "==========================\n",
      "prediction threshold: 0.48\n",
      "pk score: 0.27181208053691275\n",
      "wd score: 0.2751677852348993\n",
      "proximity: 0.20305620305620306\n",
      "confusion: f1 [0.83], tp [8], fp [3], tn [158], fn [31]\n",
      "==========================\n",
      "prediction threshold: 0.49\n",
      "pk score: 0.25838926174496646\n",
      "wd score: 0.26174496644295303\n",
      "proximity: 0.2326685660018993\n",
      "confusion: f1 [0.83], tp [10], fp [5], tn [156], fn [29]\n",
      "==========================\n",
      "prediction threshold: 0.5\n",
      "pk score: 0.2634228187919463\n",
      "wd score: 0.2701342281879195\n",
      "proximity: 0.21812678062678062\n",
      "confusion: f1 [0.825], tp [10], fp [6], tn [155], fn [29]\n",
      "==========================\n",
      "prediction threshold: 0.51\n",
      "pk score: 0.2348993288590604\n",
      "wd score: 0.24496644295302014\n",
      "proximity: 0.309674222717701\n",
      "confusion: f1 [0.8399999999999999], tp [15], fp [8], tn [153], fn [24]\n",
      "==========================\n",
      "prediction threshold: 0.52\n",
      "pk score: 0.24328859060402686\n",
      "wd score: 0.25671140939597314\n",
      "proximity: 0.3085470085470085\n",
      "confusion: f1 [0.825], tp [17], fp [13], tn [148], fn [22]\n",
      "==========================\n",
      "prediction threshold: 0.53\n",
      "pk score: 0.2348993288590604\n",
      "wd score: 0.2550335570469799\n",
      "proximity: 0.37539086929330834\n",
      "confusion: f1 [0.82], tp [22], fp [19], tn [142], fn [17]\n",
      "==========================\n",
      "prediction threshold: 0.54\n",
      "pk score: 0.23825503355704697\n",
      "wd score: 0.27181208053691275\n",
      "proximity: 0.4036087369420702\n",
      "confusion: f1 [0.81], tp [26], fp [25], tn [136], fn [13]\n",
      "==========================\n",
      "prediction threshold: 0.55\n",
      "pk score: 0.2651006711409396\n",
      "wd score: 0.3087248322147651\n",
      "proximity: 0.3739816064377467\n",
      "confusion: f1 [0.78], tp [26], fp [31], tn [130], fn [13]\n",
      "==========================\n",
      "prediction threshold: 0.56\n",
      "pk score: 0.28691275167785235\n",
      "wd score: 0.34395973154362414\n",
      "proximity: 0.37020278196748785\n",
      "confusion: f1 [0.745], tp [28], fp [40], tn [121], fn [11]\n",
      "==========================\n",
      "prediction threshold: 0.57\n",
      "pk score: 0.29697986577181207\n",
      "wd score: 0.38422818791946306\n",
      "proximity: 0.3543812550222807\n",
      "confusion: f1 [0.715], tp [30], fp [48], tn [113], fn [9]\n",
      "==========================\n",
      "prediction threshold: 0.58\n",
      "pk score: 0.3288590604026846\n",
      "wd score: 0.42953020134228187\n",
      "proximity: 0.344049841176278\n",
      "confusion: f1 [0.67], tp [30], fp [57], tn [104], fn [9]\n",
      "==========================\n",
      "prediction threshold: 0.59\n",
      "pk score: 0.3724832214765101\n",
      "wd score: 0.4798657718120805\n",
      "proximity: 0.3176785032455135\n",
      "confusion: f1 [0.63], tp [31], fp [66], tn [95], fn [8]\n",
      "==========================\n",
      "prediction threshold: 0.6\n",
      "pk score: 0.4211409395973154\n",
      "wd score: 0.535234899328859\n",
      "proximity: 0.2907058001397624\n",
      "confusion: f1 [0.585], tp [31], fp [75], tn [86], fn [8]\n",
      "==========================\n",
      "============= Predictions Summary =============\n",
      "best pk: 0.2348993288590604, best prediction threshold: 0.51\n",
      "Best proximity: 0.309674222717701\n",
      "P:[1, 0, 1, 0, 0, 0, 0, 1, 1, 0, 0, 0, 1, 0, 0, 0, 0, 0, 0, 0, 0, 0, 0, 0, 0, 1, 0, 1, 0, 0, 0, 0, 0, 0, 0, 0, 0, 0, 0, 0, 0, 0, 0, 0, 0, 0, 0, 0, 0, 0, 0, 0, 0, 0, 0, 0, 1, 0, 0, 0, 0, 0, 0, 0, 0, 0, 0, 0, 0, 0, 0, 0, 0, 0, 0, 0, 0, 1, 0, 0, 0, 1, 0, 0, 0, 0, 0, 0, 0, 0, 0, 0, 0, 1, 0, 0, 0, 0, 0, 1, 1, 0, 0, 0, 0, 0, 0, 0, 0, 0, 0, 0, 0, 1, 0, 0, 0, 0, 0, 0, 0, 0, 0, 0, 0, 1, 0, 0, 0, 0, 1, 1, 0, 0, 0, 1, 0, 0, 0, 0, 0, 0, 0, 0, 0, 0, 0, 0, 0, 1, 0, 1, 0, 1, 0, 1, 1, 0, 0, 0, 0, 0, 0, 0, 0, 0, 0, 0, 0, 0, 0, 0, 0, 0, 0, 0, 0, 0, 0, 0, 0, 0, 0, 0, 0, 0, 0, 0, 0, 0, 0, 0, 0, 0, 0, 0, 0, 0, 0, 0]\n",
      "R:[0, 0, 1, 0, 0, 0, 0, 0, 1, 0, 0, 1, 0, 0, 0, 0, 1, 0, 0, 1, 0, 0, 1, 0, 0, 1, 0, 0, 0, 0, 0, 0, 1, 0, 0, 1, 0, 0, 1, 0, 0, 0, 0, 1, 0, 0, 0, 0, 0, 0, 0, 0, 0, 0, 0, 0, 0, 0, 0, 0, 0, 0, 0, 0, 0, 0, 0, 0, 0, 0, 0, 0, 0, 1, 0, 0, 0, 1, 0, 0, 0, 1, 0, 0, 0, 1, 0, 1, 0, 0, 0, 0, 0, 1, 0, 0, 0, 0, 0, 0, 1, 0, 0, 0, 0, 0, 1, 0, 0, 0, 1, 0, 0, 1, 0, 1, 0, 0, 0, 1, 0, 0, 0, 0, 0, 1, 0, 0, 0, 0, 1, 0, 0, 1, 0, 1, 0, 0, 0, 1, 0, 0, 0, 0, 0, 0, 1, 0, 1, 0, 0, 1, 0, 1, 0, 1, 1, 0, 0, 0, 0, 0, 1, 0, 0, 0, 0, 0, 0, 1, 0, 0, 0, 0, 0, 0, 0, 0, 0, 0, 0, 0, 0, 1, 0, 0, 0, 0, 1, 0, 0, 0, 0, 0, 0, 0, 0, 0, 0, 1]\n",
      "\n",
      "Experiment 1 - 2GYsp complete.\n",
      "==============================================\n",
      "\n"
     ]
    },
    {
     "data": {
      "application/javascript": [
       "\n",
       "            setTimeout(function() {\n",
       "                var nbb_cell_id = 149;\n",
       "                var nbb_unformatted_code = \"experimentation.run()\";\n",
       "                var nbb_formatted_code = \"experimentation.run()\";\n",
       "                var nbb_cells = Jupyter.notebook.get_cells();\n",
       "                for (var i = 0; i < nbb_cells.length; ++i) {\n",
       "                    if (nbb_cells[i].input_prompt_number == nbb_cell_id) {\n",
       "                        if (nbb_cells[i].get_text() == nbb_unformatted_code) {\n",
       "                             nbb_cells[i].set_text(nbb_formatted_code);\n",
       "                        }\n",
       "                        break;\n",
       "                    }\n",
       "                }\n",
       "            }, 500);\n",
       "            "
      ],
      "text/plain": [
       "<IPython.core.display.Javascript object>"
      ]
     },
     "metadata": {},
     "output_type": "display_data"
    }
   ],
   "source": [
    "experimentation.run()"
   ]
  },
  {
   "cell_type": "markdown",
   "id": "ba41ba20",
   "metadata": {},
   "source": [
    "### ========================================================="
   ]
  },
  {
   "cell_type": "markdown",
   "id": "c840ba52",
   "metadata": {},
   "source": [
    "### Testing proximity metrics"
   ]
  },
  {
   "cell_type": "code",
   "execution_count": 71,
   "id": "7dc8b4aa",
   "metadata": {},
   "outputs": [
    {
     "data": {
      "application/javascript": [
       "\n",
       "            setTimeout(function() {\n",
       "                var nbb_cell_id = 71;\n",
       "                var nbb_unformatted_code = \"# fmt: off\\npredictions=[1, 0, 1, 0, 0, 0, 0, 1, 1, 0, 0, 0, 0, 0, 0, 0, 0, 0, 0, 0, 0, 0, 0, 0, 0, 0, 0, 0, 0, 0, 0, 0, 0, 0, 0, 0, 0, 0, 0, 0, 0, 0, 0, 0, 0, 0, 0, 0, 0, 0, 0, 0, 0, 0, 0, 0, 0, 0, 0, 0, 0, 0, 0, 0, 0, 0, 0, 0, 0, 0, 0, 0, 0, 0, 0, 0, 0, 1, 0, 0, 0, 1, 0, 0, 0, 0, 0, 0, 0, 0, 0, 0, 0, 0, 0, 0, 0, 0, 0, 1, 1, 0, 0, 0, 0, 0, 0, 0, 0, 0, 0, 0, 0, 0, 0, 0, 0, 0, 0, 0, 0, 0, 0, 0, 0, 1, 0, 0, 0, 0, 0, 0, 0, 0, 0, 1, 1, 0, 0, 0, 0, 0, 0, 0, 0, 0, 0, 0, 0, 0, 0, 1, 0, 1, 0, 1, 1, 0, 0, 0, 0, 0, 0, 0, 0, 0, 0, 0, 0, 0, 0, 0, 0, 0, 0, 0, 0, 0, 0, 0, 0, 0, 0, 0, 0, 0, 0, 0, 0, 0, 0, 0, 0, 0, 0, 0, 0, 0, 0, 0]\\nreal=[0, 0, 1, 0, 0, 0, 0, 0, 1, 0, 0, 1, 0, 0, 0, 0, 1, 0, 0, 1, 0, 0, 1, 0, 0, 1, 0, 0, 0, 0, 0, 0, 1, 0, 0, 1, 0, 0, 1, 0, 0, 0, 0, 1, 0, 0, 0, 0, 0, 0, 0, 0, 0, 0, 0, 0, 0, 0, 0, 0, 0, 0, 0, 0, 0, 0, 0, 0, 0, 0, 0, 0, 0, 1, 0, 0, 0, 1, 0, 0, 0, 1, 0, 0, 0, 1, 0, 1, 0, 0, 0, 0, 0, 1, 0, 0, 0, 0, 0, 0, 1, 0, 0, 0, 0, 0, 1, 0, 0, 0, 1, 0, 0, 1, 0, 1, 0, 0, 0, 1, 0, 0, 0, 0, 0, 1, 0, 0, 0, 0, 1, 0, 0, 1, 0, 1, 0, 0, 0, 1, 0, 0, 0, 0, 0, 0, 1, 0, 1, 0, 0, 1, 0, 1, 0, 1, 1, 0, 0, 0, 0, 0, 1, 0, 0, 0, 0, 0, 0, 1, 0, 0, 0, 0, 0, 0, 0, 0, 0, 0, 0, 0, 0, 1, 0, 0, 0, 0, 1, 0, 0, 0, 0, 0, 0, 0, 0, 0, 0, 1]\\n# fmt: on\";\n",
       "                var nbb_formatted_code = \"# fmt: off\\npredictions=[1, 0, 1, 0, 0, 0, 0, 1, 1, 0, 0, 0, 0, 0, 0, 0, 0, 0, 0, 0, 0, 0, 0, 0, 0, 0, 0, 0, 0, 0, 0, 0, 0, 0, 0, 0, 0, 0, 0, 0, 0, 0, 0, 0, 0, 0, 0, 0, 0, 0, 0, 0, 0, 0, 0, 0, 0, 0, 0, 0, 0, 0, 0, 0, 0, 0, 0, 0, 0, 0, 0, 0, 0, 0, 0, 0, 0, 1, 0, 0, 0, 1, 0, 0, 0, 0, 0, 0, 0, 0, 0, 0, 0, 0, 0, 0, 0, 0, 0, 1, 1, 0, 0, 0, 0, 0, 0, 0, 0, 0, 0, 0, 0, 0, 0, 0, 0, 0, 0, 0, 0, 0, 0, 0, 0, 1, 0, 0, 0, 0, 0, 0, 0, 0, 0, 1, 1, 0, 0, 0, 0, 0, 0, 0, 0, 0, 0, 0, 0, 0, 0, 1, 0, 1, 0, 1, 1, 0, 0, 0, 0, 0, 0, 0, 0, 0, 0, 0, 0, 0, 0, 0, 0, 0, 0, 0, 0, 0, 0, 0, 0, 0, 0, 0, 0, 0, 0, 0, 0, 0, 0, 0, 0, 0, 0, 0, 0, 0, 0, 0]\\nreal=[0, 0, 1, 0, 0, 0, 0, 0, 1, 0, 0, 1, 0, 0, 0, 0, 1, 0, 0, 1, 0, 0, 1, 0, 0, 1, 0, 0, 0, 0, 0, 0, 1, 0, 0, 1, 0, 0, 1, 0, 0, 0, 0, 1, 0, 0, 0, 0, 0, 0, 0, 0, 0, 0, 0, 0, 0, 0, 0, 0, 0, 0, 0, 0, 0, 0, 0, 0, 0, 0, 0, 0, 0, 1, 0, 0, 0, 1, 0, 0, 0, 1, 0, 0, 0, 1, 0, 1, 0, 0, 0, 0, 0, 1, 0, 0, 0, 0, 0, 0, 1, 0, 0, 0, 0, 0, 1, 0, 0, 0, 1, 0, 0, 1, 0, 1, 0, 0, 0, 1, 0, 0, 0, 0, 0, 1, 0, 0, 0, 0, 1, 0, 0, 1, 0, 1, 0, 0, 0, 1, 0, 0, 0, 0, 0, 0, 1, 0, 1, 0, 0, 1, 0, 1, 0, 1, 1, 0, 0, 0, 0, 0, 1, 0, 0, 0, 0, 0, 0, 1, 0, 0, 0, 0, 0, 0, 0, 0, 0, 0, 0, 0, 0, 1, 0, 0, 0, 0, 1, 0, 0, 0, 0, 0, 0, 0, 0, 0, 0, 1]\\n# fmt: on\";\n",
       "                var nbb_cells = Jupyter.notebook.get_cells();\n",
       "                for (var i = 0; i < nbb_cells.length; ++i) {\n",
       "                    if (nbb_cells[i].input_prompt_number == nbb_cell_id) {\n",
       "                        if (nbb_cells[i].get_text() == nbb_unformatted_code) {\n",
       "                             nbb_cells[i].set_text(nbb_formatted_code);\n",
       "                        }\n",
       "                        break;\n",
       "                    }\n",
       "                }\n",
       "            }, 500);\n",
       "            "
      ],
      "text/plain": [
       "<IPython.core.display.Javascript object>"
      ]
     },
     "metadata": {},
     "output_type": "display_data"
    }
   ],
   "source": [
    "# fmt: off\n",
    "predictions=[1, 0, 1, 0, 0, 0, 0, 1, 1, 0, 0, 0, 0, 0, 0, 0, 0, 0, 0, 0, 0, 0, 0, 0, 0, 0, 0, 0, 0, 0, 0, 0, 0, 0, 0, 0, 0, 0, 0, 0, 0, 0, 0, 0, 0, 0, 0, 0, 0, 0, 0, 0, 0, 0, 0, 0, 0, 0, 0, 0, 0, 0, 0, 0, 0, 0, 0, 0, 0, 0, 0, 0, 0, 0, 0, 0, 0, 1, 0, 0, 0, 1, 0, 0, 0, 0, 0, 0, 0, 0, 0, 0, 0, 0, 0, 0, 0, 0, 0, 1, 1, 0, 0, 0, 0, 0, 0, 0, 0, 0, 0, 0, 0, 0, 0, 0, 0, 0, 0, 0, 0, 0, 0, 0, 0, 1, 0, 0, 0, 0, 0, 0, 0, 0, 0, 1, 1, 0, 0, 0, 0, 0, 0, 0, 0, 0, 0, 0, 0, 0, 0, 1, 0, 1, 0, 1, 1, 0, 0, 0, 0, 0, 0, 0, 0, 0, 0, 0, 0, 0, 0, 0, 0, 0, 0, 0, 0, 0, 0, 0, 0, 0, 0, 0, 0, 0, 0, 0, 0, 0, 0, 0, 0, 0, 0, 0, 0, 0, 0, 0]\n",
    "real=[0, 0, 1, 0, 0, 0, 0, 0, 1, 0, 0, 1, 0, 0, 0, 0, 1, 0, 0, 1, 0, 0, 1, 0, 0, 1, 0, 0, 0, 0, 0, 0, 1, 0, 0, 1, 0, 0, 1, 0, 0, 0, 0, 1, 0, 0, 0, 0, 0, 0, 0, 0, 0, 0, 0, 0, 0, 0, 0, 0, 0, 0, 0, 0, 0, 0, 0, 0, 0, 0, 0, 0, 0, 1, 0, 0, 0, 1, 0, 0, 0, 1, 0, 0, 0, 1, 0, 1, 0, 0, 0, 0, 0, 1, 0, 0, 0, 0, 0, 0, 1, 0, 0, 0, 0, 0, 1, 0, 0, 0, 1, 0, 0, 1, 0, 1, 0, 0, 0, 1, 0, 0, 0, 0, 0, 1, 0, 0, 0, 0, 1, 0, 0, 1, 0, 1, 0, 0, 0, 1, 0, 0, 0, 0, 0, 0, 1, 0, 1, 0, 0, 1, 0, 1, 0, 1, 1, 0, 0, 0, 0, 0, 1, 0, 0, 0, 0, 0, 0, 1, 0, 0, 0, 0, 0, 0, 0, 0, 0, 0, 0, 0, 0, 1, 0, 0, 0, 0, 1, 0, 0, 0, 0, 0, 0, 0, 0, 0, 0, 1]\n",
    "# fmt: on"
   ]
  },
  {
   "cell_type": "code",
   "execution_count": 72,
   "id": "25f390ad",
   "metadata": {},
   "outputs": [
    {
     "data": {
      "application/javascript": [
       "\n",
       "            setTimeout(function() {\n",
       "                var nbb_cell_id = 72;\n",
       "                var nbb_unformatted_code = \"def check_proximity(predictions, real, proximity=2):\\n    exact_matches = 0\\n    very_close_matches = 0  # within 1 step\\n    close_matches = 0  # within 2 steps\\n\\n    for i, (p, r) in enumerate(zip(predictions, real)):\\n        # take care of all the cases where we're at the\\n        # beginning of the arrays\\n        prev_idx = i - 1\\n        prev_prev_idx = i - 2\\n        if i == 0 or i == 1:\\n            prev_idx = 0\\n            prev_prev_idx = 0\\n\\n        prev_prediction = predictions[prev_idx]\\n        prev_prev_prediction = predictions[prev_prev_idx]\\n\\n        # take care of all the cases where we're at the\\n        # end of the arrays\\n        next_idx = i + 1\\n        next_next_idx = i + 2\\n        if i == (len(predictions) - 1):\\n            next_idx = i\\n            next_next_idx = i\\n        if i == (len(predictions) - 2):\\n            next_idx = i + 1\\n            next_next_idx = i + 1\\n\\n        next_prediction = predictions[next_idx]\\n        next_next_prediction = predictions[next_next_idx]\\n\\n        if r == 1 and p == 1:\\n            exact_matches += 1\\n            continue\\n        if r == 1:\\n            if prev_prediction == 1 or next_prediction == 1:\\n                very_close_matches += 1\\n                continue\\n            if prev_prev_prediction == 1 or next_next_prediction == 1:\\n                close_matches += 1\\n                continue\\n            continue\\n\\n    return exact_matches, very_close_matches, close_matches\";\n",
       "                var nbb_formatted_code = \"def check_proximity(predictions, real, proximity=2):\\n    exact_matches = 0\\n    very_close_matches = 0  # within 1 step\\n    close_matches = 0  # within 2 steps\\n\\n    for i, (p, r) in enumerate(zip(predictions, real)):\\n        # take care of all the cases where we're at the\\n        # beginning of the arrays\\n        prev_idx = i - 1\\n        prev_prev_idx = i - 2\\n        if i == 0 or i == 1:\\n            prev_idx = 0\\n            prev_prev_idx = 0\\n\\n        prev_prediction = predictions[prev_idx]\\n        prev_prev_prediction = predictions[prev_prev_idx]\\n\\n        # take care of all the cases where we're at the\\n        # end of the arrays\\n        next_idx = i + 1\\n        next_next_idx = i + 2\\n        if i == (len(predictions) - 1):\\n            next_idx = i\\n            next_next_idx = i\\n        if i == (len(predictions) - 2):\\n            next_idx = i + 1\\n            next_next_idx = i + 1\\n\\n        next_prediction = predictions[next_idx]\\n        next_next_prediction = predictions[next_next_idx]\\n\\n        if r == 1 and p == 1:\\n            exact_matches += 1\\n            continue\\n        if r == 1:\\n            if prev_prediction == 1 or next_prediction == 1:\\n                very_close_matches += 1\\n                continue\\n            if prev_prev_prediction == 1 or next_next_prediction == 1:\\n                close_matches += 1\\n                continue\\n            continue\\n\\n    return exact_matches, very_close_matches, close_matches\";\n",
       "                var nbb_cells = Jupyter.notebook.get_cells();\n",
       "                for (var i = 0; i < nbb_cells.length; ++i) {\n",
       "                    if (nbb_cells[i].input_prompt_number == nbb_cell_id) {\n",
       "                        if (nbb_cells[i].get_text() == nbb_unformatted_code) {\n",
       "                             nbb_cells[i].set_text(nbb_formatted_code);\n",
       "                        }\n",
       "                        break;\n",
       "                    }\n",
       "                }\n",
       "            }, 500);\n",
       "            "
      ],
      "text/plain": [
       "<IPython.core.display.Javascript object>"
      ]
     },
     "metadata": {},
     "output_type": "display_data"
    }
   ],
   "source": [
    "def check_proximity(predictions, real, proximity=2):\n",
    "    exact_matches = 0\n",
    "    very_close_matches = 0  # within 1 step\n",
    "    close_matches = 0  # within 2 steps\n",
    "\n",
    "    for i, (p, r) in enumerate(zip(predictions, real)):\n",
    "        # take care of all the cases where we're at the\n",
    "        # beginning of the arrays\n",
    "        prev_idx = i - 1\n",
    "        prev_prev_idx = i - 2\n",
    "        if i == 0 or i == 1:\n",
    "            prev_idx = 0\n",
    "            prev_prev_idx = 0\n",
    "\n",
    "        prev_prediction = predictions[prev_idx]\n",
    "        prev_prev_prediction = predictions[prev_prev_idx]\n",
    "\n",
    "        # take care of all the cases where we're at the\n",
    "        # end of the arrays\n",
    "        next_idx = i + 1\n",
    "        next_next_idx = i + 2\n",
    "        if i == (len(predictions) - 1):\n",
    "            next_idx = i\n",
    "            next_next_idx = i\n",
    "        if i == (len(predictions) - 2):\n",
    "            next_idx = i + 1\n",
    "            next_next_idx = i + 1\n",
    "\n",
    "        next_prediction = predictions[next_idx]\n",
    "        next_next_prediction = predictions[next_next_idx]\n",
    "\n",
    "        if r == 1 and p == 1:\n",
    "            exact_matches += 1\n",
    "            continue\n",
    "        if r == 1:\n",
    "            if prev_prediction == 1 or next_prediction == 1:\n",
    "                very_close_matches += 1\n",
    "                continue\n",
    "            if prev_prev_prediction == 1 or next_next_prediction == 1:\n",
    "                close_matches += 1\n",
    "                continue\n",
    "            continue\n",
    "\n",
    "    return exact_matches, very_close_matches, close_matches"
   ]
  },
  {
   "cell_type": "code",
   "execution_count": 73,
   "id": "cf7dc7a4",
   "metadata": {},
   "outputs": [
    {
     "data": {
      "application/javascript": [
       "\n",
       "            setTimeout(function() {\n",
       "                var nbb_cell_id = 73;\n",
       "                var nbb_unformatted_code = \"exact_matches, close_matches, very_close_matches = check_proximity(predictions, real)\";\n",
       "                var nbb_formatted_code = \"exact_matches, close_matches, very_close_matches = check_proximity(predictions, real)\";\n",
       "                var nbb_cells = Jupyter.notebook.get_cells();\n",
       "                for (var i = 0; i < nbb_cells.length; ++i) {\n",
       "                    if (nbb_cells[i].input_prompt_number == nbb_cell_id) {\n",
       "                        if (nbb_cells[i].get_text() == nbb_unformatted_code) {\n",
       "                             nbb_cells[i].set_text(nbb_formatted_code);\n",
       "                        }\n",
       "                        break;\n",
       "                    }\n",
       "                }\n",
       "            }, 500);\n",
       "            "
      ],
      "text/plain": [
       "<IPython.core.display.Javascript object>"
      ]
     },
     "metadata": {},
     "output_type": "display_data"
    }
   ],
   "source": [
    "exact_matches, close_matches, very_close_matches = check_proximity(predictions, real)"
   ]
  },
  {
   "cell_type": "code",
   "execution_count": 74,
   "id": "7ffe5443",
   "metadata": {},
   "outputs": [
    {
     "data": {
      "text/plain": [
       "(11, 0, 1, 15, 39)"
      ]
     },
     "execution_count": 74,
     "metadata": {},
     "output_type": "execute_result"
    },
    {
     "data": {
      "application/javascript": [
       "\n",
       "            setTimeout(function() {\n",
       "                var nbb_cell_id = 74;\n",
       "                var nbb_unformatted_code = \"exact_matches, close_matches, very_close_matches, predictions.count(1), real.count(1)\";\n",
       "                var nbb_formatted_code = \"exact_matches, close_matches, very_close_matches, predictions.count(1), real.count(1)\";\n",
       "                var nbb_cells = Jupyter.notebook.get_cells();\n",
       "                for (var i = 0; i < nbb_cells.length; ++i) {\n",
       "                    if (nbb_cells[i].input_prompt_number == nbb_cell_id) {\n",
       "                        if (nbb_cells[i].get_text() == nbb_unformatted_code) {\n",
       "                             nbb_cells[i].set_text(nbb_formatted_code);\n",
       "                        }\n",
       "                        break;\n",
       "                    }\n",
       "                }\n",
       "            }, 500);\n",
       "            "
      ],
      "text/plain": [
       "<IPython.core.display.Javascript object>"
      ]
     },
     "metadata": {},
     "output_type": "display_data"
    }
   ],
   "source": [
    "exact_matches, close_matches, very_close_matches, predictions.count(1), real.count(1)"
   ]
  },
  {
   "cell_type": "code",
   "execution_count": 75,
   "id": "0afbe995",
   "metadata": {},
   "outputs": [
    {
     "data": {
      "application/javascript": [
       "\n",
       "            setTimeout(function() {\n",
       "                var nbb_cell_id = 75;\n",
       "                var nbb_unformatted_code = \"num_positive_predictions = predictions.count(1)\\nnum_real_positives = real.count(1)\";\n",
       "                var nbb_formatted_code = \"num_positive_predictions = predictions.count(1)\\nnum_real_positives = real.count(1)\";\n",
       "                var nbb_cells = Jupyter.notebook.get_cells();\n",
       "                for (var i = 0; i < nbb_cells.length; ++i) {\n",
       "                    if (nbb_cells[i].input_prompt_number == nbb_cell_id) {\n",
       "                        if (nbb_cells[i].get_text() == nbb_unformatted_code) {\n",
       "                             nbb_cells[i].set_text(nbb_formatted_code);\n",
       "                        }\n",
       "                        break;\n",
       "                    }\n",
       "                }\n",
       "            }, 500);\n",
       "            "
      ],
      "text/plain": [
       "<IPython.core.display.Javascript object>"
      ]
     },
     "metadata": {},
     "output_type": "display_data"
    }
   ],
   "source": [
    "num_positive_predictions = predictions.count(1)\n",
    "num_real_positives = real.count(1)"
   ]
  },
  {
   "cell_type": "code",
   "execution_count": 76,
   "id": "15757d94",
   "metadata": {},
   "outputs": [
    {
     "name": "stdout",
     "output_type": "stream",
     "text": [
      "Predictions ----->\n",
      "Percentage of positive predictions made that are within proximity of 2: 0.0\n",
      "Percentage of positive predictions made that are within proximity of 1: 6.666666666666667\n",
      "Percentage of positive predictions made that are exact matches: 73.33333333333333\n",
      "Real ----->\n",
      "Percentage of positive predictions made that are within proximity of 2: 0.0\n",
      "Percentage of positive predictions made that are within proximity of 1: 2.5641025641025643\n",
      "Percentage of positive predictions made that are exact matches: 28.205128205128204\n"
     ]
    },
    {
     "data": {
      "application/javascript": [
       "\n",
       "            setTimeout(function() {\n",
       "                var nbb_cell_id = 76;\n",
       "                var nbb_unformatted_code = \"print(\\\"Predictions ----->\\\")\\nprint(\\n    f\\\"Percentage of positive predictions made that are within proximity of 2: {100*close_matches/num_positive_predictions}\\\"\\n)\\nprint(\\n    f\\\"Percentage of positive predictions made that are within proximity of 1: {100*very_close_matches/num_positive_predictions}\\\"\\n)\\nprint(\\n    f\\\"Percentage of positive predictions made that are exact matches: {100*exact_matches/num_positive_predictions}\\\"\\n)\\nprint(\\\"Real ----->\\\")\\nprint(\\n    f\\\"Percentage of positive predictions made that are within proximity of 2: {100*close_matches/num_real_positives}\\\"\\n)\\nprint(\\n    f\\\"Percentage of positive predictions made that are within proximity of 1: {100*very_close_matches/num_real_positives}\\\"\\n)\\nprint(\\n    f\\\"Percentage of positive predictions made that are exact matches: {100*exact_matches/num_real_positives}\\\"\\n)\";\n",
       "                var nbb_formatted_code = \"print(\\\"Predictions ----->\\\")\\nprint(\\n    f\\\"Percentage of positive predictions made that are within proximity of 2: {100*close_matches/num_positive_predictions}\\\"\\n)\\nprint(\\n    f\\\"Percentage of positive predictions made that are within proximity of 1: {100*very_close_matches/num_positive_predictions}\\\"\\n)\\nprint(\\n    f\\\"Percentage of positive predictions made that are exact matches: {100*exact_matches/num_positive_predictions}\\\"\\n)\\nprint(\\\"Real ----->\\\")\\nprint(\\n    f\\\"Percentage of positive predictions made that are within proximity of 2: {100*close_matches/num_real_positives}\\\"\\n)\\nprint(\\n    f\\\"Percentage of positive predictions made that are within proximity of 1: {100*very_close_matches/num_real_positives}\\\"\\n)\\nprint(\\n    f\\\"Percentage of positive predictions made that are exact matches: {100*exact_matches/num_real_positives}\\\"\\n)\";\n",
       "                var nbb_cells = Jupyter.notebook.get_cells();\n",
       "                for (var i = 0; i < nbb_cells.length; ++i) {\n",
       "                    if (nbb_cells[i].input_prompt_number == nbb_cell_id) {\n",
       "                        if (nbb_cells[i].get_text() == nbb_unformatted_code) {\n",
       "                             nbb_cells[i].set_text(nbb_formatted_code);\n",
       "                        }\n",
       "                        break;\n",
       "                    }\n",
       "                }\n",
       "            }, 500);\n",
       "            "
      ],
      "text/plain": [
       "<IPython.core.display.Javascript object>"
      ]
     },
     "metadata": {},
     "output_type": "display_data"
    }
   ],
   "source": [
    "print(\"Predictions ----->\")\n",
    "print(\n",
    "    f\"Percentage of positive predictions made that are within proximity of 2: {100*close_matches/num_positive_predictions}\"\n",
    ")\n",
    "print(\n",
    "    f\"Percentage of positive predictions made that are within proximity of 1: {100*very_close_matches/num_positive_predictions}\"\n",
    ")\n",
    "print(\n",
    "    f\"Percentage of positive predictions made that are exact matches: {100*exact_matches/num_positive_predictions}\"\n",
    ")\n",
    "print(\"Real ----->\")\n",
    "print(\n",
    "    f\"Percentage of real predictions made that are within proximity of 2: {100*close_matches/num_real_positives}\"\n",
    ")\n",
    "print(\n",
    "    f\"Percentage of real predictions made that are within proximity of 1: {100*very_close_matches/num_real_positives}\"\n",
    ")\n",
    "print(\n",
    "    f\"Percentage of real predictions made that are exact matches: {100*exact_matches/num_real_positives}\"\n",
    ")"
   ]
  },
  {
   "cell_type": "code",
   "execution_count": 82,
   "id": "e41f187b",
   "metadata": {},
   "outputs": [
    {
     "data": {
      "application/javascript": [
       "\n",
       "            setTimeout(function() {\n",
       "                var nbb_cell_id = 82;\n",
       "                var nbb_unformatted_code = \"proximity = (\\n    (1 / 3 * (close_matches / num_real_positives))\\n    + (1 / 2 * (very_close_matches / num_real_positives))\\n    + (exact_matches / num_real_positives)\\n) / (\\n    (1 / 3 * (close_matches / num_positive_predictions))\\n    + (1 / 2 * (very_close_matches / num_positive_predictions))\\n    + (exact_matches / num_positive_predictions)\\n)\";\n",
       "                var nbb_formatted_code = \"proximity = (\\n    (1 / 3 * (close_matches / num_real_positives))\\n    + (1 / 2 * (very_close_matches / num_real_positives))\\n    + (exact_matches / num_real_positives)\\n) / (\\n    (1 / 3 * (close_matches / num_positive_predictions))\\n    + (1 / 2 * (very_close_matches / num_positive_predictions))\\n    + (exact_matches / num_positive_predictions)\\n)\";\n",
       "                var nbb_cells = Jupyter.notebook.get_cells();\n",
       "                for (var i = 0; i < nbb_cells.length; ++i) {\n",
       "                    if (nbb_cells[i].input_prompt_number == nbb_cell_id) {\n",
       "                        if (nbb_cells[i].get_text() == nbb_unformatted_code) {\n",
       "                             nbb_cells[i].set_text(nbb_formatted_code);\n",
       "                        }\n",
       "                        break;\n",
       "                    }\n",
       "                }\n",
       "            }, 500);\n",
       "            "
      ],
      "text/plain": [
       "<IPython.core.display.Javascript object>"
      ]
     },
     "metadata": {},
     "output_type": "display_data"
    }
   ],
   "source": [
    "proximity = (\n",
    "    (1 / 3 * (close_matches / num_real_positives))\n",
    "    + (1 / 2 * (very_close_matches / num_real_positives))\n",
    "    + (exact_matches / num_real_positives)\n",
    ") / (\n",
    "    (1 / 3 * (close_matches / num_positive_predictions))\n",
    "    + (1 / 2 * (very_close_matches / num_positive_predictions))\n",
    "    + (exact_matches / num_positive_predictions)\n",
    ")"
   ]
  },
  {
   "cell_type": "code",
   "execution_count": 84,
   "id": "e02b8584",
   "metadata": {},
   "outputs": [
    {
     "data": {
      "text/plain": [
       "0.38461538461538464"
      ]
     },
     "execution_count": 84,
     "metadata": {},
     "output_type": "execute_result"
    },
    {
     "data": {
      "application/javascript": [
       "\n",
       "            setTimeout(function() {\n",
       "                var nbb_cell_id = 84;\n",
       "                var nbb_unformatted_code = \"proximity\";\n",
       "                var nbb_formatted_code = \"proximity\";\n",
       "                var nbb_cells = Jupyter.notebook.get_cells();\n",
       "                for (var i = 0; i < nbb_cells.length; ++i) {\n",
       "                    if (nbb_cells[i].input_prompt_number == nbb_cell_id) {\n",
       "                        if (nbb_cells[i].get_text() == nbb_unformatted_code) {\n",
       "                             nbb_cells[i].set_text(nbb_formatted_code);\n",
       "                        }\n",
       "                        break;\n",
       "                    }\n",
       "                }\n",
       "            }, 500);\n",
       "            "
      ],
      "text/plain": [
       "<IPython.core.display.Javascript object>"
      ]
     },
     "metadata": {},
     "output_type": "display_data"
    }
   ],
   "source": [
    "proximity"
   ]
  },
  {
   "cell_type": "code",
   "execution_count": 90,
   "id": "7505798e",
   "metadata": {},
   "outputs": [
    {
     "data": {
      "text/plain": [
       "(39, 15, 0.2948717948717949, 0.7666666666666666)"
      ]
     },
     "execution_count": 90,
     "metadata": {},
     "output_type": "execute_result"
    },
    {
     "data": {
      "application/javascript": [
       "\n",
       "            setTimeout(function() {\n",
       "                var nbb_cell_id = 90;\n",
       "                var nbb_unformatted_code = \"numerator = (\\n    (1 / 3 * (close_matches / num_real_positives))\\n    + (1 / 2 * (very_close_matches / num_real_positives))\\n    + (exact_matches / num_real_positives)\\n)\\n\\ndenominator = (\\n    (1 / 3 * (close_matches / num_positive_predictions))\\n    + (1 / 2 * (very_close_matches / num_positive_predictions))\\n    + (exact_matches / num_positive_predictions)\\n)\\n\\nnum_real_positives, num_positive_predictions, numerator, denominator\";\n",
       "                var nbb_formatted_code = \"numerator = (\\n    (1 / 3 * (close_matches / num_real_positives))\\n    + (1 / 2 * (very_close_matches / num_real_positives))\\n    + (exact_matches / num_real_positives)\\n)\\n\\ndenominator = (\\n    (1 / 3 * (close_matches / num_positive_predictions))\\n    + (1 / 2 * (very_close_matches / num_positive_predictions))\\n    + (exact_matches / num_positive_predictions)\\n)\\n\\nnum_real_positives, num_positive_predictions, numerator, denominator\";\n",
       "                var nbb_cells = Jupyter.notebook.get_cells();\n",
       "                for (var i = 0; i < nbb_cells.length; ++i) {\n",
       "                    if (nbb_cells[i].input_prompt_number == nbb_cell_id) {\n",
       "                        if (nbb_cells[i].get_text() == nbb_unformatted_code) {\n",
       "                             nbb_cells[i].set_text(nbb_formatted_code);\n",
       "                        }\n",
       "                        break;\n",
       "                    }\n",
       "                }\n",
       "            }, 500);\n",
       "            "
      ],
      "text/plain": [
       "<IPython.core.display.Javascript object>"
      ]
     },
     "metadata": {},
     "output_type": "display_data"
    }
   ],
   "source": [
    "numerator = (\n",
    "    (1 / 3 * (close_matches / num_real_positives))\n",
    "    + (1 / 2 * (very_close_matches / num_real_positives))\n",
    "    + (exact_matches / num_real_positives)\n",
    ")\n",
    "\n",
    "denominator = (\n",
    "    (1 / 3 * (close_matches / num_positive_predictions))\n",
    "    + (1 / 2 * (very_close_matches / num_positive_predictions))\n",
    "    + (exact_matches / num_positive_predictions)\n",
    ")\n",
    "\n",
    "num_real_positives, num_positive_predictions, numerator, denominator"
   ]
  },
  {
   "cell_type": "code",
   "execution_count": 92,
   "id": "dbe18e59",
   "metadata": {},
   "outputs": [
    {
     "data": {
      "text/plain": [
       "(0.22606837606837607, 2.5999999999999996)"
      ]
     },
     "execution_count": 92,
     "metadata": {},
     "output_type": "execute_result"
    },
    {
     "data": {
      "application/javascript": [
       "\n",
       "            setTimeout(function() {\n",
       "                var nbb_cell_id = 92;\n",
       "                var nbb_unformatted_code = \"numerator * denominator, denominator / numerator\";\n",
       "                var nbb_formatted_code = \"numerator * denominator, denominator / numerator\";\n",
       "                var nbb_cells = Jupyter.notebook.get_cells();\n",
       "                for (var i = 0; i < nbb_cells.length; ++i) {\n",
       "                    if (nbb_cells[i].input_prompt_number == nbb_cell_id) {\n",
       "                        if (nbb_cells[i].get_text() == nbb_unformatted_code) {\n",
       "                             nbb_cells[i].set_text(nbb_formatted_code);\n",
       "                        }\n",
       "                        break;\n",
       "                    }\n",
       "                }\n",
       "            }, 500);\n",
       "            "
      ],
      "text/plain": [
       "<IPython.core.display.Javascript object>"
      ]
     },
     "metadata": {},
     "output_type": "display_data"
    }
   ],
   "source": [
    "numerator * denominator, denominator / numerator"
   ]
  },
  {
   "cell_type": "code",
   "execution_count": null,
   "id": "d668615e",
   "metadata": {},
   "outputs": [],
   "source": []
  }
 ],
 "metadata": {
  "kernelspec": {
   "display_name": "Python 3 (ipykernel)",
   "language": "python",
   "name": "python3"
  },
  "language_info": {
   "codemirror_mode": {
    "name": "ipython",
    "version": 3
   },
   "file_extension": ".py",
   "mimetype": "text/x-python",
   "name": "python",
   "nbconvert_exporter": "python",
   "pygments_lexer": "ipython3",
   "version": "3.8.13"
  }
 },
 "nbformat": 4,
 "nbformat_minor": 5
}
