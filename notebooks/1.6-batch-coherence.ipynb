{
 "cells": [
  {
   "cell_type": "code",
   "execution_count": 34,
   "id": "23482949",
   "metadata": {},
   "outputs": [
    {
     "name": "stdout",
     "output_type": "stream",
     "text": [
      "The autoreload extension is already loaded. To reload it, use:\n",
      "  %reload_ext autoreload\n",
      "The nb_black extension is already loaded. To reload it, use:\n",
      "  %reload_ext nb_black\n"
     ]
    },
    {
     "data": {
      "application/javascript": [
       "\n",
       "            setTimeout(function() {\n",
       "                var nbb_cell_id = 34;\n",
       "                var nbb_unformatted_code = \"# Run if working locally\\n%load_ext autoreload\\n%autoreload 2\\n%load_ext nb_black\";\n",
       "                var nbb_formatted_code = \"# Run if working locally\\n%load_ext autoreload\\n%autoreload 2\\n%load_ext nb_black\";\n",
       "                var nbb_cells = Jupyter.notebook.get_cells();\n",
       "                for (var i = 0; i < nbb_cells.length; ++i) {\n",
       "                    if (nbb_cells[i].input_prompt_number == nbb_cell_id) {\n",
       "                        if (nbb_cells[i].get_text() == nbb_unformatted_code) {\n",
       "                             nbb_cells[i].set_text(nbb_formatted_code);\n",
       "                        }\n",
       "                        break;\n",
       "                    }\n",
       "                }\n",
       "            }, 500);\n",
       "            "
      ],
      "text/plain": [
       "<IPython.core.display.Javascript object>"
      ]
     },
     "metadata": {},
     "output_type": "display_data"
    }
   ],
   "source": [
    "# Run if working locally\n",
    "%load_ext autoreload\n",
    "%autoreload 2\n",
    "%load_ext nb_black"
   ]
  },
  {
   "cell_type": "code",
   "execution_count": 35,
   "id": "ca476670",
   "metadata": {},
   "outputs": [
    {
     "data": {
      "application/javascript": [
       "\n",
       "            setTimeout(function() {\n",
       "                var nbb_cell_id = 35;\n",
       "                var nbb_unformatted_code = \"import sqlite3\\nfrom sqlite3 import Error\\nimport pickle\\nimport os, sys\\nimport config\\n\\nconfig.root_path = os.path.abspath(os.path.join(os.getcwd(), \\\"..\\\"))\\nsys.path.insert(0, config.root_path)\\n\\nfrom src.dataset.dataset import RawData\\nfrom src.dataset.wikisection_preprocessing import (\\n    tokenize,\\n    clean_sentence,\\n    preprocess_text_segmentation,\\n    format_data_for_db_insertion,\\n)\\nfrom src.dataset.utils import truncate_by_token\\nfrom db.dbv2 import Table, AugmentedTable, TrainTestTable\\nimport pprint\\n\\n\\nfrom utils.metrics import windowdiff, pk\\n\\nfrom src.bertkeywords.src.similarities import Embedding, Similarities\\nfrom src.bertkeywords.src.keywords import Keywords\\nfrom src.encoders.coherence_v2 import Coherence\\nfrom src.dataset.utils import flatten, dedupe_list, truncate_string\\nfrom src.experimentation.coherence_v2 import SimpleExperiment, CoherenceExperiment\";\n",
       "                var nbb_formatted_code = \"import sqlite3\\nfrom sqlite3 import Error\\nimport pickle\\nimport os, sys\\nimport config\\n\\nconfig.root_path = os.path.abspath(os.path.join(os.getcwd(), \\\"..\\\"))\\nsys.path.insert(0, config.root_path)\\n\\nfrom src.dataset.dataset import RawData\\nfrom src.dataset.wikisection_preprocessing import (\\n    tokenize,\\n    clean_sentence,\\n    preprocess_text_segmentation,\\n    format_data_for_db_insertion,\\n)\\nfrom src.dataset.utils import truncate_by_token\\nfrom db.dbv2 import Table, AugmentedTable, TrainTestTable\\nimport pprint\\n\\n\\nfrom utils.metrics import windowdiff, pk\\n\\nfrom src.bertkeywords.src.similarities import Embedding, Similarities\\nfrom src.bertkeywords.src.keywords import Keywords\\nfrom src.encoders.coherence_v2 import Coherence\\nfrom src.dataset.utils import flatten, dedupe_list, truncate_string\\nfrom src.experimentation.coherence_v2 import SimpleExperiment, CoherenceExperiment\";\n",
       "                var nbb_cells = Jupyter.notebook.get_cells();\n",
       "                for (var i = 0; i < nbb_cells.length; ++i) {\n",
       "                    if (nbb_cells[i].input_prompt_number == nbb_cell_id) {\n",
       "                        if (nbb_cells[i].get_text() == nbb_unformatted_code) {\n",
       "                             nbb_cells[i].set_text(nbb_formatted_code);\n",
       "                        }\n",
       "                        break;\n",
       "                    }\n",
       "                }\n",
       "            }, 500);\n",
       "            "
      ],
      "text/plain": [
       "<IPython.core.display.Javascript object>"
      ]
     },
     "metadata": {},
     "output_type": "display_data"
    }
   ],
   "source": [
    "import sqlite3\n",
    "from sqlite3 import Error\n",
    "import pickle\n",
    "import os, sys\n",
    "import config\n",
    "\n",
    "config.root_path = os.path.abspath(os.path.join(os.getcwd(), \"..\"))\n",
    "sys.path.insert(0, config.root_path)\n",
    "\n",
    "from src.dataset.dataset import RawData\n",
    "from src.dataset.wikisection_preprocessing import (\n",
    "    tokenize,\n",
    "    clean_sentence,\n",
    "    preprocess_text_segmentation,\n",
    "    format_data_for_db_insertion,\n",
    ")\n",
    "from src.dataset.utils import truncate_by_token\n",
    "from db.dbv2 import Table, AugmentedTable, TrainTestTable\n",
    "import pprint\n",
    "\n",
    "\n",
    "from utils.metrics import windowdiff, pk\n",
    "\n",
    "from src.bertkeywords.src.similarities import Embedding, Similarities\n",
    "from src.bertkeywords.src.keywords import Keywords\n",
    "from src.encoders.coherence_v2 import Coherence\n",
    "from src.dataset.utils import flatten, dedupe_list, truncate_string\n",
    "from src.experimentation.coherence_v2 import SimpleExperiment, CoherenceExperiment"
   ]
  },
  {
   "cell_type": "code",
   "execution_count": 98,
   "id": "8b71ba8b",
   "metadata": {},
   "outputs": [
    {
     "data": {
      "application/javascript": [
       "\n",
       "            setTimeout(function() {\n",
       "                var nbb_cell_id = 98;\n",
       "                var nbb_unformatted_code = \"experimentation = SimpleExperiment()\\n\\nexperimentation.queue_experiment(\\n    CoherenceExperiment(\\n        dataset_type=\\\"city\\\",\\n        #         model_string=\\\"bert-base-uncased\\\",\\n        model_string=\\\"sentence-transformers/all-MiniLM-L6-v2\\\",\\n        #         model_string=\\\"sentence-transformers/LaBSE\\\",\\n        max_words_per_step=4,\\n        start=100,\\n        num_samples=25,\\n        same_word_multiplier=1,\\n        no_same_word_penalty=1,\\n        kb_embeddings=True,\\n        coherence_dump_on_prediction=False,\\n        coherence_threshold=0.2,\\n        prediction_threshold=0.47,\\n        pruning=1,\\n        pruning_min=7,\\n        batch_size=7,\\n        print_metrics_summary=True,\\n        print_predictions_summary=True,\\n        keyword_diversity=0.2,\\n    )\\n)\";\n",
       "                var nbb_formatted_code = \"experimentation = SimpleExperiment()\\n\\nexperimentation.queue_experiment(\\n    CoherenceExperiment(\\n        dataset_type=\\\"city\\\",\\n        #         model_string=\\\"bert-base-uncased\\\",\\n        model_string=\\\"sentence-transformers/all-MiniLM-L6-v2\\\",\\n        #         model_string=\\\"sentence-transformers/LaBSE\\\",\\n        max_words_per_step=4,\\n        start=100,\\n        num_samples=25,\\n        same_word_multiplier=1,\\n        no_same_word_penalty=1,\\n        kb_embeddings=True,\\n        coherence_dump_on_prediction=False,\\n        coherence_threshold=0.2,\\n        prediction_threshold=0.47,\\n        pruning=1,\\n        pruning_min=7,\\n        batch_size=7,\\n        print_metrics_summary=True,\\n        print_predictions_summary=True,\\n        keyword_diversity=0.2,\\n    )\\n)\";\n",
       "                var nbb_cells = Jupyter.notebook.get_cells();\n",
       "                for (var i = 0; i < nbb_cells.length; ++i) {\n",
       "                    if (nbb_cells[i].input_prompt_number == nbb_cell_id) {\n",
       "                        if (nbb_cells[i].get_text() == nbb_unformatted_code) {\n",
       "                             nbb_cells[i].set_text(nbb_formatted_code);\n",
       "                        }\n",
       "                        break;\n",
       "                    }\n",
       "                }\n",
       "            }, 500);\n",
       "            "
      ],
      "text/plain": [
       "<IPython.core.display.Javascript object>"
      ]
     },
     "metadata": {},
     "output_type": "display_data"
    }
   ],
   "source": [
    "experimentation = SimpleExperiment()\n",
    "\n",
    "experimentation.queue_experiment(\n",
    "    CoherenceExperiment(\n",
    "        dataset_type=\"city\",\n",
    "        #         model_string=\"bert-base-uncased\",\n",
    "        model_string=\"sentence-transformers/all-MiniLM-L6-v2\",\n",
    "        #         model_string=\"sentence-transformers/LaBSE\",\n",
    "        max_words_per_step=4,\n",
    "        start=100,\n",
    "        num_samples=25,\n",
    "        same_word_multiplier=1,\n",
    "        no_same_word_penalty=1,\n",
    "        kb_embeddings=True,\n",
    "        coherence_dump_on_prediction=False,\n",
    "        coherence_threshold=0.2,\n",
    "        prediction_threshold=0.47,\n",
    "        pruning=1,\n",
    "        pruning_min=7,\n",
    "        batch_size=7,\n",
    "        print_metrics_summary=True,\n",
    "        print_predictions_summary=True,\n",
    "        keyword_diversity=0.2,\n",
    "    )\n",
    ")"
   ]
  },
  {
   "cell_type": "code",
   "execution_count": 99,
   "id": "b57a9097",
   "metadata": {},
   "outputs": [
    {
     "name": "stdout",
     "output_type": "stream",
     "text": [
      "Running experiment set: Wcsdv\n",
      "Running experiment: CoherenceExperiment(num_samples=25, start=100, dataset_type='city', model_string='sentence-transformers/all-MiniLM-L6-v2', max_words_per_step=4, same_word_multiplier=1, no_same_word_penalty=1, prediction_threshold=0.47, coherence_threshold=0.2, coherence_dump_on_prediction=False, pruning=1, pruning_min=7, dynamic_threshold=False, threshold_warmup=10, last_n_threshold=5, kb_embeddings=True, experiment_hash='VmeEg', batch_size=7, keyword_diversity=0.2, print_metrics_summary=True, print_predictions_summary=True)\n"
     ]
    },
    {
     "name": "stderr",
     "output_type": "stream",
     "text": [
      "No sentence-transformers model found with name /Users/amitmaraj/.cache/torch/sentence_transformers/bert-base-uncased. Creating a new one with MEAN pooling.\n",
      "Some weights of the model checkpoint at /Users/amitmaraj/.cache/torch/sentence_transformers/bert-base-uncased were not used when initializing BertModel: ['cls.predictions.transform.LayerNorm.weight', 'cls.predictions.transform.LayerNorm.bias', 'cls.predictions.decoder.weight', 'cls.predictions.transform.dense.bias', 'cls.seq_relationship.weight', 'cls.predictions.bias', 'cls.seq_relationship.bias', 'cls.predictions.transform.dense.weight']\n",
      "- This IS expected if you are initializing BertModel from the checkpoint of a model trained on another task or with another architecture (e.g. initializing a BertForSequenceClassification model from a BertForPreTraining model).\n",
      "- This IS NOT expected if you are initializing BertModel from the checkpoint of a model that you expect to be exactly identical (initializing a BertForSequenceClassification model from a BertForSequenceClassification model).\n"
     ]
    },
    {
     "name": "stdout",
     "output_type": "stream",
     "text": [
      "...... - CM Length: [4, 4, 4, 4, 4, 4] 1....... - CM Length: [4, 4, 4, 4, 4, 4] 2....... - CM Length: [4, 4, 4, 4, 4, 4] 3\n",
      "============= Metrics Summary =============\n",
      "prediction threshold: 0.4\n",
      "pk score: 0.2033898305084746\n",
      "wd score: 0.2033898305084746\n",
      "confusion: f1-0.8095238095238095, tp-0, fp-1, tn-17, fn-3\n",
      "==========================\n",
      "prediction threshold: 0.41\n",
      "pk score: 0.2033898305084746\n",
      "wd score: 0.2033898305084746\n",
      "confusion: f1-0.8095238095238095, tp-0, fp-1, tn-17, fn-3\n",
      "==========================\n",
      "prediction threshold: 0.42\n",
      "pk score: 0.2033898305084746\n",
      "wd score: 0.2033898305084746\n",
      "confusion: f1-0.8095238095238095, tp-0, fp-1, tn-17, fn-3\n",
      "==========================\n",
      "prediction threshold: 0.43\n",
      "pk score: 0.2033898305084746\n",
      "wd score: 0.2033898305084746\n",
      "confusion: f1-0.8095238095238095, tp-0, fp-1, tn-17, fn-3\n",
      "==========================\n",
      "prediction threshold: 0.44\n",
      "pk score: 0.22033898305084745\n",
      "wd score: 0.22033898305084745\n",
      "confusion: f1-0.7619047619047619, tp-0, fp-2, tn-16, fn-3\n",
      "==========================\n",
      "prediction threshold: 0.45\n",
      "pk score: 0.1694915254237288\n",
      "wd score: 0.2033898305084746\n",
      "confusion: f1-0.8095238095238095, tp-1, fp-2, tn-16, fn-2\n",
      "==========================\n",
      "prediction threshold: 0.46\n",
      "pk score: 0.0847457627118644\n",
      "wd score: 0.15254237288135594\n",
      "confusion: f1-0.8571428571428571, tp-2, fp-2, tn-16, fn-1\n",
      "==========================\n",
      "prediction threshold: 0.47\n",
      "pk score: 0.0847457627118644\n",
      "wd score: 0.15254237288135594\n",
      "confusion: f1-0.8571428571428571, tp-2, fp-2, tn-16, fn-1\n",
      "==========================\n",
      "prediction threshold: 0.48\n",
      "pk score: 0.13559322033898305\n",
      "wd score: 0.23728813559322035\n",
      "confusion: f1-0.8095238095238095, tp-2, fp-3, tn-15, fn-1\n",
      "==========================\n",
      "prediction threshold: 0.49\n",
      "pk score: 0.2711864406779661\n",
      "wd score: 0.3728813559322034\n",
      "confusion: f1-0.7142857142857143, tp-2, fp-5, tn-13, fn-1\n",
      "==========================\n",
      "prediction threshold: 0.5\n",
      "pk score: 0.3728813559322034\n",
      "wd score: 0.4745762711864407\n",
      "confusion: f1-0.6190476190476191, tp-2, fp-7, tn-11, fn-1\n",
      "==========================\n",
      "prediction threshold: 0.51\n",
      "pk score: 0.4576271186440678\n",
      "wd score: 0.5254237288135594\n",
      "confusion: f1-0.6190476190476191, tp-3, fp-8, tn-10, fn-0\n",
      "==========================\n",
      "prediction threshold: 0.52\n",
      "pk score: 0.6610169491525424\n",
      "wd score: 0.7288135593220338\n",
      "confusion: f1-0.42857142857142855, tp-3, fp-12, tn-6, fn-0\n",
      "==========================\n",
      "prediction threshold: 0.53\n",
      "pk score: 0.6779661016949152\n",
      "wd score: 0.7457627118644068\n",
      "confusion: f1-0.38095238095238093, tp-3, fp-13, tn-5, fn-0\n",
      "==========================\n",
      "prediction threshold: 0.54\n",
      "pk score: 0.6779661016949152\n",
      "wd score: 0.7457627118644068\n",
      "confusion: f1-0.38095238095238093, tp-3, fp-13, tn-5, fn-0\n",
      "==========================\n",
      "prediction threshold: 0.55\n",
      "pk score: 0.711864406779661\n",
      "wd score: 0.7796610169491526\n",
      "confusion: f1-0.2857142857142857, tp-3, fp-15, tn-3, fn-0\n",
      "==========================\n",
      "prediction threshold: 0.56\n",
      "pk score: 0.711864406779661\n",
      "wd score: 0.7796610169491526\n",
      "confusion: f1-0.2857142857142857, tp-3, fp-15, tn-3, fn-0\n",
      "==========================\n",
      "prediction threshold: 0.57\n",
      "pk score: 0.711864406779661\n",
      "wd score: 0.7796610169491526\n",
      "confusion: f1-0.2857142857142857, tp-3, fp-15, tn-3, fn-0\n",
      "==========================\n",
      "prediction threshold: 0.58\n",
      "pk score: 0.711864406779661\n",
      "wd score: 0.7796610169491526\n",
      "confusion: f1-0.2857142857142857, tp-3, fp-15, tn-3, fn-0\n",
      "==========================\n",
      "prediction threshold: 0.59\n",
      "pk score: 0.7627118644067796\n",
      "wd score: 0.8305084745762712\n",
      "confusion: f1-0.23809523809523808, tp-3, fp-16, tn-2, fn-0\n",
      "==========================\n",
      "prediction threshold: 0.6\n",
      "pk score: 0.7627118644067796\n",
      "wd score: 0.8305084745762712\n",
      "confusion: f1-0.23809523809523808, tp-3, fp-16, tn-2, fn-0\n",
      "==========================\n",
      "============= Predictions Summary =============\n",
      "best pk: 0.0847457627118644, best prediction threshold: 0.46\n",
      "P:[1, 0, 0, 0, 0, 1, 1, 0, 0, 0, 0, 0, 0, 0, 0, 0, 0, 0, 0, 1, 0]\n",
      "R:[0, 0, 0, 0, 0, 1, 0, 0, 0, 0, 0, 0, 0, 0, 0, 0, 0, 0, 0, 1, 1]\n",
      "\n",
      "Experiment 1 - VmeEg complete.\n",
      "==============================================\n",
      "\n"
     ]
    },
    {
     "data": {
      "application/javascript": [
       "\n",
       "            setTimeout(function() {\n",
       "                var nbb_cell_id = 99;\n",
       "                var nbb_unformatted_code = \"experimentation.run()\";\n",
       "                var nbb_formatted_code = \"experimentation.run()\";\n",
       "                var nbb_cells = Jupyter.notebook.get_cells();\n",
       "                for (var i = 0; i < nbb_cells.length; ++i) {\n",
       "                    if (nbb_cells[i].input_prompt_number == nbb_cell_id) {\n",
       "                        if (nbb_cells[i].get_text() == nbb_unformatted_code) {\n",
       "                             nbb_cells[i].set_text(nbb_formatted_code);\n",
       "                        }\n",
       "                        break;\n",
       "                    }\n",
       "                }\n",
       "            }, 500);\n",
       "            "
      ],
      "text/plain": [
       "<IPython.core.display.Javascript object>"
      ]
     },
     "metadata": {},
     "output_type": "display_data"
    }
   ],
   "source": [
    "experimentation.run()"
   ]
  },
  {
   "cell_type": "code",
   "execution_count": null,
   "id": "c224e378",
   "metadata": {},
   "outputs": [],
   "source": []
  }
 ],
 "metadata": {
  "kernelspec": {
   "display_name": "Python 3 (ipykernel)",
   "language": "python",
   "name": "python3"
  },
  "language_info": {
   "codemirror_mode": {
    "name": "ipython",
    "version": 3
   },
   "file_extension": ".py",
   "mimetype": "text/x-python",
   "name": "python",
   "nbconvert_exporter": "python",
   "pygments_lexer": "ipython3",
   "version": "3.9.16"
  }
 },
 "nbformat": 4,
 "nbformat_minor": 5
}
