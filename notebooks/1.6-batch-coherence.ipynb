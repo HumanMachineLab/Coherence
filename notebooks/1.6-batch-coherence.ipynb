{
 "cells": [
  {
   "cell_type": "code",
   "execution_count": 33,
   "id": "23482949",
   "metadata": {},
   "outputs": [
    {
     "name": "stdout",
     "output_type": "stream",
     "text": [
      "The autoreload extension is already loaded. To reload it, use:\n",
      "  %reload_ext autoreload\n",
      "The nb_black extension is already loaded. To reload it, use:\n",
      "  %reload_ext nb_black\n"
     ]
    },
    {
     "data": {
      "application/javascript": [
       "\n",
       "            setTimeout(function() {\n",
       "                var nbb_cell_id = 33;\n",
       "                var nbb_unformatted_code = \"# Run if working locally\\n%load_ext autoreload\\n%autoreload 2\\n%load_ext nb_black\";\n",
       "                var nbb_formatted_code = \"# Run if working locally\\n%load_ext autoreload\\n%autoreload 2\\n%load_ext nb_black\";\n",
       "                var nbb_cells = Jupyter.notebook.get_cells();\n",
       "                for (var i = 0; i < nbb_cells.length; ++i) {\n",
       "                    if (nbb_cells[i].input_prompt_number == nbb_cell_id) {\n",
       "                        if (nbb_cells[i].get_text() == nbb_unformatted_code) {\n",
       "                             nbb_cells[i].set_text(nbb_formatted_code);\n",
       "                        }\n",
       "                        break;\n",
       "                    }\n",
       "                }\n",
       "            }, 500);\n",
       "            "
      ],
      "text/plain": [
       "<IPython.core.display.Javascript object>"
      ]
     },
     "metadata": {},
     "output_type": "display_data"
    }
   ],
   "source": [
    "# Run if working locally\n",
    "%load_ext autoreload\n",
    "%autoreload 2\n",
    "%load_ext nb_black"
   ]
  },
  {
   "cell_type": "code",
   "execution_count": 34,
   "id": "ca476670",
   "metadata": {},
   "outputs": [
    {
     "data": {
      "application/javascript": [
       "\n",
       "            setTimeout(function() {\n",
       "                var nbb_cell_id = 34;\n",
       "                var nbb_unformatted_code = \"import sqlite3\\nfrom sqlite3 import Error\\nimport pickle\\nimport os, sys\\nimport config\\n\\nconfig.root_path = os.path.abspath(os.path.join(os.getcwd(), \\\"..\\\"))\\nsys.path.insert(0, config.root_path)\\n\\nfrom src.dataset.dataset import RawData\\nfrom src.dataset.wikisection_preprocessing import (\\n    tokenize,\\n    clean_sentence,\\n    preprocess_text_segmentation,\\n    format_data_for_db_insertion,\\n)\\nfrom src.dataset.utils import truncate_by_token\\nfrom db.dbv2 import Table, AugmentedTable, TrainTestTable\\nimport pprint\\n\\n\\nfrom utils.metrics import windowdiff, pk\\n\\nfrom src.bertkeywords.src.similarities import Embedding, Similarities\\nfrom src.bertkeywords.src.keywords import Keywords\\nfrom src.encoders.coherence_v2 import Coherence\\nfrom src.dataset.utils import flatten, dedupe_list, truncate_string\\nfrom src.experimentation.coherence_v2 import SimpleExperiment, CoherenceExperiment\";\n",
       "                var nbb_formatted_code = \"import sqlite3\\nfrom sqlite3 import Error\\nimport pickle\\nimport os, sys\\nimport config\\n\\nconfig.root_path = os.path.abspath(os.path.join(os.getcwd(), \\\"..\\\"))\\nsys.path.insert(0, config.root_path)\\n\\nfrom src.dataset.dataset import RawData\\nfrom src.dataset.wikisection_preprocessing import (\\n    tokenize,\\n    clean_sentence,\\n    preprocess_text_segmentation,\\n    format_data_for_db_insertion,\\n)\\nfrom src.dataset.utils import truncate_by_token\\nfrom db.dbv2 import Table, AugmentedTable, TrainTestTable\\nimport pprint\\n\\n\\nfrom utils.metrics import windowdiff, pk\\n\\nfrom src.bertkeywords.src.similarities import Embedding, Similarities\\nfrom src.bertkeywords.src.keywords import Keywords\\nfrom src.encoders.coherence_v2 import Coherence\\nfrom src.dataset.utils import flatten, dedupe_list, truncate_string\\nfrom src.experimentation.coherence_v2 import SimpleExperiment, CoherenceExperiment\";\n",
       "                var nbb_cells = Jupyter.notebook.get_cells();\n",
       "                for (var i = 0; i < nbb_cells.length; ++i) {\n",
       "                    if (nbb_cells[i].input_prompt_number == nbb_cell_id) {\n",
       "                        if (nbb_cells[i].get_text() == nbb_unformatted_code) {\n",
       "                             nbb_cells[i].set_text(nbb_formatted_code);\n",
       "                        }\n",
       "                        break;\n",
       "                    }\n",
       "                }\n",
       "            }, 500);\n",
       "            "
      ],
      "text/plain": [
       "<IPython.core.display.Javascript object>"
      ]
     },
     "metadata": {},
     "output_type": "display_data"
    }
   ],
   "source": [
    "import sqlite3\n",
    "from sqlite3 import Error\n",
    "import pickle\n",
    "import os, sys\n",
    "import config\n",
    "\n",
    "config.root_path = os.path.abspath(os.path.join(os.getcwd(), \"..\"))\n",
    "sys.path.insert(0, config.root_path)\n",
    "\n",
    "from src.dataset.dataset import RawData\n",
    "from src.dataset.wikisection_preprocessing import (\n",
    "    tokenize,\n",
    "    clean_sentence,\n",
    "    preprocess_text_segmentation,\n",
    "    format_data_for_db_insertion,\n",
    ")\n",
    "from src.dataset.utils import truncate_by_token\n",
    "from db.dbv2 import Table, AugmentedTable, TrainTestTable\n",
    "import pprint\n",
    "\n",
    "\n",
    "from utils.metrics import windowdiff, pk\n",
    "\n",
    "from src.bertkeywords.src.similarities import Embedding, Similarities\n",
    "from src.bertkeywords.src.keywords import Keywords\n",
    "from src.encoders.coherence_v2 import Coherence\n",
    "from src.dataset.utils import flatten, dedupe_list, truncate_string\n",
    "from src.experimentation.coherence_v2 import SimpleExperiment, CoherenceExperiment"
   ]
  },
  {
   "cell_type": "code",
   "execution_count": 37,
   "id": "8b71ba8b",
   "metadata": {},
   "outputs": [
    {
     "data": {
      "application/javascript": [
       "\n",
       "            setTimeout(function() {\n",
       "                var nbb_cell_id = 37;\n",
       "                var nbb_unformatted_code = \"experimentation = SimpleExperiment()\\n\\n# constants\\nNUM_SAMPLES = 2000\\n#         MODEL_STRING=\\\"bert-base-uncased\\\",\\n#         MODEL_STRING=\\\"sentence-transformers/LaBSE\\\",\\nMODEL_STRING = \\\"roberta-base\\\"\\n# MODEL_STRING = \\\"sentence-transformers/all-MiniLM-L6-v2\\\"\\nGRAPHS = True\\nMETRICS_SUMMARY = False\\nPREDICTIONS_SUMMARY = True\\n\\n# ----------------------------------------------------\\n\\nexperimentation.queue_experiment(\\n    CoherenceExperiment(\\n        dataset_type=\\\"city\\\",\\n        model_string=MODEL_STRING,\\n        max_words_per_step=6,\\n        start=1000,\\n        num_samples=NUM_SAMPLES,\\n        same_word_multiplier=1,\\n        no_same_word_penalty=1,\\n        kb_embeddings=True,\\n        coherence_dump_on_prediction=False,\\n        coherence_threshold=0.3,\\n        prediction_threshold=0.47,\\n        pruning=1,\\n        pruning_min=7,\\n        batch_size=10,\\n        print_metrics_summary=METRICS_SUMMARY,\\n        print_predictions_summary=PREDICTIONS_SUMMARY,\\n        show_graphs=GRAPHS,\\n        keyword_diversity=0.3,\\n        diverse_keywords=True,\\n        similar_keywords=True,\\n    )\\n)\\n\\n\\nexperimentation.queue_experiment(\\n    CoherenceExperiment(\\n        dataset_type=\\\"disease\\\",\\n        model_string=MODEL_STRING,\\n        max_words_per_step=6,\\n        start=1000,\\n        num_samples=NUM_SAMPLES,\\n        same_word_multiplier=1,\\n        no_same_word_penalty=1,\\n        kb_embeddings=True,\\n        coherence_dump_on_prediction=False,\\n        coherence_threshold=0.3,\\n        prediction_threshold=0.47,\\n        pruning=1,\\n        pruning_min=7,\\n        batch_size=10,\\n        print_metrics_summary=METRICS_SUMMARY,\\n        print_predictions_summary=PREDICTIONS_SUMMARY,\\n        show_graphs=GRAPHS,\\n        keyword_diversity=0.3,\\n        diverse_keywords=True,\\n        similar_keywords=True,\\n    )\\n)\\n\\n\\n# experimentation.queue_experiment(\\n#     CoherenceExperiment(\\n#         dataset_type=\\\"city\\\",\\n#         model_string=MODEL_STRING,\\n#         max_words_per_step=4,\\n#         start=1000,\\n#         num_samples=NUM_SAMPLES,\\n#         same_word_multiplier=1,\\n#         no_same_word_penalty=1,\\n#         kb_embeddings=True,\\n#         coherence_dump_on_prediction=False,\\n#         coherence_threshold=0.3,\\n#         prediction_threshold=0.47,\\n#         pruning=1,\\n#         pruning_min=7,\\n#         batch_size=10,\\n#         print_metrics_summary=METRICS_SUMMARY,\\n#         print_predictions_summary=PREDICTIONS_SUMMARY,\\n#         show_graphs=GRAPHS,\\n#         keyword_diversity=0.3,\\n#         diverse_keywords=False,\\n#         similar_keywords=True,\\n#     )\\n# )\\n\\n# experimentation.queue_experiment(\\n#     CoherenceExperiment(\\n#         dataset_type=\\\"city\\\",\\n#         model_string=MODEL_STRING,\\n#         max_words_per_step=4,\\n#         start=1000,\\n#         num_samples=NUM_SAMPLES,\\n#         same_word_multiplier=1,\\n#         no_same_word_penalty=1,\\n#         kb_embeddings=True,\\n#         coherence_dump_on_prediction=False,\\n#         coherence_threshold=0.3,\\n#         prediction_threshold=0.47,\\n#         pruning=1,\\n#         pruning_min=7,\\n#         batch_size=10,\\n#         print_metrics_summary=METRICS_SUMMARY,\\n#         print_predictions_summary=PREDICTIONS_SUMMARY,\\n#         show_graphs=GRAPHS,\\n#         keyword_diversity=0.3,\\n#         diverse_keywords=True,\\n#         similar_keywords=False,\\n#     )\\n# )\";\n",
       "                var nbb_formatted_code = \"experimentation = SimpleExperiment()\\n\\n# constants\\nNUM_SAMPLES = 2000\\n#         MODEL_STRING=\\\"bert-base-uncased\\\",\\n#         MODEL_STRING=\\\"sentence-transformers/LaBSE\\\",\\nMODEL_STRING = \\\"roberta-base\\\"\\n# MODEL_STRING = \\\"sentence-transformers/all-MiniLM-L6-v2\\\"\\nGRAPHS = True\\nMETRICS_SUMMARY = False\\nPREDICTIONS_SUMMARY = True\\n\\n# ----------------------------------------------------\\n\\nexperimentation.queue_experiment(\\n    CoherenceExperiment(\\n        dataset_type=\\\"city\\\",\\n        model_string=MODEL_STRING,\\n        max_words_per_step=6,\\n        start=1000,\\n        num_samples=NUM_SAMPLES,\\n        same_word_multiplier=1,\\n        no_same_word_penalty=1,\\n        kb_embeddings=True,\\n        coherence_dump_on_prediction=False,\\n        coherence_threshold=0.3,\\n        prediction_threshold=0.47,\\n        pruning=1,\\n        pruning_min=7,\\n        batch_size=10,\\n        print_metrics_summary=METRICS_SUMMARY,\\n        print_predictions_summary=PREDICTIONS_SUMMARY,\\n        show_graphs=GRAPHS,\\n        keyword_diversity=0.3,\\n        diverse_keywords=True,\\n        similar_keywords=True,\\n    )\\n)\\n\\n\\nexperimentation.queue_experiment(\\n    CoherenceExperiment(\\n        dataset_type=\\\"disease\\\",\\n        model_string=MODEL_STRING,\\n        max_words_per_step=6,\\n        start=1000,\\n        num_samples=NUM_SAMPLES,\\n        same_word_multiplier=1,\\n        no_same_word_penalty=1,\\n        kb_embeddings=True,\\n        coherence_dump_on_prediction=False,\\n        coherence_threshold=0.3,\\n        prediction_threshold=0.47,\\n        pruning=1,\\n        pruning_min=7,\\n        batch_size=10,\\n        print_metrics_summary=METRICS_SUMMARY,\\n        print_predictions_summary=PREDICTIONS_SUMMARY,\\n        show_graphs=GRAPHS,\\n        keyword_diversity=0.3,\\n        diverse_keywords=True,\\n        similar_keywords=True,\\n    )\\n)\\n\\n\\n# experimentation.queue_experiment(\\n#     CoherenceExperiment(\\n#         dataset_type=\\\"city\\\",\\n#         model_string=MODEL_STRING,\\n#         max_words_per_step=4,\\n#         start=1000,\\n#         num_samples=NUM_SAMPLES,\\n#         same_word_multiplier=1,\\n#         no_same_word_penalty=1,\\n#         kb_embeddings=True,\\n#         coherence_dump_on_prediction=False,\\n#         coherence_threshold=0.3,\\n#         prediction_threshold=0.47,\\n#         pruning=1,\\n#         pruning_min=7,\\n#         batch_size=10,\\n#         print_metrics_summary=METRICS_SUMMARY,\\n#         print_predictions_summary=PREDICTIONS_SUMMARY,\\n#         show_graphs=GRAPHS,\\n#         keyword_diversity=0.3,\\n#         diverse_keywords=False,\\n#         similar_keywords=True,\\n#     )\\n# )\\n\\n# experimentation.queue_experiment(\\n#     CoherenceExperiment(\\n#         dataset_type=\\\"city\\\",\\n#         model_string=MODEL_STRING,\\n#         max_words_per_step=4,\\n#         start=1000,\\n#         num_samples=NUM_SAMPLES,\\n#         same_word_multiplier=1,\\n#         no_same_word_penalty=1,\\n#         kb_embeddings=True,\\n#         coherence_dump_on_prediction=False,\\n#         coherence_threshold=0.3,\\n#         prediction_threshold=0.47,\\n#         pruning=1,\\n#         pruning_min=7,\\n#         batch_size=10,\\n#         print_metrics_summary=METRICS_SUMMARY,\\n#         print_predictions_summary=PREDICTIONS_SUMMARY,\\n#         show_graphs=GRAPHS,\\n#         keyword_diversity=0.3,\\n#         diverse_keywords=True,\\n#         similar_keywords=False,\\n#     )\\n# )\";\n",
       "                var nbb_cells = Jupyter.notebook.get_cells();\n",
       "                for (var i = 0; i < nbb_cells.length; ++i) {\n",
       "                    if (nbb_cells[i].input_prompt_number == nbb_cell_id) {\n",
       "                        if (nbb_cells[i].get_text() == nbb_unformatted_code) {\n",
       "                             nbb_cells[i].set_text(nbb_formatted_code);\n",
       "                        }\n",
       "                        break;\n",
       "                    }\n",
       "                }\n",
       "            }, 500);\n",
       "            "
      ],
      "text/plain": [
       "<IPython.core.display.Javascript object>"
      ]
     },
     "metadata": {},
     "output_type": "display_data"
    }
   ],
   "source": [
    "experimentation = SimpleExperiment()\n",
    "\n",
    "# constants\n",
    "NUM_SAMPLES = 2000\n",
    "#         MODEL_STRING=\"bert-base-uncased\",\n",
    "#         MODEL_STRING=\"sentence-transformers/LaBSE\",\n",
    "MODEL_STRING = \"roberta-base\"\n",
    "# MODEL_STRING = \"sentence-transformers/all-MiniLM-L6-v2\"\n",
    "GRAPHS = True\n",
    "METRICS_SUMMARY = False\n",
    "PREDICTIONS_SUMMARY = True\n",
    "\n",
    "# ----------------------------------------------------\n",
    "\n",
    "experimentation.queue_experiment(\n",
    "    CoherenceExperiment(\n",
    "        dataset_type=\"city\",\n",
    "        model_string=MODEL_STRING,\n",
    "        max_words_per_step=6,\n",
    "        start=1000,\n",
    "        num_samples=NUM_SAMPLES,\n",
    "        same_word_multiplier=1,\n",
    "        no_same_word_penalty=1,\n",
    "        kb_embeddings=True,\n",
    "        coherence_dump_on_prediction=False,\n",
    "        coherence_threshold=0.3,\n",
    "        prediction_threshold=0.47,\n",
    "        pruning=1,\n",
    "        pruning_min=7,\n",
    "        batch_size=10,\n",
    "        print_metrics_summary=METRICS_SUMMARY,\n",
    "        print_predictions_summary=PREDICTIONS_SUMMARY,\n",
    "        show_graphs=GRAPHS,\n",
    "        keyword_diversity=0.3,\n",
    "        diverse_keywords=True,\n",
    "        similar_keywords=True,\n",
    "    )\n",
    ")\n",
    "\n",
    "\n",
    "experimentation.queue_experiment(\n",
    "    CoherenceExperiment(\n",
    "        dataset_type=\"disease\",\n",
    "        model_string=MODEL_STRING,\n",
    "        max_words_per_step=6,\n",
    "        start=1000,\n",
    "        num_samples=NUM_SAMPLES,\n",
    "        same_word_multiplier=1,\n",
    "        no_same_word_penalty=1,\n",
    "        kb_embeddings=True,\n",
    "        coherence_dump_on_prediction=False,\n",
    "        coherence_threshold=0.3,\n",
    "        prediction_threshold=0.47,\n",
    "        pruning=1,\n",
    "        pruning_min=7,\n",
    "        batch_size=10,\n",
    "        print_metrics_summary=METRICS_SUMMARY,\n",
    "        print_predictions_summary=PREDICTIONS_SUMMARY,\n",
    "        show_graphs=GRAPHS,\n",
    "        keyword_diversity=0.3,\n",
    "        diverse_keywords=True,\n",
    "        similar_keywords=True,\n",
    "    )\n",
    ")\n",
    "\n",
    "\n",
    "# experimentation.queue_experiment(\n",
    "#     CoherenceExperiment(\n",
    "#         dataset_type=\"city\",\n",
    "#         model_string=MODEL_STRING,\n",
    "#         max_words_per_step=4,\n",
    "#         start=1000,\n",
    "#         num_samples=NUM_SAMPLES,\n",
    "#         same_word_multiplier=1,\n",
    "#         no_same_word_penalty=1,\n",
    "#         kb_embeddings=True,\n",
    "#         coherence_dump_on_prediction=False,\n",
    "#         coherence_threshold=0.3,\n",
    "#         prediction_threshold=0.47,\n",
    "#         pruning=1,\n",
    "#         pruning_min=7,\n",
    "#         batch_size=10,\n",
    "#         print_metrics_summary=METRICS_SUMMARY,\n",
    "#         print_predictions_summary=PREDICTIONS_SUMMARY,\n",
    "#         show_graphs=GRAPHS,\n",
    "#         keyword_diversity=0.3,\n",
    "#         diverse_keywords=False,\n",
    "#         similar_keywords=True,\n",
    "#     )\n",
    "# )\n",
    "\n",
    "# experimentation.queue_experiment(\n",
    "#     CoherenceExperiment(\n",
    "#         dataset_type=\"city\",\n",
    "#         model_string=MODEL_STRING,\n",
    "#         max_words_per_step=4,\n",
    "#         start=1000,\n",
    "#         num_samples=NUM_SAMPLES,\n",
    "#         same_word_multiplier=1,\n",
    "#         no_same_word_penalty=1,\n",
    "#         kb_embeddings=True,\n",
    "#         coherence_dump_on_prediction=False,\n",
    "#         coherence_threshold=0.3,\n",
    "#         prediction_threshold=0.47,\n",
    "#         pruning=1,\n",
    "#         pruning_min=7,\n",
    "#         batch_size=10,\n",
    "#         print_metrics_summary=METRICS_SUMMARY,\n",
    "#         print_predictions_summary=PREDICTIONS_SUMMARY,\n",
    "#         show_graphs=GRAPHS,\n",
    "#         keyword_diversity=0.3,\n",
    "#         diverse_keywords=True,\n",
    "#         similar_keywords=False,\n",
    "#     )\n",
    "# )"
   ]
  },
  {
   "cell_type": "code",
   "execution_count": null,
   "id": "b57a9097",
   "metadata": {
    "scrolled": false
   },
   "outputs": [
    {
     "name": "stdout",
     "output_type": "stream",
     "text": [
      "Running experiment set: Q33X6\n",
      "Running experiment: CoherenceExperiment(num_samples=2000, start=1000, dataset_type='city', model_string='roberta-base', max_words_per_step=6, same_word_multiplier=1, no_same_word_penalty=1, prediction_threshold=0.47, coherence_threshold=0.3, coherence_dump_on_prediction=False, pruning=1, pruning_min=7, dynamic_threshold=False, threshold_warmup=10, last_n_threshold=5, kb_embeddings=True, experiment_hash='TOC14', batch_size=10, keyword_diversity=0.3, diverse_keywords=True, similar_keywords=True, print_metrics_summary=False, print_predictions_summary=True, show_graphs=True)\n"
     ]
    },
    {
     "name": "stderr",
     "output_type": "stream",
     "text": [
      "Some weights of the model checkpoint at roberta-base were not used when initializing RobertaModel: ['lm_head.layer_norm.bias', 'lm_head.layer_norm.weight', 'lm_head.dense.weight', 'lm_head.dense.bias', 'lm_head.decoder.weight', 'lm_head.bias']\n",
      "- This IS expected if you are initializing RobertaModel from the checkpoint of a model trained on another task or with another architecture (e.g. initializing a BertForSequenceClassification model from a BertForPreTraining model).\n",
      "- This IS NOT expected if you are initializing RobertaModel from the checkpoint of a model that you expect to be exactly identical (initializing a BertForSequenceClassification model from a BertForSequenceClassification model).\n",
      "WARNING:sentence_transformers.SentenceTransformer:No sentence-transformers model found with name /Users/amitmaraj/.cache/torch/sentence_transformers/bert-base-uncased. Creating a new one with MEAN pooling.\n",
      "Some weights of the model checkpoint at /Users/amitmaraj/.cache/torch/sentence_transformers/bert-base-uncased were not used when initializing BertModel: ['cls.predictions.bias', 'cls.seq_relationship.weight', 'cls.seq_relationship.bias', 'cls.predictions.transform.dense.weight', 'cls.predictions.transform.LayerNorm.weight', 'cls.predictions.transform.dense.bias', 'cls.predictions.decoder.weight', 'cls.predictions.transform.LayerNorm.bias']\n",
      "- This IS expected if you are initializing BertModel from the checkpoint of a model trained on another task or with another architecture (e.g. initializing a BertForSequenceClassification model from a BertForPreTraining model).\n",
      "- This IS NOT expected if you are initializing BertModel from the checkpoint of a model that you expect to be exactly identical (initializing a BertForSequenceClassification model from a BertForSequenceClassification model).\n"
     ]
    },
    {
     "name": "stdout",
     "output_type": "stream",
     "text": [
      "TOTAL BATCHES: 200\n",
      "\n",
      "......... 1 .......... 2 .......... 3 .......... 4 .......... 5 "
     ]
    }
   ],
   "source": [
    "experimentation.run()"
   ]
  },
  {
   "cell_type": "markdown",
   "id": "ff0d3f62",
   "metadata": {},
   "source": [
    "### ========================================================="
   ]
  },
  {
   "cell_type": "markdown",
   "id": "c840ba52",
   "metadata": {},
   "source": [
    "### Testing proximity metrics"
   ]
  },
  {
   "cell_type": "code",
   "execution_count": 71,
   "id": "7dc8b4aa",
   "metadata": {},
   "outputs": [
    {
     "data": {
      "application/javascript": [
       "\n",
       "            setTimeout(function() {\n",
       "                var nbb_cell_id = 71;\n",
       "                var nbb_unformatted_code = \"# fmt: off\\npredictions=[1, 0, 1, 0, 0, 0, 0, 1, 1, 0, 0, 0, 0, 0, 0, 0, 0, 0, 0, 0, 0, 0, 0, 0, 0, 0, 0, 0, 0, 0, 0, 0, 0, 0, 0, 0, 0, 0, 0, 0, 0, 0, 0, 0, 0, 0, 0, 0, 0, 0, 0, 0, 0, 0, 0, 0, 0, 0, 0, 0, 0, 0, 0, 0, 0, 0, 0, 0, 0, 0, 0, 0, 0, 0, 0, 0, 0, 1, 0, 0, 0, 1, 0, 0, 0, 0, 0, 0, 0, 0, 0, 0, 0, 0, 0, 0, 0, 0, 0, 1, 1, 0, 0, 0, 0, 0, 0, 0, 0, 0, 0, 0, 0, 0, 0, 0, 0, 0, 0, 0, 0, 0, 0, 0, 0, 1, 0, 0, 0, 0, 0, 0, 0, 0, 0, 1, 1, 0, 0, 0, 0, 0, 0, 0, 0, 0, 0, 0, 0, 0, 0, 1, 0, 1, 0, 1, 1, 0, 0, 0, 0, 0, 0, 0, 0, 0, 0, 0, 0, 0, 0, 0, 0, 0, 0, 0, 0, 0, 0, 0, 0, 0, 0, 0, 0, 0, 0, 0, 0, 0, 0, 0, 0, 0, 0, 0, 0, 0, 0, 0]\\nreal=[0, 0, 1, 0, 0, 0, 0, 0, 1, 0, 0, 1, 0, 0, 0, 0, 1, 0, 0, 1, 0, 0, 1, 0, 0, 1, 0, 0, 0, 0, 0, 0, 1, 0, 0, 1, 0, 0, 1, 0, 0, 0, 0, 1, 0, 0, 0, 0, 0, 0, 0, 0, 0, 0, 0, 0, 0, 0, 0, 0, 0, 0, 0, 0, 0, 0, 0, 0, 0, 0, 0, 0, 0, 1, 0, 0, 0, 1, 0, 0, 0, 1, 0, 0, 0, 1, 0, 1, 0, 0, 0, 0, 0, 1, 0, 0, 0, 0, 0, 0, 1, 0, 0, 0, 0, 0, 1, 0, 0, 0, 1, 0, 0, 1, 0, 1, 0, 0, 0, 1, 0, 0, 0, 0, 0, 1, 0, 0, 0, 0, 1, 0, 0, 1, 0, 1, 0, 0, 0, 1, 0, 0, 0, 0, 0, 0, 1, 0, 1, 0, 0, 1, 0, 1, 0, 1, 1, 0, 0, 0, 0, 0, 1, 0, 0, 0, 0, 0, 0, 1, 0, 0, 0, 0, 0, 0, 0, 0, 0, 0, 0, 0, 0, 1, 0, 0, 0, 0, 1, 0, 0, 0, 0, 0, 0, 0, 0, 0, 0, 1]\\n# fmt: on\";\n",
       "                var nbb_formatted_code = \"# fmt: off\\npredictions=[1, 0, 1, 0, 0, 0, 0, 1, 1, 0, 0, 0, 0, 0, 0, 0, 0, 0, 0, 0, 0, 0, 0, 0, 0, 0, 0, 0, 0, 0, 0, 0, 0, 0, 0, 0, 0, 0, 0, 0, 0, 0, 0, 0, 0, 0, 0, 0, 0, 0, 0, 0, 0, 0, 0, 0, 0, 0, 0, 0, 0, 0, 0, 0, 0, 0, 0, 0, 0, 0, 0, 0, 0, 0, 0, 0, 0, 1, 0, 0, 0, 1, 0, 0, 0, 0, 0, 0, 0, 0, 0, 0, 0, 0, 0, 0, 0, 0, 0, 1, 1, 0, 0, 0, 0, 0, 0, 0, 0, 0, 0, 0, 0, 0, 0, 0, 0, 0, 0, 0, 0, 0, 0, 0, 0, 1, 0, 0, 0, 0, 0, 0, 0, 0, 0, 1, 1, 0, 0, 0, 0, 0, 0, 0, 0, 0, 0, 0, 0, 0, 0, 1, 0, 1, 0, 1, 1, 0, 0, 0, 0, 0, 0, 0, 0, 0, 0, 0, 0, 0, 0, 0, 0, 0, 0, 0, 0, 0, 0, 0, 0, 0, 0, 0, 0, 0, 0, 0, 0, 0, 0, 0, 0, 0, 0, 0, 0, 0, 0, 0]\\nreal=[0, 0, 1, 0, 0, 0, 0, 0, 1, 0, 0, 1, 0, 0, 0, 0, 1, 0, 0, 1, 0, 0, 1, 0, 0, 1, 0, 0, 0, 0, 0, 0, 1, 0, 0, 1, 0, 0, 1, 0, 0, 0, 0, 1, 0, 0, 0, 0, 0, 0, 0, 0, 0, 0, 0, 0, 0, 0, 0, 0, 0, 0, 0, 0, 0, 0, 0, 0, 0, 0, 0, 0, 0, 1, 0, 0, 0, 1, 0, 0, 0, 1, 0, 0, 0, 1, 0, 1, 0, 0, 0, 0, 0, 1, 0, 0, 0, 0, 0, 0, 1, 0, 0, 0, 0, 0, 1, 0, 0, 0, 1, 0, 0, 1, 0, 1, 0, 0, 0, 1, 0, 0, 0, 0, 0, 1, 0, 0, 0, 0, 1, 0, 0, 1, 0, 1, 0, 0, 0, 1, 0, 0, 0, 0, 0, 0, 1, 0, 1, 0, 0, 1, 0, 1, 0, 1, 1, 0, 0, 0, 0, 0, 1, 0, 0, 0, 0, 0, 0, 1, 0, 0, 0, 0, 0, 0, 0, 0, 0, 0, 0, 0, 0, 1, 0, 0, 0, 0, 1, 0, 0, 0, 0, 0, 0, 0, 0, 0, 0, 1]\\n# fmt: on\";\n",
       "                var nbb_cells = Jupyter.notebook.get_cells();\n",
       "                for (var i = 0; i < nbb_cells.length; ++i) {\n",
       "                    if (nbb_cells[i].input_prompt_number == nbb_cell_id) {\n",
       "                        if (nbb_cells[i].get_text() == nbb_unformatted_code) {\n",
       "                             nbb_cells[i].set_text(nbb_formatted_code);\n",
       "                        }\n",
       "                        break;\n",
       "                    }\n",
       "                }\n",
       "            }, 500);\n",
       "            "
      ],
      "text/plain": [
       "<IPython.core.display.Javascript object>"
      ]
     },
     "metadata": {},
     "output_type": "display_data"
    }
   ],
   "source": [
    "# fmt: off\n",
    "predictions=[1, 0, 1, 0, 0, 0, 0, 1, 1, 0, 0, 0, 0, 0, 0, 0, 0, 0, 0, 0, 0, 0, 0, 0, 0, 0, 0, 0, 0, 0, 0, 0, 0, 0, 0, 0, 0, 0, 0, 0, 0, 0, 0, 0, 0, 0, 0, 0, 0, 0, 0, 0, 0, 0, 0, 0, 0, 0, 0, 0, 0, 0, 0, 0, 0, 0, 0, 0, 0, 0, 0, 0, 0, 0, 0, 0, 0, 1, 0, 0, 0, 1, 0, 0, 0, 0, 0, 0, 0, 0, 0, 0, 0, 0, 0, 0, 0, 0, 0, 1, 1, 0, 0, 0, 0, 0, 0, 0, 0, 0, 0, 0, 0, 0, 0, 0, 0, 0, 0, 0, 0, 0, 0, 0, 0, 1, 0, 0, 0, 0, 0, 0, 0, 0, 0, 1, 1, 0, 0, 0, 0, 0, 0, 0, 0, 0, 0, 0, 0, 0, 0, 1, 0, 1, 0, 1, 1, 0, 0, 0, 0, 0, 0, 0, 0, 0, 0, 0, 0, 0, 0, 0, 0, 0, 0, 0, 0, 0, 0, 0, 0, 0, 0, 0, 0, 0, 0, 0, 0, 0, 0, 0, 0, 0, 0, 0, 0, 0, 0, 0]\n",
    "real=[0, 0, 1, 0, 0, 0, 0, 0, 1, 0, 0, 1, 0, 0, 0, 0, 1, 0, 0, 1, 0, 0, 1, 0, 0, 1, 0, 0, 0, 0, 0, 0, 1, 0, 0, 1, 0, 0, 1, 0, 0, 0, 0, 1, 0, 0, 0, 0, 0, 0, 0, 0, 0, 0, 0, 0, 0, 0, 0, 0, 0, 0, 0, 0, 0, 0, 0, 0, 0, 0, 0, 0, 0, 1, 0, 0, 0, 1, 0, 0, 0, 1, 0, 0, 0, 1, 0, 1, 0, 0, 0, 0, 0, 1, 0, 0, 0, 0, 0, 0, 1, 0, 0, 0, 0, 0, 1, 0, 0, 0, 1, 0, 0, 1, 0, 1, 0, 0, 0, 1, 0, 0, 0, 0, 0, 1, 0, 0, 0, 0, 1, 0, 0, 1, 0, 1, 0, 0, 0, 1, 0, 0, 0, 0, 0, 0, 1, 0, 1, 0, 0, 1, 0, 1, 0, 1, 1, 0, 0, 0, 0, 0, 1, 0, 0, 0, 0, 0, 0, 1, 0, 0, 0, 0, 0, 0, 0, 0, 0, 0, 0, 0, 0, 1, 0, 0, 0, 0, 1, 0, 0, 0, 0, 0, 0, 0, 0, 0, 0, 1]\n",
    "# fmt: on"
   ]
  },
  {
   "cell_type": "code",
   "execution_count": 72,
   "id": "25f390ad",
   "metadata": {},
   "outputs": [
    {
     "data": {
      "application/javascript": [
       "\n",
       "            setTimeout(function() {\n",
       "                var nbb_cell_id = 72;\n",
       "                var nbb_unformatted_code = \"def check_proximity(predictions, real, proximity=2):\\n    exact_matches = 0\\n    very_close_matches = 0  # within 1 step\\n    close_matches = 0  # within 2 steps\\n\\n    for i, (p, r) in enumerate(zip(predictions, real)):\\n        # take care of all the cases where we're at the\\n        # beginning of the arrays\\n        prev_idx = i - 1\\n        prev_prev_idx = i - 2\\n        if i == 0 or i == 1:\\n            prev_idx = 0\\n            prev_prev_idx = 0\\n\\n        prev_prediction = predictions[prev_idx]\\n        prev_prev_prediction = predictions[prev_prev_idx]\\n\\n        # take care of all the cases where we're at the\\n        # end of the arrays\\n        next_idx = i + 1\\n        next_next_idx = i + 2\\n        if i == (len(predictions) - 1):\\n            next_idx = i\\n            next_next_idx = i\\n        if i == (len(predictions) - 2):\\n            next_idx = i + 1\\n            next_next_idx = i + 1\\n\\n        next_prediction = predictions[next_idx]\\n        next_next_prediction = predictions[next_next_idx]\\n\\n        if r == 1 and p == 1:\\n            exact_matches += 1\\n            continue\\n        if r == 1:\\n            if prev_prediction == 1 or next_prediction == 1:\\n                very_close_matches += 1\\n                continue\\n            if prev_prev_prediction == 1 or next_next_prediction == 1:\\n                close_matches += 1\\n                continue\\n            continue\\n\\n    return exact_matches, very_close_matches, close_matches\";\n",
       "                var nbb_formatted_code = \"def check_proximity(predictions, real, proximity=2):\\n    exact_matches = 0\\n    very_close_matches = 0  # within 1 step\\n    close_matches = 0  # within 2 steps\\n\\n    for i, (p, r) in enumerate(zip(predictions, real)):\\n        # take care of all the cases where we're at the\\n        # beginning of the arrays\\n        prev_idx = i - 1\\n        prev_prev_idx = i - 2\\n        if i == 0 or i == 1:\\n            prev_idx = 0\\n            prev_prev_idx = 0\\n\\n        prev_prediction = predictions[prev_idx]\\n        prev_prev_prediction = predictions[prev_prev_idx]\\n\\n        # take care of all the cases where we're at the\\n        # end of the arrays\\n        next_idx = i + 1\\n        next_next_idx = i + 2\\n        if i == (len(predictions) - 1):\\n            next_idx = i\\n            next_next_idx = i\\n        if i == (len(predictions) - 2):\\n            next_idx = i + 1\\n            next_next_idx = i + 1\\n\\n        next_prediction = predictions[next_idx]\\n        next_next_prediction = predictions[next_next_idx]\\n\\n        if r == 1 and p == 1:\\n            exact_matches += 1\\n            continue\\n        if r == 1:\\n            if prev_prediction == 1 or next_prediction == 1:\\n                very_close_matches += 1\\n                continue\\n            if prev_prev_prediction == 1 or next_next_prediction == 1:\\n                close_matches += 1\\n                continue\\n            continue\\n\\n    return exact_matches, very_close_matches, close_matches\";\n",
       "                var nbb_cells = Jupyter.notebook.get_cells();\n",
       "                for (var i = 0; i < nbb_cells.length; ++i) {\n",
       "                    if (nbb_cells[i].input_prompt_number == nbb_cell_id) {\n",
       "                        if (nbb_cells[i].get_text() == nbb_unformatted_code) {\n",
       "                             nbb_cells[i].set_text(nbb_formatted_code);\n",
       "                        }\n",
       "                        break;\n",
       "                    }\n",
       "                }\n",
       "            }, 500);\n",
       "            "
      ],
      "text/plain": [
       "<IPython.core.display.Javascript object>"
      ]
     },
     "metadata": {},
     "output_type": "display_data"
    }
   ],
   "source": [
    "def check_proximity(predictions, real, proximity=2):\n",
    "    exact_matches = 0\n",
    "    very_close_matches = 0  # within 1 step\n",
    "    close_matches = 0  # within 2 steps\n",
    "\n",
    "    for i, (p, r) in enumerate(zip(predictions, real)):\n",
    "        # take care of all the cases where we're at the\n",
    "        # beginning of the arrays\n",
    "        prev_idx = i - 1\n",
    "        prev_prev_idx = i - 2\n",
    "        if i == 0 or i == 1:\n",
    "            prev_idx = 0\n",
    "            prev_prev_idx = 0\n",
    "\n",
    "        prev_prediction = predictions[prev_idx]\n",
    "        prev_prev_prediction = predictions[prev_prev_idx]\n",
    "\n",
    "        # take care of all the cases where we're at the\n",
    "        # end of the arrays\n",
    "        next_idx = i + 1\n",
    "        next_next_idx = i + 2\n",
    "        if i == (len(predictions) - 1):\n",
    "            next_idx = i\n",
    "            next_next_idx = i\n",
    "        if i == (len(predictions) - 2):\n",
    "            next_idx = i + 1\n",
    "            next_next_idx = i + 1\n",
    "\n",
    "        next_prediction = predictions[next_idx]\n",
    "        next_next_prediction = predictions[next_next_idx]\n",
    "\n",
    "        if r == 1 and p == 1:\n",
    "            exact_matches += 1\n",
    "            continue\n",
    "        if r == 1:\n",
    "            if prev_prediction == 1 or next_prediction == 1:\n",
    "                very_close_matches += 1\n",
    "                continue\n",
    "            if prev_prev_prediction == 1 or next_next_prediction == 1:\n",
    "                close_matches += 1\n",
    "                continue\n",
    "            continue\n",
    "\n",
    "    return exact_matches, very_close_matches, close_matches"
   ]
  },
  {
   "cell_type": "code",
   "execution_count": 73,
   "id": "cf7dc7a4",
   "metadata": {},
   "outputs": [
    {
     "data": {
      "application/javascript": [
       "\n",
       "            setTimeout(function() {\n",
       "                var nbb_cell_id = 73;\n",
       "                var nbb_unformatted_code = \"exact_matches, close_matches, very_close_matches = check_proximity(predictions, real)\";\n",
       "                var nbb_formatted_code = \"exact_matches, close_matches, very_close_matches = check_proximity(predictions, real)\";\n",
       "                var nbb_cells = Jupyter.notebook.get_cells();\n",
       "                for (var i = 0; i < nbb_cells.length; ++i) {\n",
       "                    if (nbb_cells[i].input_prompt_number == nbb_cell_id) {\n",
       "                        if (nbb_cells[i].get_text() == nbb_unformatted_code) {\n",
       "                             nbb_cells[i].set_text(nbb_formatted_code);\n",
       "                        }\n",
       "                        break;\n",
       "                    }\n",
       "                }\n",
       "            }, 500);\n",
       "            "
      ],
      "text/plain": [
       "<IPython.core.display.Javascript object>"
      ]
     },
     "metadata": {},
     "output_type": "display_data"
    }
   ],
   "source": [
    "exact_matches, close_matches, very_close_matches = check_proximity(predictions, real)"
   ]
  },
  {
   "cell_type": "code",
   "execution_count": 74,
   "id": "7ffe5443",
   "metadata": {},
   "outputs": [
    {
     "data": {
      "text/plain": [
       "(11, 0, 1, 15, 39)"
      ]
     },
     "execution_count": 74,
     "metadata": {},
     "output_type": "execute_result"
    },
    {
     "data": {
      "application/javascript": [
       "\n",
       "            setTimeout(function() {\n",
       "                var nbb_cell_id = 74;\n",
       "                var nbb_unformatted_code = \"exact_matches, close_matches, very_close_matches, predictions.count(1), real.count(1)\";\n",
       "                var nbb_formatted_code = \"exact_matches, close_matches, very_close_matches, predictions.count(1), real.count(1)\";\n",
       "                var nbb_cells = Jupyter.notebook.get_cells();\n",
       "                for (var i = 0; i < nbb_cells.length; ++i) {\n",
       "                    if (nbb_cells[i].input_prompt_number == nbb_cell_id) {\n",
       "                        if (nbb_cells[i].get_text() == nbb_unformatted_code) {\n",
       "                             nbb_cells[i].set_text(nbb_formatted_code);\n",
       "                        }\n",
       "                        break;\n",
       "                    }\n",
       "                }\n",
       "            }, 500);\n",
       "            "
      ],
      "text/plain": [
       "<IPython.core.display.Javascript object>"
      ]
     },
     "metadata": {},
     "output_type": "display_data"
    }
   ],
   "source": [
    "exact_matches, close_matches, very_close_matches, predictions.count(1), real.count(1)"
   ]
  },
  {
   "cell_type": "code",
   "execution_count": 75,
   "id": "0afbe995",
   "metadata": {},
   "outputs": [
    {
     "data": {
      "application/javascript": [
       "\n",
       "            setTimeout(function() {\n",
       "                var nbb_cell_id = 75;\n",
       "                var nbb_unformatted_code = \"num_positive_predictions = predictions.count(1)\\nnum_real_positives = real.count(1)\";\n",
       "                var nbb_formatted_code = \"num_positive_predictions = predictions.count(1)\\nnum_real_positives = real.count(1)\";\n",
       "                var nbb_cells = Jupyter.notebook.get_cells();\n",
       "                for (var i = 0; i < nbb_cells.length; ++i) {\n",
       "                    if (nbb_cells[i].input_prompt_number == nbb_cell_id) {\n",
       "                        if (nbb_cells[i].get_text() == nbb_unformatted_code) {\n",
       "                             nbb_cells[i].set_text(nbb_formatted_code);\n",
       "                        }\n",
       "                        break;\n",
       "                    }\n",
       "                }\n",
       "            }, 500);\n",
       "            "
      ],
      "text/plain": [
       "<IPython.core.display.Javascript object>"
      ]
     },
     "metadata": {},
     "output_type": "display_data"
    }
   ],
   "source": [
    "num_positive_predictions = predictions.count(1)\n",
    "num_real_positives = real.count(1)"
   ]
  },
  {
   "cell_type": "code",
   "execution_count": 76,
   "id": "15757d94",
   "metadata": {},
   "outputs": [
    {
     "name": "stdout",
     "output_type": "stream",
     "text": [
      "Predictions ----->\n",
      "Percentage of positive predictions made that are within proximity of 2: 0.0\n",
      "Percentage of positive predictions made that are within proximity of 1: 6.666666666666667\n",
      "Percentage of positive predictions made that are exact matches: 73.33333333333333\n",
      "Real ----->\n",
      "Percentage of positive predictions made that are within proximity of 2: 0.0\n",
      "Percentage of positive predictions made that are within proximity of 1: 2.5641025641025643\n",
      "Percentage of positive predictions made that are exact matches: 28.205128205128204\n"
     ]
    },
    {
     "data": {
      "application/javascript": [
       "\n",
       "            setTimeout(function() {\n",
       "                var nbb_cell_id = 76;\n",
       "                var nbb_unformatted_code = \"print(\\\"Predictions ----->\\\")\\nprint(\\n    f\\\"Percentage of positive predictions made that are within proximity of 2: {100*close_matches/num_positive_predictions}\\\"\\n)\\nprint(\\n    f\\\"Percentage of positive predictions made that are within proximity of 1: {100*very_close_matches/num_positive_predictions}\\\"\\n)\\nprint(\\n    f\\\"Percentage of positive predictions made that are exact matches: {100*exact_matches/num_positive_predictions}\\\"\\n)\\nprint(\\\"Real ----->\\\")\\nprint(\\n    f\\\"Percentage of positive predictions made that are within proximity of 2: {100*close_matches/num_real_positives}\\\"\\n)\\nprint(\\n    f\\\"Percentage of positive predictions made that are within proximity of 1: {100*very_close_matches/num_real_positives}\\\"\\n)\\nprint(\\n    f\\\"Percentage of positive predictions made that are exact matches: {100*exact_matches/num_real_positives}\\\"\\n)\";\n",
       "                var nbb_formatted_code = \"print(\\\"Predictions ----->\\\")\\nprint(\\n    f\\\"Percentage of positive predictions made that are within proximity of 2: {100*close_matches/num_positive_predictions}\\\"\\n)\\nprint(\\n    f\\\"Percentage of positive predictions made that are within proximity of 1: {100*very_close_matches/num_positive_predictions}\\\"\\n)\\nprint(\\n    f\\\"Percentage of positive predictions made that are exact matches: {100*exact_matches/num_positive_predictions}\\\"\\n)\\nprint(\\\"Real ----->\\\")\\nprint(\\n    f\\\"Percentage of positive predictions made that are within proximity of 2: {100*close_matches/num_real_positives}\\\"\\n)\\nprint(\\n    f\\\"Percentage of positive predictions made that are within proximity of 1: {100*very_close_matches/num_real_positives}\\\"\\n)\\nprint(\\n    f\\\"Percentage of positive predictions made that are exact matches: {100*exact_matches/num_real_positives}\\\"\\n)\";\n",
       "                var nbb_cells = Jupyter.notebook.get_cells();\n",
       "                for (var i = 0; i < nbb_cells.length; ++i) {\n",
       "                    if (nbb_cells[i].input_prompt_number == nbb_cell_id) {\n",
       "                        if (nbb_cells[i].get_text() == nbb_unformatted_code) {\n",
       "                             nbb_cells[i].set_text(nbb_formatted_code);\n",
       "                        }\n",
       "                        break;\n",
       "                    }\n",
       "                }\n",
       "            }, 500);\n",
       "            "
      ],
      "text/plain": [
       "<IPython.core.display.Javascript object>"
      ]
     },
     "metadata": {},
     "output_type": "display_data"
    }
   ],
   "source": [
    "print(\"Predictions ----->\")\n",
    "print(\n",
    "    f\"Percentage of positive predictions made that are within proximity of 2: {100*close_matches/num_positive_predictions}\"\n",
    ")\n",
    "print(\n",
    "    f\"Percentage of positive predictions made that are within proximity of 1: {100*very_close_matches/num_positive_predictions}\"\n",
    ")\n",
    "print(\n",
    "    f\"Percentage of positive predictions made that are exact matches: {100*exact_matches/num_positive_predictions}\"\n",
    ")\n",
    "print(\"Real ----->\")\n",
    "print(\n",
    "    f\"Percentage of real predictions made that are within proximity of 2: {100*close_matches/num_real_positives}\"\n",
    ")\n",
    "print(\n",
    "    f\"Percentage of real predictions made that are within proximity of 1: {100*very_close_matches/num_real_positives}\"\n",
    ")\n",
    "print(\n",
    "    f\"Percentage of real predictions made that are exact matches: {100*exact_matches/num_real_positives}\"\n",
    ")"
   ]
  },
  {
   "cell_type": "code",
   "execution_count": 82,
   "id": "e41f187b",
   "metadata": {},
   "outputs": [
    {
     "data": {
      "application/javascript": [
       "\n",
       "            setTimeout(function() {\n",
       "                var nbb_cell_id = 82;\n",
       "                var nbb_unformatted_code = \"proximity = (\\n    (1 / 3 * (close_matches / num_real_positives))\\n    + (1 / 2 * (very_close_matches / num_real_positives))\\n    + (exact_matches / num_real_positives)\\n) / (\\n    (1 / 3 * (close_matches / num_positive_predictions))\\n    + (1 / 2 * (very_close_matches / num_positive_predictions))\\n    + (exact_matches / num_positive_predictions)\\n)\";\n",
       "                var nbb_formatted_code = \"proximity = (\\n    (1 / 3 * (close_matches / num_real_positives))\\n    + (1 / 2 * (very_close_matches / num_real_positives))\\n    + (exact_matches / num_real_positives)\\n) / (\\n    (1 / 3 * (close_matches / num_positive_predictions))\\n    + (1 / 2 * (very_close_matches / num_positive_predictions))\\n    + (exact_matches / num_positive_predictions)\\n)\";\n",
       "                var nbb_cells = Jupyter.notebook.get_cells();\n",
       "                for (var i = 0; i < nbb_cells.length; ++i) {\n",
       "                    if (nbb_cells[i].input_prompt_number == nbb_cell_id) {\n",
       "                        if (nbb_cells[i].get_text() == nbb_unformatted_code) {\n",
       "                             nbb_cells[i].set_text(nbb_formatted_code);\n",
       "                        }\n",
       "                        break;\n",
       "                    }\n",
       "                }\n",
       "            }, 500);\n",
       "            "
      ],
      "text/plain": [
       "<IPython.core.display.Javascript object>"
      ]
     },
     "metadata": {},
     "output_type": "display_data"
    }
   ],
   "source": [
    "proximity = (\n",
    "    (1 / 3 * (close_matches / num_real_positives))\n",
    "    + (1 / 2 * (very_close_matches / num_real_positives))\n",
    "    + (exact_matches / num_real_positives)\n",
    ") / (\n",
    "    (1 / 3 * (close_matches / num_positive_predictions))\n",
    "    + (1 / 2 * (very_close_matches / num_positive_predictions))\n",
    "    + (exact_matches / num_positive_predictions)\n",
    ")"
   ]
  },
  {
   "cell_type": "code",
   "execution_count": 84,
   "id": "e02b8584",
   "metadata": {},
   "outputs": [
    {
     "data": {
      "text/plain": [
       "0.38461538461538464"
      ]
     },
     "execution_count": 84,
     "metadata": {},
     "output_type": "execute_result"
    },
    {
     "data": {
      "application/javascript": [
       "\n",
       "            setTimeout(function() {\n",
       "                var nbb_cell_id = 84;\n",
       "                var nbb_unformatted_code = \"proximity\";\n",
       "                var nbb_formatted_code = \"proximity\";\n",
       "                var nbb_cells = Jupyter.notebook.get_cells();\n",
       "                for (var i = 0; i < nbb_cells.length; ++i) {\n",
       "                    if (nbb_cells[i].input_prompt_number == nbb_cell_id) {\n",
       "                        if (nbb_cells[i].get_text() == nbb_unformatted_code) {\n",
       "                             nbb_cells[i].set_text(nbb_formatted_code);\n",
       "                        }\n",
       "                        break;\n",
       "                    }\n",
       "                }\n",
       "            }, 500);\n",
       "            "
      ],
      "text/plain": [
       "<IPython.core.display.Javascript object>"
      ]
     },
     "metadata": {},
     "output_type": "display_data"
    }
   ],
   "source": [
    "proximity"
   ]
  },
  {
   "cell_type": "code",
   "execution_count": 90,
   "id": "7505798e",
   "metadata": {},
   "outputs": [
    {
     "data": {
      "text/plain": [
       "(39, 15, 0.2948717948717949, 0.7666666666666666)"
      ]
     },
     "execution_count": 90,
     "metadata": {},
     "output_type": "execute_result"
    },
    {
     "data": {
      "application/javascript": [
       "\n",
       "            setTimeout(function() {\n",
       "                var nbb_cell_id = 90;\n",
       "                var nbb_unformatted_code = \"numerator = (\\n    (1 / 3 * (close_matches / num_real_positives))\\n    + (1 / 2 * (very_close_matches / num_real_positives))\\n    + (exact_matches / num_real_positives)\\n)\\n\\ndenominator = (\\n    (1 / 3 * (close_matches / num_positive_predictions))\\n    + (1 / 2 * (very_close_matches / num_positive_predictions))\\n    + (exact_matches / num_positive_predictions)\\n)\\n\\nnum_real_positives, num_positive_predictions, numerator, denominator\";\n",
       "                var nbb_formatted_code = \"numerator = (\\n    (1 / 3 * (close_matches / num_real_positives))\\n    + (1 / 2 * (very_close_matches / num_real_positives))\\n    + (exact_matches / num_real_positives)\\n)\\n\\ndenominator = (\\n    (1 / 3 * (close_matches / num_positive_predictions))\\n    + (1 / 2 * (very_close_matches / num_positive_predictions))\\n    + (exact_matches / num_positive_predictions)\\n)\\n\\nnum_real_positives, num_positive_predictions, numerator, denominator\";\n",
       "                var nbb_cells = Jupyter.notebook.get_cells();\n",
       "                for (var i = 0; i < nbb_cells.length; ++i) {\n",
       "                    if (nbb_cells[i].input_prompt_number == nbb_cell_id) {\n",
       "                        if (nbb_cells[i].get_text() == nbb_unformatted_code) {\n",
       "                             nbb_cells[i].set_text(nbb_formatted_code);\n",
       "                        }\n",
       "                        break;\n",
       "                    }\n",
       "                }\n",
       "            }, 500);\n",
       "            "
      ],
      "text/plain": [
       "<IPython.core.display.Javascript object>"
      ]
     },
     "metadata": {},
     "output_type": "display_data"
    }
   ],
   "source": [
    "numerator = (\n",
    "    (1 / 3 * (close_matches / num_real_positives))\n",
    "    + (1 / 2 * (very_close_matches / num_real_positives))\n",
    "    + (exact_matches / num_real_positives)\n",
    ")\n",
    "\n",
    "denominator = (\n",
    "    (1 / 3 * (close_matches / num_positive_predictions))\n",
    "    + (1 / 2 * (very_close_matches / num_positive_predictions))\n",
    "    + (exact_matches / num_positive_predictions)\n",
    ")\n",
    "\n",
    "num_real_positives, num_positive_predictions, numerator, denominator"
   ]
  },
  {
   "cell_type": "code",
   "execution_count": 92,
   "id": "ffc5e87a",
   "metadata": {},
   "outputs": [
    {
     "data": {
      "text/plain": [
       "(0.22606837606837607, 2.5999999999999996)"
      ]
     },
     "execution_count": 92,
     "metadata": {},
     "output_type": "execute_result"
    },
    {
     "data": {
      "application/javascript": [
       "\n",
       "            setTimeout(function() {\n",
       "                var nbb_cell_id = 92;\n",
       "                var nbb_unformatted_code = \"numerator * denominator, denominator / numerator\";\n",
       "                var nbb_formatted_code = \"numerator * denominator, denominator / numerator\";\n",
       "                var nbb_cells = Jupyter.notebook.get_cells();\n",
       "                for (var i = 0; i < nbb_cells.length; ++i) {\n",
       "                    if (nbb_cells[i].input_prompt_number == nbb_cell_id) {\n",
       "                        if (nbb_cells[i].get_text() == nbb_unformatted_code) {\n",
       "                             nbb_cells[i].set_text(nbb_formatted_code);\n",
       "                        }\n",
       "                        break;\n",
       "                    }\n",
       "                }\n",
       "            }, 500);\n",
       "            "
      ],
      "text/plain": [
       "<IPython.core.display.Javascript object>"
      ]
     },
     "metadata": {},
     "output_type": "display_data"
    }
   ],
   "source": [
    "numerator * denominator, denominator / numerator"
   ]
  },
  {
   "cell_type": "code",
   "execution_count": null,
   "id": "0b4c690f",
   "metadata": {},
   "outputs": [],
   "source": []
  }
 ],
 "metadata": {
  "kernelspec": {
   "display_name": "Python 3 (ipykernel)",
   "language": "python",
   "name": "python3"
  },
  "language_info": {
   "codemirror_mode": {
    "name": "ipython",
    "version": 3
   },
   "file_extension": ".py",
   "mimetype": "text/x-python",
   "name": "python",
   "nbconvert_exporter": "python",
   "pygments_lexer": "ipython3",
   "version": "3.9.16"
  }
 },
 "nbformat": 4,
 "nbformat_minor": 5
}
