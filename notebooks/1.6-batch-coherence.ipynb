{
 "cells": [
  {
   "cell_type": "code",
   "execution_count": 1,
   "id": "23482949",
   "metadata": {},
   "outputs": [
    {
     "data": {
      "application/javascript": [
       "\n",
       "            setTimeout(function() {\n",
       "                var nbb_cell_id = 1;\n",
       "                var nbb_unformatted_code = \"# Run if working locally\\n%load_ext autoreload\\n%autoreload 2\\n%load_ext nb_black\";\n",
       "                var nbb_formatted_code = \"# Run if working locally\\n%load_ext autoreload\\n%autoreload 2\\n%load_ext nb_black\";\n",
       "                var nbb_cells = Jupyter.notebook.get_cells();\n",
       "                for (var i = 0; i < nbb_cells.length; ++i) {\n",
       "                    if (nbb_cells[i].input_prompt_number == nbb_cell_id) {\n",
       "                        if (nbb_cells[i].get_text() == nbb_unformatted_code) {\n",
       "                             nbb_cells[i].set_text(nbb_formatted_code);\n",
       "                        }\n",
       "                        break;\n",
       "                    }\n",
       "                }\n",
       "            }, 500);\n",
       "            "
      ],
      "text/plain": [
       "<IPython.core.display.Javascript object>"
      ]
     },
     "metadata": {},
     "output_type": "display_data"
    }
   ],
   "source": [
    "# Run if working locally\n",
    "%load_ext autoreload\n",
    "%autoreload 2\n",
    "%load_ext nb_black"
   ]
  },
  {
   "cell_type": "code",
   "execution_count": 2,
   "id": "ca476670",
   "metadata": {},
   "outputs": [
    {
     "data": {
      "application/javascript": [
       "\n",
       "            setTimeout(function() {\n",
       "                var nbb_cell_id = 2;\n",
       "                var nbb_unformatted_code = \"import sqlite3\\nfrom sqlite3 import Error\\nimport pickle\\nimport os, sys\\nimport config\\n\\nconfig.root_path = os.path.abspath(os.path.join(os.getcwd(), \\\"..\\\"))\\nsys.path.insert(0, config.root_path)\\n\\nfrom src.dataset.dataset import RawData\\nfrom src.dataset.wikisection_preprocessing import (\\n    tokenize,\\n    clean_sentence,\\n    preprocess_text_segmentation,\\n    format_data_for_db_insertion,\\n)\\nfrom src.dataset.utils import truncate_by_token\\nfrom db.dbv2 import Table, AugmentedTable, TrainTestTable\\nimport pprint\\n\\n\\nfrom utils.metrics import windowdiff, pk\\n\\nfrom src.bertkeywords.src.similarities import Embedding, Similarities\\nfrom src.bertkeywords.src.keywords import Keywords\\nfrom src.encoders.coherence_v2 import Coherence\\nfrom src.dataset.utils import flatten, dedupe_list, truncate_string\\nfrom src.experimentation.coherence_v2 import SimpleExperiment, CoherenceExperiment\";\n",
       "                var nbb_formatted_code = \"import sqlite3\\nfrom sqlite3 import Error\\nimport pickle\\nimport os, sys\\nimport config\\n\\nconfig.root_path = os.path.abspath(os.path.join(os.getcwd(), \\\"..\\\"))\\nsys.path.insert(0, config.root_path)\\n\\nfrom src.dataset.dataset import RawData\\nfrom src.dataset.wikisection_preprocessing import (\\n    tokenize,\\n    clean_sentence,\\n    preprocess_text_segmentation,\\n    format_data_for_db_insertion,\\n)\\nfrom src.dataset.utils import truncate_by_token\\nfrom db.dbv2 import Table, AugmentedTable, TrainTestTable\\nimport pprint\\n\\n\\nfrom utils.metrics import windowdiff, pk\\n\\nfrom src.bertkeywords.src.similarities import Embedding, Similarities\\nfrom src.bertkeywords.src.keywords import Keywords\\nfrom src.encoders.coherence_v2 import Coherence\\nfrom src.dataset.utils import flatten, dedupe_list, truncate_string\\nfrom src.experimentation.coherence_v2 import SimpleExperiment, CoherenceExperiment\";\n",
       "                var nbb_cells = Jupyter.notebook.get_cells();\n",
       "                for (var i = 0; i < nbb_cells.length; ++i) {\n",
       "                    if (nbb_cells[i].input_prompt_number == nbb_cell_id) {\n",
       "                        if (nbb_cells[i].get_text() == nbb_unformatted_code) {\n",
       "                             nbb_cells[i].set_text(nbb_formatted_code);\n",
       "                        }\n",
       "                        break;\n",
       "                    }\n",
       "                }\n",
       "            }, 500);\n",
       "            "
      ],
      "text/plain": [
       "<IPython.core.display.Javascript object>"
      ]
     },
     "metadata": {},
     "output_type": "display_data"
    }
   ],
   "source": [
    "import sqlite3\n",
    "from sqlite3 import Error\n",
    "import pickle\n",
    "import os, sys\n",
    "import config\n",
    "\n",
    "config.root_path = os.path.abspath(os.path.join(os.getcwd(), \"..\"))\n",
    "sys.path.insert(0, config.root_path)\n",
    "\n",
    "from src.dataset.dataset import RawData\n",
    "from src.dataset.wikisection_preprocessing import (\n",
    "    tokenize,\n",
    "    clean_sentence,\n",
    "    preprocess_text_segmentation,\n",
    "    format_data_for_db_insertion,\n",
    ")\n",
    "from src.dataset.utils import truncate_by_token\n",
    "from db.dbv2 import Table, AugmentedTable, TrainTestTable\n",
    "import pprint\n",
    "\n",
    "\n",
    "from utils.metrics import windowdiff, pk\n",
    "\n",
    "from src.bertkeywords.src.similarities import Embedding, Similarities\n",
    "from src.bertkeywords.src.keywords import Keywords\n",
    "from src.encoders.coherence_v2 import Coherence\n",
    "from src.dataset.utils import flatten, dedupe_list, truncate_string\n",
    "from src.experimentation.coherence_v2 import SimpleExperiment, CoherenceExperiment"
   ]
  },
  {
   "cell_type": "code",
   "execution_count": 9,
   "id": "8b71ba8b",
   "metadata": {},
   "outputs": [
    {
     "data": {
      "application/javascript": [
       "\n",
       "            setTimeout(function() {\n",
       "                var nbb_cell_id = 9;\n",
       "                var nbb_unformatted_code = \"experimentation = SimpleExperiment()\\n\\n# constants\\nNUM_SAMPLES = 5000\\n#         MODEL_STRING=\\\"bert-base-uncased\\\",\\n#         MODEL_STRING=\\\"sentence-transformers/LaBSE\\\",\\nMODEL_STRING = \\\"roberta-base\\\"\\n# MODEL_STRING = \\\"sentence-transformers/all-MiniLM-L6-v2\\\"\\nGRAPHS = True\\nMETRICS_SUMMARY = False\\nPREDICTIONS_SUMMARY = True\\nBATCH_SIZE = 1\\n\\n# ----------------------------------------------------\\n\\n# city experiments\\n\\n# without pruning\\nexperimentation.queue_experiment(\\n    CoherenceExperiment(\\n        dataset_type=\\\"city\\\",\\n        model_string=MODEL_STRING,\\n        max_words_per_step=3,\\n        start=5000,\\n        num_samples=NUM_SAMPLES,\\n        same_word_multiplier=2,\\n        no_same_word_penalty=2,\\n        kb_embeddings=True,\\n        coherence_dump_on_prediction=False,\\n        coherence_threshold=0.3,\\n        prediction_threshold=0.47,\\n        pruning=0,\\n        pruning_min=7,\\n        batch_size=BATCH_SIZE,\\n        print_metrics_summary=METRICS_SUMMARY,\\n        print_predictions_summary=PREDICTIONS_SUMMARY,\\n        show_graphs=GRAPHS,\\n        keyword_diversity=0.3,\\n        diverse_keywords=True,\\n        similar_keywords=True,\\n    )\\n)\\n\\n# without SWM\\nexperimentation.queue_experiment(\\n    CoherenceExperiment(\\n        dataset_type=\\\"city\\\",\\n        model_string=MODEL_STRING,\\n        max_words_per_step=3,\\n        start=5000,\\n        num_samples=NUM_SAMPLES,\\n        same_word_multiplier=1,\\n        no_same_word_penalty=2,\\n        kb_embeddings=True,\\n        coherence_dump_on_prediction=False,\\n        coherence_threshold=0.3,\\n        prediction_threshold=0.47,\\n        pruning=1,\\n        pruning_min=7,\\n        batch_size=BATCH_SIZE,\\n        print_metrics_summary=METRICS_SUMMARY,\\n        print_predictions_summary=PREDICTIONS_SUMMARY,\\n        show_graphs=GRAPHS,\\n        keyword_diversity=0.3,\\n        diverse_keywords=True,\\n        similar_keywords=True,\\n    )\\n)\\n\\n\\n# without NSWP\\nexperimentation.queue_experiment(\\n    CoherenceExperiment(\\n        dataset_type=\\\"city\\\",\\n        model_string=MODEL_STRING,\\n        max_words_per_step=3,\\n        start=5000,\\n        num_samples=NUM_SAMPLES,\\n        same_word_multiplier=2,\\n        no_same_word_penalty=1,\\n        kb_embeddings=True,\\n        coherence_dump_on_prediction=False,\\n        coherence_threshold=0.3,\\n        prediction_threshold=0.47,\\n        pruning=1,\\n        pruning_min=7,\\n        batch_size=BATCH_SIZE,\\n        print_metrics_summary=METRICS_SUMMARY,\\n        print_predictions_summary=PREDICTIONS_SUMMARY,\\n        show_graphs=GRAPHS,\\n        keyword_diversity=0.3,\\n        diverse_keywords=True,\\n        similar_keywords=True,\\n    )\\n)\\n\\n# disease experiments\\n\\n# without pruning\\nexperimentation.queue_experiment(\\n    CoherenceExperiment(\\n        dataset_type=\\\"city\\\",\\n        model_string=MODEL_STRING,\\n        max_words_per_step=3,\\n        start=5000,\\n        num_samples=NUM_SAMPLES,\\n        same_word_multiplier=2,\\n        no_same_word_penalty=2,\\n        kb_embeddings=True,\\n        coherence_dump_on_prediction=False,\\n        coherence_threshold=0.3,\\n        prediction_threshold=0.47,\\n        pruning=0,\\n        pruning_min=7,\\n        batch_size=BATCH_SIZE,\\n        print_metrics_summary=METRICS_SUMMARY,\\n        print_predictions_summary=PREDICTIONS_SUMMARY,\\n        show_graphs=GRAPHS,\\n        keyword_diversity=0.3,\\n        diverse_keywords=True,\\n        similar_keywords=True,\\n    )\\n)\\n\\n# without SWM\\nexperimentation.queue_experiment(\\n    CoherenceExperiment(\\n        dataset_type=\\\"city\\\",\\n        model_string=MODEL_STRING,\\n        max_words_per_step=3,\\n        start=5000,\\n        num_samples=NUM_SAMPLES,\\n        same_word_multiplier=1,\\n        no_same_word_penalty=2,\\n        kb_embeddings=True,\\n        coherence_dump_on_prediction=False,\\n        coherence_threshold=0.3,\\n        prediction_threshold=0.47,\\n        pruning=1,\\n        pruning_min=7,\\n        batch_size=BATCH_SIZE,\\n        print_metrics_summary=METRICS_SUMMARY,\\n        print_predictions_summary=PREDICTIONS_SUMMARY,\\n        show_graphs=GRAPHS,\\n        keyword_diversity=0.3,\\n        diverse_keywords=True,\\n        similar_keywords=True,\\n    )\\n)\\n\\n\\n# without NSWP\\nexperimentation.queue_experiment(\\n    CoherenceExperiment(\\n        dataset_type=\\\"city\\\",\\n        model_string=MODEL_STRING,\\n        max_words_per_step=3,\\n        start=5000,\\n        num_samples=NUM_SAMPLES,\\n        same_word_multiplier=2,\\n        no_same_word_penalty=1,\\n        kb_embeddings=True,\\n        coherence_dump_on_prediction=False,\\n        coherence_threshold=0.3,\\n        prediction_threshold=0.47,\\n        pruning=1,\\n        pruning_min=7,\\n        batch_size=BATCH_SIZE,\\n        print_metrics_summary=METRICS_SUMMARY,\\n        print_predictions_summary=PREDICTIONS_SUMMARY,\\n        show_graphs=GRAPHS,\\n        keyword_diversity=0.3,\\n        diverse_keywords=True,\\n        similar_keywords=True,\\n    )\\n)\";\n",
       "                var nbb_formatted_code = \"experimentation = SimpleExperiment()\\n\\n# constants\\nNUM_SAMPLES = 5000\\n#         MODEL_STRING=\\\"bert-base-uncased\\\",\\n#         MODEL_STRING=\\\"sentence-transformers/LaBSE\\\",\\nMODEL_STRING = \\\"roberta-base\\\"\\n# MODEL_STRING = \\\"sentence-transformers/all-MiniLM-L6-v2\\\"\\nGRAPHS = True\\nMETRICS_SUMMARY = False\\nPREDICTIONS_SUMMARY = True\\nBATCH_SIZE = 1\\n\\n# ----------------------------------------------------\\n\\n# city experiments\\n\\n# without pruning\\nexperimentation.queue_experiment(\\n    CoherenceExperiment(\\n        dataset_type=\\\"city\\\",\\n        model_string=MODEL_STRING,\\n        max_words_per_step=3,\\n        start=5000,\\n        num_samples=NUM_SAMPLES,\\n        same_word_multiplier=2,\\n        no_same_word_penalty=2,\\n        kb_embeddings=True,\\n        coherence_dump_on_prediction=False,\\n        coherence_threshold=0.3,\\n        prediction_threshold=0.47,\\n        pruning=0,\\n        pruning_min=7,\\n        batch_size=BATCH_SIZE,\\n        print_metrics_summary=METRICS_SUMMARY,\\n        print_predictions_summary=PREDICTIONS_SUMMARY,\\n        show_graphs=GRAPHS,\\n        keyword_diversity=0.3,\\n        diverse_keywords=True,\\n        similar_keywords=True,\\n    )\\n)\\n\\n# without SWM\\nexperimentation.queue_experiment(\\n    CoherenceExperiment(\\n        dataset_type=\\\"city\\\",\\n        model_string=MODEL_STRING,\\n        max_words_per_step=3,\\n        start=5000,\\n        num_samples=NUM_SAMPLES,\\n        same_word_multiplier=1,\\n        no_same_word_penalty=2,\\n        kb_embeddings=True,\\n        coherence_dump_on_prediction=False,\\n        coherence_threshold=0.3,\\n        prediction_threshold=0.47,\\n        pruning=1,\\n        pruning_min=7,\\n        batch_size=BATCH_SIZE,\\n        print_metrics_summary=METRICS_SUMMARY,\\n        print_predictions_summary=PREDICTIONS_SUMMARY,\\n        show_graphs=GRAPHS,\\n        keyword_diversity=0.3,\\n        diverse_keywords=True,\\n        similar_keywords=True,\\n    )\\n)\\n\\n\\n# without NSWP\\nexperimentation.queue_experiment(\\n    CoherenceExperiment(\\n        dataset_type=\\\"city\\\",\\n        model_string=MODEL_STRING,\\n        max_words_per_step=3,\\n        start=5000,\\n        num_samples=NUM_SAMPLES,\\n        same_word_multiplier=2,\\n        no_same_word_penalty=1,\\n        kb_embeddings=True,\\n        coherence_dump_on_prediction=False,\\n        coherence_threshold=0.3,\\n        prediction_threshold=0.47,\\n        pruning=1,\\n        pruning_min=7,\\n        batch_size=BATCH_SIZE,\\n        print_metrics_summary=METRICS_SUMMARY,\\n        print_predictions_summary=PREDICTIONS_SUMMARY,\\n        show_graphs=GRAPHS,\\n        keyword_diversity=0.3,\\n        diverse_keywords=True,\\n        similar_keywords=True,\\n    )\\n)\\n\\n# disease experiments\\n\\n# without pruning\\nexperimentation.queue_experiment(\\n    CoherenceExperiment(\\n        dataset_type=\\\"city\\\",\\n        model_string=MODEL_STRING,\\n        max_words_per_step=3,\\n        start=5000,\\n        num_samples=NUM_SAMPLES,\\n        same_word_multiplier=2,\\n        no_same_word_penalty=2,\\n        kb_embeddings=True,\\n        coherence_dump_on_prediction=False,\\n        coherence_threshold=0.3,\\n        prediction_threshold=0.47,\\n        pruning=0,\\n        pruning_min=7,\\n        batch_size=BATCH_SIZE,\\n        print_metrics_summary=METRICS_SUMMARY,\\n        print_predictions_summary=PREDICTIONS_SUMMARY,\\n        show_graphs=GRAPHS,\\n        keyword_diversity=0.3,\\n        diverse_keywords=True,\\n        similar_keywords=True,\\n    )\\n)\\n\\n# without SWM\\nexperimentation.queue_experiment(\\n    CoherenceExperiment(\\n        dataset_type=\\\"city\\\",\\n        model_string=MODEL_STRING,\\n        max_words_per_step=3,\\n        start=5000,\\n        num_samples=NUM_SAMPLES,\\n        same_word_multiplier=1,\\n        no_same_word_penalty=2,\\n        kb_embeddings=True,\\n        coherence_dump_on_prediction=False,\\n        coherence_threshold=0.3,\\n        prediction_threshold=0.47,\\n        pruning=1,\\n        pruning_min=7,\\n        batch_size=BATCH_SIZE,\\n        print_metrics_summary=METRICS_SUMMARY,\\n        print_predictions_summary=PREDICTIONS_SUMMARY,\\n        show_graphs=GRAPHS,\\n        keyword_diversity=0.3,\\n        diverse_keywords=True,\\n        similar_keywords=True,\\n    )\\n)\\n\\n\\n# without NSWP\\nexperimentation.queue_experiment(\\n    CoherenceExperiment(\\n        dataset_type=\\\"city\\\",\\n        model_string=MODEL_STRING,\\n        max_words_per_step=3,\\n        start=5000,\\n        num_samples=NUM_SAMPLES,\\n        same_word_multiplier=2,\\n        no_same_word_penalty=1,\\n        kb_embeddings=True,\\n        coherence_dump_on_prediction=False,\\n        coherence_threshold=0.3,\\n        prediction_threshold=0.47,\\n        pruning=1,\\n        pruning_min=7,\\n        batch_size=BATCH_SIZE,\\n        print_metrics_summary=METRICS_SUMMARY,\\n        print_predictions_summary=PREDICTIONS_SUMMARY,\\n        show_graphs=GRAPHS,\\n        keyword_diversity=0.3,\\n        diverse_keywords=True,\\n        similar_keywords=True,\\n    )\\n)\";\n",
       "                var nbb_cells = Jupyter.notebook.get_cells();\n",
       "                for (var i = 0; i < nbb_cells.length; ++i) {\n",
       "                    if (nbb_cells[i].input_prompt_number == nbb_cell_id) {\n",
       "                        if (nbb_cells[i].get_text() == nbb_unformatted_code) {\n",
       "                             nbb_cells[i].set_text(nbb_formatted_code);\n",
       "                        }\n",
       "                        break;\n",
       "                    }\n",
       "                }\n",
       "            }, 500);\n",
       "            "
      ],
      "text/plain": [
       "<IPython.core.display.Javascript object>"
      ]
     },
     "metadata": {},
     "output_type": "display_data"
    }
   ],
   "source": [
    "experimentation = SimpleExperiment()\n",
    "\n",
    "# constants\n",
    "NUM_SAMPLES = 5000\n",
    "#         MODEL_STRING=\"bert-base-uncased\",\n",
    "#         MODEL_STRING=\"sentence-transformers/LaBSE\",\n",
    "MODEL_STRING = \"roberta-base\"\n",
    "# MODEL_STRING = \"sentence-transformers/all-MiniLM-L6-v2\"\n",
    "GRAPHS = True\n",
    "METRICS_SUMMARY = False\n",
    "PREDICTIONS_SUMMARY = True\n",
    "BATCH_SIZE = 1\n",
    "\n",
    "# ----------------------------------------------------\n",
    "\n",
    "# city experiments\n",
    "\n",
    "# without pruning\n",
    "experimentation.queue_experiment(\n",
    "    CoherenceExperiment(\n",
    "        dataset_type=\"city\",\n",
    "        model_string=MODEL_STRING,\n",
    "        max_words_per_step=3,\n",
    "        start=5000,\n",
    "        num_samples=NUM_SAMPLES,\n",
    "        same_word_multiplier=2,\n",
    "        no_same_word_penalty=2,\n",
    "        kb_embeddings=True,\n",
    "        coherence_dump_on_prediction=False,\n",
    "        coherence_threshold=0.3,\n",
    "        prediction_threshold=0.47,\n",
    "        pruning=0,\n",
    "        pruning_min=7,\n",
    "        batch_size=BATCH_SIZE,\n",
    "        print_metrics_summary=METRICS_SUMMARY,\n",
    "        print_predictions_summary=PREDICTIONS_SUMMARY,\n",
    "        show_graphs=GRAPHS,\n",
    "        keyword_diversity=0.3,\n",
    "        diverse_keywords=False,\n",
    "        similar_keywords=True,\n",
    "    )\n",
    ")\n",
    "\n",
    "# without SWM\n",
    "experimentation.queue_experiment(\n",
    "    CoherenceExperiment(\n",
    "        dataset_type=\"city\",\n",
    "        model_string=MODEL_STRING,\n",
    "        max_words_per_step=3,\n",
    "        start=5000,\n",
    "        num_samples=NUM_SAMPLES,\n",
    "        same_word_multiplier=1,\n",
    "        no_same_word_penalty=2,\n",
    "        kb_embeddings=True,\n",
    "        coherence_dump_on_prediction=False,\n",
    "        coherence_threshold=0.3,\n",
    "        prediction_threshold=0.47,\n",
    "        pruning=1,\n",
    "        pruning_min=7,\n",
    "        batch_size=BATCH_SIZE,\n",
    "        print_metrics_summary=METRICS_SUMMARY,\n",
    "        print_predictions_summary=PREDICTIONS_SUMMARY,\n",
    "        show_graphs=GRAPHS,\n",
    "        keyword_diversity=0.3,\n",
    "        diverse_keywords=False,\n",
    "        similar_keywords=True,\n",
    "    )\n",
    ")\n",
    "\n",
    "\n",
    "# without NSWP\n",
    "experimentation.queue_experiment(\n",
    "    CoherenceExperiment(\n",
    "        dataset_type=\"city\",\n",
    "        model_string=MODEL_STRING,\n",
    "        max_words_per_step=3,\n",
    "        start=5000,\n",
    "        num_samples=NUM_SAMPLES,\n",
    "        same_word_multiplier=2,\n",
    "        no_same_word_penalty=1,\n",
    "        kb_embeddings=True,\n",
    "        coherence_dump_on_prediction=False,\n",
    "        coherence_threshold=0.3,\n",
    "        prediction_threshold=0.47,\n",
    "        pruning=1,\n",
    "        pruning_min=7,\n",
    "        batch_size=BATCH_SIZE,\n",
    "        print_metrics_summary=METRICS_SUMMARY,\n",
    "        print_predictions_summary=PREDICTIONS_SUMMARY,\n",
    "        show_graphs=GRAPHS,\n",
    "        keyword_diversity=0.3,\n",
    "        diverse_keywords=False,\n",
    "        similar_keywords=True,\n",
    "    )\n",
    ")\n",
    "\n",
    "# disease experiments\n",
    "\n",
    "# without pruning\n",
    "experimentation.queue_experiment(\n",
    "    CoherenceExperiment(\n",
    "        dataset_type=\"city\",\n",
    "        model_string=MODEL_STRING,\n",
    "        max_words_per_step=3,\n",
    "        start=5000,\n",
    "        num_samples=NUM_SAMPLES,\n",
    "        same_word_multiplier=2,\n",
    "        no_same_word_penalty=2,\n",
    "        kb_embeddings=True,\n",
    "        coherence_dump_on_prediction=False,\n",
    "        coherence_threshold=0.3,\n",
    "        prediction_threshold=0.47,\n",
    "        pruning=0,\n",
    "        pruning_min=7,\n",
    "        batch_size=BATCH_SIZE,\n",
    "        print_metrics_summary=METRICS_SUMMARY,\n",
    "        print_predictions_summary=PREDICTIONS_SUMMARY,\n",
    "        show_graphs=GRAPHS,\n",
    "        keyword_diversity=0.3,\n",
    "        diverse_keywords=False,\n",
    "        similar_keywords=True,\n",
    "    )\n",
    ")\n",
    "\n",
    "# without SWM\n",
    "experimentation.queue_experiment(\n",
    "    CoherenceExperiment(\n",
    "        dataset_type=\"city\",\n",
    "        model_string=MODEL_STRING,\n",
    "        max_words_per_step=3,\n",
    "        start=5000,\n",
    "        num_samples=NUM_SAMPLES,\n",
    "        same_word_multiplier=1,\n",
    "        no_same_word_penalty=2,\n",
    "        kb_embeddings=True,\n",
    "        coherence_dump_on_prediction=False,\n",
    "        coherence_threshold=0.3,\n",
    "        prediction_threshold=0.47,\n",
    "        pruning=1,\n",
    "        pruning_min=7,\n",
    "        batch_size=BATCH_SIZE,\n",
    "        print_metrics_summary=METRICS_SUMMARY,\n",
    "        print_predictions_summary=PREDICTIONS_SUMMARY,\n",
    "        show_graphs=GRAPHS,\n",
    "        keyword_diversity=0.3,\n",
    "        diverse_keywords=False,\n",
    "        similar_keywords=True,\n",
    "    )\n",
    ")\n",
    "\n",
    "\n",
    "# without NSWP\n",
    "experimentation.queue_experiment(\n",
    "    CoherenceExperiment(\n",
    "        dataset_type=\"city\",\n",
    "        model_string=MODEL_STRING,\n",
    "        max_words_per_step=3,\n",
    "        start=5000,\n",
    "        num_samples=NUM_SAMPLES,\n",
    "        same_word_multiplier=2,\n",
    "        no_same_word_penalty=1,\n",
    "        kb_embeddings=True,\n",
    "        coherence_dump_on_prediction=False,\n",
    "        coherence_threshold=0.3,\n",
    "        prediction_threshold=0.47,\n",
    "        pruning=1,\n",
    "        pruning_min=7,\n",
    "        batch_size=BATCH_SIZE,\n",
    "        print_metrics_summary=METRICS_SUMMARY,\n",
    "        print_predictions_summary=PREDICTIONS_SUMMARY,\n",
    "        show_graphs=GRAPHS,\n",
    "        keyword_diversity=0.3,\n",
    "        diverse_keywords=False,\n",
    "        similar_keywords=True,\n",
    "    )\n",
    ")"
   ]
  },
  {
   "cell_type": "code",
   "execution_count": 10,
   "id": "b57a9097",
   "metadata": {
    "scrolled": false
   },
   "outputs": [
    {
     "name": "stdout",
     "output_type": "stream",
     "text": [
      "Running experiment set: 77XCq\n",
      "Running experiment: CoherenceExperiment(num_samples=5000, start=5000, dataset_type='city', model_string='roberta-base', max_words_per_step=3, same_word_multiplier=2, no_same_word_penalty=2, prediction_threshold=0.47, coherence_threshold=0.3, coherence_dump_on_prediction=False, pruning=0, pruning_min=7, dynamic_threshold=False, threshold_warmup=10, last_n_threshold=5, kb_embeddings=True, experiment_hash='dyb4q', batch_size=1, keyword_diversity=0.3, diverse_keywords=True, similar_keywords=True, print_metrics_summary=False, print_predictions_summary=True, show_graphs=True)\n",
      "wikisection_city\n"
     ]
    },
    {
     "name": "stderr",
     "output_type": "stream",
     "text": [
      "Some weights of the model checkpoint at roberta-base were not used when initializing RobertaModel: ['lm_head.layer_norm.weight', 'lm_head.decoder.weight', 'lm_head.dense.bias', 'lm_head.layer_norm.bias', 'lm_head.bias', 'lm_head.dense.weight']\n",
      "- This IS expected if you are initializing RobertaModel from the checkpoint of a model trained on another task or with another architecture (e.g. initializing a BertForSequenceClassification model from a BertForPreTraining model).\n",
      "- This IS NOT expected if you are initializing RobertaModel from the checkpoint of a model that you expect to be exactly identical (initializing a BertForSequenceClassification model from a BertForSequenceClassification model).\n",
      "No sentence-transformers model found with name /Users/amitmaraj/.cache/torch/sentence_transformers/bert-base-uncased. Creating a new one with MEAN pooling.\n",
      "Some weights of the model checkpoint at /Users/amitmaraj/.cache/torch/sentence_transformers/bert-base-uncased were not used when initializing BertModel: ['cls.predictions.transform.LayerNorm.bias', 'cls.predictions.bias', 'cls.seq_relationship.bias', 'cls.predictions.transform.dense.bias', 'cls.seq_relationship.weight', 'cls.predictions.decoder.weight', 'cls.predictions.transform.dense.weight', 'cls.predictions.transform.LayerNorm.weight']\n",
      "- This IS expected if you are initializing BertModel from the checkpoint of a model trained on another task or with another architecture (e.g. initializing a BertForSequenceClassification model from a BertForPreTraining model).\n",
      "- This IS NOT expected if you are initializing BertModel from the checkpoint of a model that you expect to be exactly identical (initializing a BertForSequenceClassification model from a BertForSequenceClassification model).\n"
     ]
    },
    {
     "name": "stdout",
     "output_type": "stream",
     "text": [
      "TOTAL BATCHES: 5000\n",
      "\n"
     ]
    },
    {
     "ename": "TypeError",
     "evalue": "'float' object is not subscriptable",
     "output_type": "error",
     "traceback": [
      "\u001b[0;31m---------------------------------------------------------------------------\u001b[0m",
      "\u001b[0;31mTypeError\u001b[0m                                 Traceback (most recent call last)",
      "Cell \u001b[0;32mIn [10], line 1\u001b[0m\n\u001b[0;32m----> 1\u001b[0m experimentation\u001b[38;5;241m.\u001b[39mrun()\n",
      "File \u001b[0;32m~/Documents/PhD/HumanMachineLab/Coherence/src/experimentation/coherence_v2.py:284\u001b[0m, in \u001b[0;36mSimpleExperiment.run\u001b[0;34m(self)\u001b[0m\n\u001b[1;32m    271\u001b[0m \u001b[38;5;66;03m# initialize the coherence library\u001b[39;00m\n\u001b[1;32m    272\u001b[0m coherence \u001b[38;5;241m=\u001b[39m Coherence(\n\u001b[1;32m    273\u001b[0m     max_words_per_step\u001b[38;5;241m=\u001b[39mexperiment\u001b[38;5;241m.\u001b[39mmax_words_per_step,\n\u001b[1;32m    274\u001b[0m     same_word_multiplier\u001b[38;5;241m=\u001b[39mexperiment\u001b[38;5;241m.\u001b[39msame_word_multiplier,\n\u001b[0;32m   (...)\u001b[0m\n\u001b[1;32m    281\u001b[0m     similar_keywords\u001b[38;5;241m=\u001b[39mexperiment\u001b[38;5;241m.\u001b[39msimilar_keywords,\n\u001b[1;32m    282\u001b[0m )\n\u001b[0;32m--> 284\u001b[0m logits \u001b[38;5;241m=\u001b[39m \u001b[43mcoherence\u001b[49m\u001b[38;5;241;43m.\u001b[39;49m\u001b[43mpredict\u001b[49m\u001b[43m(\u001b[49m\n\u001b[1;32m    285\u001b[0m \u001b[43m    \u001b[49m\u001b[43mtext_data\u001b[49m\u001b[38;5;241;43m=\u001b[39;49m\u001b[43mbatch_segments_to_test\u001b[49m\u001b[43m,\u001b[49m\n\u001b[1;32m    286\u001b[0m \u001b[43m    \u001b[49m\u001b[43mmax_tokens\u001b[49m\u001b[38;5;241;43m=\u001b[39;49m\u001b[38;5;241;43m128\u001b[39;49m\u001b[43m,\u001b[49m\n\u001b[1;32m    287\u001b[0m \u001b[43m    \u001b[49m\u001b[43mprediction_threshold\u001b[49m\u001b[38;5;241;43m=\u001b[39;49m\u001b[43mexperiment\u001b[49m\u001b[38;5;241;43m.\u001b[39;49m\u001b[43mprediction_threshold\u001b[49m\u001b[43m,\u001b[49m\n\u001b[1;32m    288\u001b[0m \u001b[43m    \u001b[49m\u001b[43mpruning\u001b[49m\u001b[38;5;241;43m=\u001b[39;49m\u001b[43mexperiment\u001b[49m\u001b[38;5;241;43m.\u001b[39;49m\u001b[43mpruning\u001b[49m\u001b[43m,\u001b[49m\n\u001b[1;32m    289\u001b[0m \u001b[43m    \u001b[49m\u001b[43mpruning_min\u001b[49m\u001b[38;5;241;43m=\u001b[39;49m\u001b[43mexperiment\u001b[49m\u001b[38;5;241;43m.\u001b[39;49m\u001b[43mpruning_min\u001b[49m\u001b[43m,\u001b[49m\n\u001b[1;32m    290\u001b[0m \u001b[43m    \u001b[49m\u001b[43mcoherence_dump_on_prediction\u001b[49m\u001b[38;5;241;43m=\u001b[39;49m\u001b[43mexperiment\u001b[49m\u001b[38;5;241;43m.\u001b[39;49m\u001b[43mcoherence_dump_on_prediction\u001b[49m\u001b[43m,\u001b[49m\n\u001b[1;32m    291\u001b[0m \u001b[43m    \u001b[49m\u001b[43mbatch_size\u001b[49m\u001b[38;5;241;43m=\u001b[39;49m\u001b[43mexperiment\u001b[49m\u001b[38;5;241;43m.\u001b[39;49m\u001b[43mbatch_size\u001b[49m\u001b[43m,\u001b[49m\n\u001b[1;32m    292\u001b[0m \u001b[43m\u001b[49m\u001b[43m)\u001b[49m\n\u001b[1;32m    294\u001b[0m \u001b[38;5;28mself\u001b[39m\u001b[38;5;241m.\u001b[39mlog_predictions(experiment, logits, batch_labels_to_test)\n\u001b[1;32m    296\u001b[0m \u001b[38;5;28mprint\u001b[39m(\u001b[38;5;124mf\u001b[39m\u001b[38;5;124m\"\u001b[39m\u001b[38;5;130;01m\\n\u001b[39;00m\u001b[38;5;124mExperiment \u001b[39m\u001b[38;5;132;01m{\u001b[39;00mi\u001b[38;5;241m+\u001b[39m\u001b[38;5;241m1\u001b[39m\u001b[38;5;132;01m}\u001b[39;00m\u001b[38;5;124m - \u001b[39m\u001b[38;5;132;01m{\u001b[39;00mexperiment\u001b[38;5;241m.\u001b[39mexperiment_hash\u001b[38;5;132;01m}\u001b[39;00m\u001b[38;5;124m complete.\u001b[39m\u001b[38;5;124m\"\u001b[39m)\n",
      "File \u001b[0;32m~/Documents/PhD/HumanMachineLab/Coherence/src/encoders/coherence_v2.py:272\u001b[0m, in \u001b[0;36mCoherence.predict\u001b[0;34m(self, text_data, max_tokens, prediction_threshold, coherence_dump_on_prediction, pruning, pruning_min, dynamic_threshold, threshold_warmup, last_n_threshold, batch_size)\u001b[0m\n\u001b[1;32m    265\u001b[0m     embedding_technique \u001b[38;5;241m=\u001b[39m (\n\u001b[1;32m    266\u001b[0m         \u001b[38;5;28mself\u001b[39m\u001b[38;5;241m.\u001b[39mkeywords_lib\u001b[38;5;241m.\u001b[39mget_batch_keywords_with_embeddings\n\u001b[1;32m    267\u001b[0m     )\n\u001b[1;32m    269\u001b[0m \u001b[38;5;66;03m# get all the keywords per sentence and truncate at max number of words\u001b[39;00m\n\u001b[1;32m    270\u001b[0m batch_keywords \u001b[38;5;241m=\u001b[39m [\n\u001b[1;32m    271\u001b[0m     x[: \u001b[38;5;28mself\u001b[39m\u001b[38;5;241m.\u001b[39mmax_words_per_step]\n\u001b[0;32m--> 272\u001b[0m     \u001b[38;5;28;01mfor\u001b[39;00m x \u001b[38;5;129;01min\u001b[39;00m \u001b[43membedding_technique\u001b[49m\u001b[43m(\u001b[49m\n\u001b[1;32m    273\u001b[0m \u001b[43m        \u001b[49m\u001b[43mcurr_batch\u001b[49m\u001b[43m,\u001b[49m\n\u001b[1;32m    274\u001b[0m \u001b[43m        \u001b[49m\u001b[43mdiversity\u001b[49m\u001b[38;5;241;43m=\u001b[39;49m\u001b[38;5;28;43mself\u001b[39;49m\u001b[38;5;241;43m.\u001b[39;49m\u001b[43mkeyword_diversity\u001b[49m\u001b[43m,\u001b[49m\n\u001b[1;32m    275\u001b[0m \u001b[43m        \u001b[49m\u001b[43mdiverse_keywords\u001b[49m\u001b[38;5;241;43m=\u001b[39;49m\u001b[38;5;28;43mself\u001b[39;49m\u001b[38;5;241;43m.\u001b[39;49m\u001b[43mdiverse_keywords\u001b[49m\u001b[43m,\u001b[49m\n\u001b[1;32m    276\u001b[0m \u001b[43m        \u001b[49m\u001b[43msimilar_keywords\u001b[49m\u001b[38;5;241;43m=\u001b[39;49m\u001b[38;5;28;43mself\u001b[39;49m\u001b[38;5;241;43m.\u001b[39;49m\u001b[43msimilar_keywords\u001b[49m\u001b[43m,\u001b[49m\n\u001b[1;32m    277\u001b[0m \u001b[43m    \u001b[49m\u001b[43m)\u001b[49m\n\u001b[1;32m    278\u001b[0m ]\n\u001b[1;32m    280\u001b[0m \u001b[38;5;66;03m# add the keywords to the coherence map\u001b[39;00m\n\u001b[1;32m    281\u001b[0m cohesion \u001b[38;5;241m=\u001b[39m \u001b[38;5;28mself\u001b[39m\u001b[38;5;241m.\u001b[39mget_coherence(batch_keywords)\n",
      "File \u001b[0;32m~/Documents/PhD/HumanMachineLab/Coherence/src/bertkeywords/src/keywords.py:217\u001b[0m, in \u001b[0;36mKeywords.get_batch_keywords_with_kb_embeddings\u001b[0;34m(self, data, diversity, diverse_keywords, similar_keywords)\u001b[0m\n\u001b[1;32m    203\u001b[0m \u001b[38;5;66;03m# # NON NUMERIC ADDITIONS\u001b[39;00m\n\u001b[1;32m    204\u001b[0m \u001b[38;5;66;03m# for kw, we in zip(keywords, word_embeddings):\u001b[39;00m\n\u001b[1;32m    205\u001b[0m \u001b[38;5;66;03m#     # all the keywords are numbers, just return them and move on.\u001b[39;00m\n\u001b[0;32m   (...)\u001b[0m\n\u001b[1;32m    212\u001b[0m \u001b[38;5;66;03m#         if not kw[0].isnumeric():\u001b[39;00m\n\u001b[1;32m    213\u001b[0m \u001b[38;5;66;03m#             keywords_with_embeddings.append((kw[0], kw[1], torch.tensor(we)))\u001b[39;00m\n\u001b[1;32m    215\u001b[0m \u001b[38;5;28;01mfor\u001b[39;00m sentences \u001b[38;5;129;01min\u001b[39;00m keywords_with_embeddings:\n\u001b[1;32m    216\u001b[0m     \u001b[38;5;66;03m# sort by descending to have the most important words first\u001b[39;00m\n\u001b[0;32m--> 217\u001b[0m     desc_sorted_words \u001b[38;5;241m=\u001b[39m \u001b[38;5;28;43msorted\u001b[39;49m\u001b[43m(\u001b[49m\u001b[43msentences\u001b[49m\u001b[43m,\u001b[49m\u001b[43m \u001b[49m\u001b[43mkey\u001b[49m\u001b[38;5;241;43m=\u001b[39;49m\u001b[38;5;28;43;01mlambda\u001b[39;49;00m\u001b[43m \u001b[49m\u001b[43mx\u001b[49m\u001b[43m:\u001b[49m\u001b[43m \u001b[49m\u001b[43mx\u001b[49m\u001b[43m[\u001b[49m\u001b[38;5;241;43m1\u001b[39;49m\u001b[43m]\u001b[49m\u001b[43m)\u001b[49m[::\u001b[38;5;241m-\u001b[39m\u001b[38;5;241m1\u001b[39m]\n\u001b[1;32m    218\u001b[0m     batch_sentences\u001b[38;5;241m.\u001b[39mappend(desc_sorted_words)\n\u001b[1;32m    220\u001b[0m \u001b[38;5;28;01mreturn\u001b[39;00m batch_sentences\n",
      "File \u001b[0;32m~/Documents/PhD/HumanMachineLab/Coherence/src/bertkeywords/src/keywords.py:217\u001b[0m, in \u001b[0;36mKeywords.get_batch_keywords_with_kb_embeddings.<locals>.<lambda>\u001b[0;34m(x)\u001b[0m\n\u001b[1;32m    203\u001b[0m \u001b[38;5;66;03m# # NON NUMERIC ADDITIONS\u001b[39;00m\n\u001b[1;32m    204\u001b[0m \u001b[38;5;66;03m# for kw, we in zip(keywords, word_embeddings):\u001b[39;00m\n\u001b[1;32m    205\u001b[0m \u001b[38;5;66;03m#     # all the keywords are numbers, just return them and move on.\u001b[39;00m\n\u001b[0;32m   (...)\u001b[0m\n\u001b[1;32m    212\u001b[0m \u001b[38;5;66;03m#         if not kw[0].isnumeric():\u001b[39;00m\n\u001b[1;32m    213\u001b[0m \u001b[38;5;66;03m#             keywords_with_embeddings.append((kw[0], kw[1], torch.tensor(we)))\u001b[39;00m\n\u001b[1;32m    215\u001b[0m \u001b[38;5;28;01mfor\u001b[39;00m sentences \u001b[38;5;129;01min\u001b[39;00m keywords_with_embeddings:\n\u001b[1;32m    216\u001b[0m     \u001b[38;5;66;03m# sort by descending to have the most important words first\u001b[39;00m\n\u001b[0;32m--> 217\u001b[0m     desc_sorted_words \u001b[38;5;241m=\u001b[39m \u001b[38;5;28msorted\u001b[39m(sentences, key\u001b[38;5;241m=\u001b[39m\u001b[38;5;28;01mlambda\u001b[39;00m x: \u001b[43mx\u001b[49m\u001b[43m[\u001b[49m\u001b[38;5;241;43m1\u001b[39;49m\u001b[43m]\u001b[49m)[::\u001b[38;5;241m-\u001b[39m\u001b[38;5;241m1\u001b[39m]\n\u001b[1;32m    218\u001b[0m     batch_sentences\u001b[38;5;241m.\u001b[39mappend(desc_sorted_words)\n\u001b[1;32m    220\u001b[0m \u001b[38;5;28;01mreturn\u001b[39;00m batch_sentences\n",
      "\u001b[0;31mTypeError\u001b[0m: 'float' object is not subscriptable"
     ]
    },
    {
     "data": {
      "application/javascript": [
       "\n",
       "            setTimeout(function() {\n",
       "                var nbb_cell_id = 10;\n",
       "                var nbb_unformatted_code = \"experimentation.run()\";\n",
       "                var nbb_formatted_code = \"experimentation.run()\";\n",
       "                var nbb_cells = Jupyter.notebook.get_cells();\n",
       "                for (var i = 0; i < nbb_cells.length; ++i) {\n",
       "                    if (nbb_cells[i].input_prompt_number == nbb_cell_id) {\n",
       "                        if (nbb_cells[i].get_text() == nbb_unformatted_code) {\n",
       "                             nbb_cells[i].set_text(nbb_formatted_code);\n",
       "                        }\n",
       "                        break;\n",
       "                    }\n",
       "                }\n",
       "            }, 500);\n",
       "            "
      ],
      "text/plain": [
       "<IPython.core.display.Javascript object>"
      ]
     },
     "metadata": {},
     "output_type": "display_data"
    }
   ],
   "source": [
    "experimentation.run()"
   ]
  },
  {
   "cell_type": "markdown",
   "id": "ba41ba20",
   "metadata": {},
   "source": [
    "### ========================================================="
   ]
  },
  {
   "cell_type": "markdown",
   "id": "c840ba52",
   "metadata": {},
   "source": [
    "### Testing proximity metrics"
   ]
  },
  {
   "cell_type": "code",
   "execution_count": 71,
   "id": "7dc8b4aa",
   "metadata": {},
   "outputs": [
    {
     "data": {
      "application/javascript": [
       "\n",
       "            setTimeout(function() {\n",
       "                var nbb_cell_id = 71;\n",
       "                var nbb_unformatted_code = \"# fmt: off\\npredictions=[1, 0, 1, 0, 0, 0, 0, 1, 1, 0, 0, 0, 0, 0, 0, 0, 0, 0, 0, 0, 0, 0, 0, 0, 0, 0, 0, 0, 0, 0, 0, 0, 0, 0, 0, 0, 0, 0, 0, 0, 0, 0, 0, 0, 0, 0, 0, 0, 0, 0, 0, 0, 0, 0, 0, 0, 0, 0, 0, 0, 0, 0, 0, 0, 0, 0, 0, 0, 0, 0, 0, 0, 0, 0, 0, 0, 0, 1, 0, 0, 0, 1, 0, 0, 0, 0, 0, 0, 0, 0, 0, 0, 0, 0, 0, 0, 0, 0, 0, 1, 1, 0, 0, 0, 0, 0, 0, 0, 0, 0, 0, 0, 0, 0, 0, 0, 0, 0, 0, 0, 0, 0, 0, 0, 0, 1, 0, 0, 0, 0, 0, 0, 0, 0, 0, 1, 1, 0, 0, 0, 0, 0, 0, 0, 0, 0, 0, 0, 0, 0, 0, 1, 0, 1, 0, 1, 1, 0, 0, 0, 0, 0, 0, 0, 0, 0, 0, 0, 0, 0, 0, 0, 0, 0, 0, 0, 0, 0, 0, 0, 0, 0, 0, 0, 0, 0, 0, 0, 0, 0, 0, 0, 0, 0, 0, 0, 0, 0, 0, 0]\\nreal=[0, 0, 1, 0, 0, 0, 0, 0, 1, 0, 0, 1, 0, 0, 0, 0, 1, 0, 0, 1, 0, 0, 1, 0, 0, 1, 0, 0, 0, 0, 0, 0, 1, 0, 0, 1, 0, 0, 1, 0, 0, 0, 0, 1, 0, 0, 0, 0, 0, 0, 0, 0, 0, 0, 0, 0, 0, 0, 0, 0, 0, 0, 0, 0, 0, 0, 0, 0, 0, 0, 0, 0, 0, 1, 0, 0, 0, 1, 0, 0, 0, 1, 0, 0, 0, 1, 0, 1, 0, 0, 0, 0, 0, 1, 0, 0, 0, 0, 0, 0, 1, 0, 0, 0, 0, 0, 1, 0, 0, 0, 1, 0, 0, 1, 0, 1, 0, 0, 0, 1, 0, 0, 0, 0, 0, 1, 0, 0, 0, 0, 1, 0, 0, 1, 0, 1, 0, 0, 0, 1, 0, 0, 0, 0, 0, 0, 1, 0, 1, 0, 0, 1, 0, 1, 0, 1, 1, 0, 0, 0, 0, 0, 1, 0, 0, 0, 0, 0, 0, 1, 0, 0, 0, 0, 0, 0, 0, 0, 0, 0, 0, 0, 0, 1, 0, 0, 0, 0, 1, 0, 0, 0, 0, 0, 0, 0, 0, 0, 0, 1]\\n# fmt: on\";\n",
       "                var nbb_formatted_code = \"# fmt: off\\npredictions=[1, 0, 1, 0, 0, 0, 0, 1, 1, 0, 0, 0, 0, 0, 0, 0, 0, 0, 0, 0, 0, 0, 0, 0, 0, 0, 0, 0, 0, 0, 0, 0, 0, 0, 0, 0, 0, 0, 0, 0, 0, 0, 0, 0, 0, 0, 0, 0, 0, 0, 0, 0, 0, 0, 0, 0, 0, 0, 0, 0, 0, 0, 0, 0, 0, 0, 0, 0, 0, 0, 0, 0, 0, 0, 0, 0, 0, 1, 0, 0, 0, 1, 0, 0, 0, 0, 0, 0, 0, 0, 0, 0, 0, 0, 0, 0, 0, 0, 0, 1, 1, 0, 0, 0, 0, 0, 0, 0, 0, 0, 0, 0, 0, 0, 0, 0, 0, 0, 0, 0, 0, 0, 0, 0, 0, 1, 0, 0, 0, 0, 0, 0, 0, 0, 0, 1, 1, 0, 0, 0, 0, 0, 0, 0, 0, 0, 0, 0, 0, 0, 0, 1, 0, 1, 0, 1, 1, 0, 0, 0, 0, 0, 0, 0, 0, 0, 0, 0, 0, 0, 0, 0, 0, 0, 0, 0, 0, 0, 0, 0, 0, 0, 0, 0, 0, 0, 0, 0, 0, 0, 0, 0, 0, 0, 0, 0, 0, 0, 0, 0]\\nreal=[0, 0, 1, 0, 0, 0, 0, 0, 1, 0, 0, 1, 0, 0, 0, 0, 1, 0, 0, 1, 0, 0, 1, 0, 0, 1, 0, 0, 0, 0, 0, 0, 1, 0, 0, 1, 0, 0, 1, 0, 0, 0, 0, 1, 0, 0, 0, 0, 0, 0, 0, 0, 0, 0, 0, 0, 0, 0, 0, 0, 0, 0, 0, 0, 0, 0, 0, 0, 0, 0, 0, 0, 0, 1, 0, 0, 0, 1, 0, 0, 0, 1, 0, 0, 0, 1, 0, 1, 0, 0, 0, 0, 0, 1, 0, 0, 0, 0, 0, 0, 1, 0, 0, 0, 0, 0, 1, 0, 0, 0, 1, 0, 0, 1, 0, 1, 0, 0, 0, 1, 0, 0, 0, 0, 0, 1, 0, 0, 0, 0, 1, 0, 0, 1, 0, 1, 0, 0, 0, 1, 0, 0, 0, 0, 0, 0, 1, 0, 1, 0, 0, 1, 0, 1, 0, 1, 1, 0, 0, 0, 0, 0, 1, 0, 0, 0, 0, 0, 0, 1, 0, 0, 0, 0, 0, 0, 0, 0, 0, 0, 0, 0, 0, 1, 0, 0, 0, 0, 1, 0, 0, 0, 0, 0, 0, 0, 0, 0, 0, 1]\\n# fmt: on\";\n",
       "                var nbb_cells = Jupyter.notebook.get_cells();\n",
       "                for (var i = 0; i < nbb_cells.length; ++i) {\n",
       "                    if (nbb_cells[i].input_prompt_number == nbb_cell_id) {\n",
       "                        if (nbb_cells[i].get_text() == nbb_unformatted_code) {\n",
       "                             nbb_cells[i].set_text(nbb_formatted_code);\n",
       "                        }\n",
       "                        break;\n",
       "                    }\n",
       "                }\n",
       "            }, 500);\n",
       "            "
      ],
      "text/plain": [
       "<IPython.core.display.Javascript object>"
      ]
     },
     "metadata": {},
     "output_type": "display_data"
    }
   ],
   "source": [
    "# fmt: off\n",
    "predictions=[1, 0, 1, 0, 0, 0, 0, 1, 1, 0, 0, 0, 0, 0, 0, 0, 0, 0, 0, 0, 0, 0, 0, 0, 0, 0, 0, 0, 0, 0, 0, 0, 0, 0, 0, 0, 0, 0, 0, 0, 0, 0, 0, 0, 0, 0, 0, 0, 0, 0, 0, 0, 0, 0, 0, 0, 0, 0, 0, 0, 0, 0, 0, 0, 0, 0, 0, 0, 0, 0, 0, 0, 0, 0, 0, 0, 0, 1, 0, 0, 0, 1, 0, 0, 0, 0, 0, 0, 0, 0, 0, 0, 0, 0, 0, 0, 0, 0, 0, 1, 1, 0, 0, 0, 0, 0, 0, 0, 0, 0, 0, 0, 0, 0, 0, 0, 0, 0, 0, 0, 0, 0, 0, 0, 0, 1, 0, 0, 0, 0, 0, 0, 0, 0, 0, 1, 1, 0, 0, 0, 0, 0, 0, 0, 0, 0, 0, 0, 0, 0, 0, 1, 0, 1, 0, 1, 1, 0, 0, 0, 0, 0, 0, 0, 0, 0, 0, 0, 0, 0, 0, 0, 0, 0, 0, 0, 0, 0, 0, 0, 0, 0, 0, 0, 0, 0, 0, 0, 0, 0, 0, 0, 0, 0, 0, 0, 0, 0, 0, 0]\n",
    "real=[0, 0, 1, 0, 0, 0, 0, 0, 1, 0, 0, 1, 0, 0, 0, 0, 1, 0, 0, 1, 0, 0, 1, 0, 0, 1, 0, 0, 0, 0, 0, 0, 1, 0, 0, 1, 0, 0, 1, 0, 0, 0, 0, 1, 0, 0, 0, 0, 0, 0, 0, 0, 0, 0, 0, 0, 0, 0, 0, 0, 0, 0, 0, 0, 0, 0, 0, 0, 0, 0, 0, 0, 0, 1, 0, 0, 0, 1, 0, 0, 0, 1, 0, 0, 0, 1, 0, 1, 0, 0, 0, 0, 0, 1, 0, 0, 0, 0, 0, 0, 1, 0, 0, 0, 0, 0, 1, 0, 0, 0, 1, 0, 0, 1, 0, 1, 0, 0, 0, 1, 0, 0, 0, 0, 0, 1, 0, 0, 0, 0, 1, 0, 0, 1, 0, 1, 0, 0, 0, 1, 0, 0, 0, 0, 0, 0, 1, 0, 1, 0, 0, 1, 0, 1, 0, 1, 1, 0, 0, 0, 0, 0, 1, 0, 0, 0, 0, 0, 0, 1, 0, 0, 0, 0, 0, 0, 0, 0, 0, 0, 0, 0, 0, 1, 0, 0, 0, 0, 1, 0, 0, 0, 0, 0, 0, 0, 0, 0, 0, 1]\n",
    "# fmt: on"
   ]
  },
  {
   "cell_type": "code",
   "execution_count": 72,
   "id": "25f390ad",
   "metadata": {},
   "outputs": [
    {
     "data": {
      "application/javascript": [
       "\n",
       "            setTimeout(function() {\n",
       "                var nbb_cell_id = 72;\n",
       "                var nbb_unformatted_code = \"def check_proximity(predictions, real, proximity=2):\\n    exact_matches = 0\\n    very_close_matches = 0  # within 1 step\\n    close_matches = 0  # within 2 steps\\n\\n    for i, (p, r) in enumerate(zip(predictions, real)):\\n        # take care of all the cases where we're at the\\n        # beginning of the arrays\\n        prev_idx = i - 1\\n        prev_prev_idx = i - 2\\n        if i == 0 or i == 1:\\n            prev_idx = 0\\n            prev_prev_idx = 0\\n\\n        prev_prediction = predictions[prev_idx]\\n        prev_prev_prediction = predictions[prev_prev_idx]\\n\\n        # take care of all the cases where we're at the\\n        # end of the arrays\\n        next_idx = i + 1\\n        next_next_idx = i + 2\\n        if i == (len(predictions) - 1):\\n            next_idx = i\\n            next_next_idx = i\\n        if i == (len(predictions) - 2):\\n            next_idx = i + 1\\n            next_next_idx = i + 1\\n\\n        next_prediction = predictions[next_idx]\\n        next_next_prediction = predictions[next_next_idx]\\n\\n        if r == 1 and p == 1:\\n            exact_matches += 1\\n            continue\\n        if r == 1:\\n            if prev_prediction == 1 or next_prediction == 1:\\n                very_close_matches += 1\\n                continue\\n            if prev_prev_prediction == 1 or next_next_prediction == 1:\\n                close_matches += 1\\n                continue\\n            continue\\n\\n    return exact_matches, very_close_matches, close_matches\";\n",
       "                var nbb_formatted_code = \"def check_proximity(predictions, real, proximity=2):\\n    exact_matches = 0\\n    very_close_matches = 0  # within 1 step\\n    close_matches = 0  # within 2 steps\\n\\n    for i, (p, r) in enumerate(zip(predictions, real)):\\n        # take care of all the cases where we're at the\\n        # beginning of the arrays\\n        prev_idx = i - 1\\n        prev_prev_idx = i - 2\\n        if i == 0 or i == 1:\\n            prev_idx = 0\\n            prev_prev_idx = 0\\n\\n        prev_prediction = predictions[prev_idx]\\n        prev_prev_prediction = predictions[prev_prev_idx]\\n\\n        # take care of all the cases where we're at the\\n        # end of the arrays\\n        next_idx = i + 1\\n        next_next_idx = i + 2\\n        if i == (len(predictions) - 1):\\n            next_idx = i\\n            next_next_idx = i\\n        if i == (len(predictions) - 2):\\n            next_idx = i + 1\\n            next_next_idx = i + 1\\n\\n        next_prediction = predictions[next_idx]\\n        next_next_prediction = predictions[next_next_idx]\\n\\n        if r == 1 and p == 1:\\n            exact_matches += 1\\n            continue\\n        if r == 1:\\n            if prev_prediction == 1 or next_prediction == 1:\\n                very_close_matches += 1\\n                continue\\n            if prev_prev_prediction == 1 or next_next_prediction == 1:\\n                close_matches += 1\\n                continue\\n            continue\\n\\n    return exact_matches, very_close_matches, close_matches\";\n",
       "                var nbb_cells = Jupyter.notebook.get_cells();\n",
       "                for (var i = 0; i < nbb_cells.length; ++i) {\n",
       "                    if (nbb_cells[i].input_prompt_number == nbb_cell_id) {\n",
       "                        if (nbb_cells[i].get_text() == nbb_unformatted_code) {\n",
       "                             nbb_cells[i].set_text(nbb_formatted_code);\n",
       "                        }\n",
       "                        break;\n",
       "                    }\n",
       "                }\n",
       "            }, 500);\n",
       "            "
      ],
      "text/plain": [
       "<IPython.core.display.Javascript object>"
      ]
     },
     "metadata": {},
     "output_type": "display_data"
    }
   ],
   "source": [
    "def check_proximity(predictions, real, proximity=2):\n",
    "    exact_matches = 0\n",
    "    very_close_matches = 0  # within 1 step\n",
    "    close_matches = 0  # within 2 steps\n",
    "\n",
    "    for i, (p, r) in enumerate(zip(predictions, real)):\n",
    "        # take care of all the cases where we're at the\n",
    "        # beginning of the arrays\n",
    "        prev_idx = i - 1\n",
    "        prev_prev_idx = i - 2\n",
    "        if i == 0 or i == 1:\n",
    "            prev_idx = 0\n",
    "            prev_prev_idx = 0\n",
    "\n",
    "        prev_prediction = predictions[prev_idx]\n",
    "        prev_prev_prediction = predictions[prev_prev_idx]\n",
    "\n",
    "        # take care of all the cases where we're at the\n",
    "        # end of the arrays\n",
    "        next_idx = i + 1\n",
    "        next_next_idx = i + 2\n",
    "        if i == (len(predictions) - 1):\n",
    "            next_idx = i\n",
    "            next_next_idx = i\n",
    "        if i == (len(predictions) - 2):\n",
    "            next_idx = i + 1\n",
    "            next_next_idx = i + 1\n",
    "\n",
    "        next_prediction = predictions[next_idx]\n",
    "        next_next_prediction = predictions[next_next_idx]\n",
    "\n",
    "        if r == 1 and p == 1:\n",
    "            exact_matches += 1\n",
    "            continue\n",
    "        if r == 1:\n",
    "            if prev_prediction == 1 or next_prediction == 1:\n",
    "                very_close_matches += 1\n",
    "                continue\n",
    "            if prev_prev_prediction == 1 or next_next_prediction == 1:\n",
    "                close_matches += 1\n",
    "                continue\n",
    "            continue\n",
    "\n",
    "    return exact_matches, very_close_matches, close_matches"
   ]
  },
  {
   "cell_type": "code",
   "execution_count": 73,
   "id": "cf7dc7a4",
   "metadata": {},
   "outputs": [
    {
     "data": {
      "application/javascript": [
       "\n",
       "            setTimeout(function() {\n",
       "                var nbb_cell_id = 73;\n",
       "                var nbb_unformatted_code = \"exact_matches, close_matches, very_close_matches = check_proximity(predictions, real)\";\n",
       "                var nbb_formatted_code = \"exact_matches, close_matches, very_close_matches = check_proximity(predictions, real)\";\n",
       "                var nbb_cells = Jupyter.notebook.get_cells();\n",
       "                for (var i = 0; i < nbb_cells.length; ++i) {\n",
       "                    if (nbb_cells[i].input_prompt_number == nbb_cell_id) {\n",
       "                        if (nbb_cells[i].get_text() == nbb_unformatted_code) {\n",
       "                             nbb_cells[i].set_text(nbb_formatted_code);\n",
       "                        }\n",
       "                        break;\n",
       "                    }\n",
       "                }\n",
       "            }, 500);\n",
       "            "
      ],
      "text/plain": [
       "<IPython.core.display.Javascript object>"
      ]
     },
     "metadata": {},
     "output_type": "display_data"
    }
   ],
   "source": [
    "exact_matches, close_matches, very_close_matches = check_proximity(predictions, real)"
   ]
  },
  {
   "cell_type": "code",
   "execution_count": 74,
   "id": "7ffe5443",
   "metadata": {},
   "outputs": [
    {
     "data": {
      "text/plain": [
       "(11, 0, 1, 15, 39)"
      ]
     },
     "execution_count": 74,
     "metadata": {},
     "output_type": "execute_result"
    },
    {
     "data": {
      "application/javascript": [
       "\n",
       "            setTimeout(function() {\n",
       "                var nbb_cell_id = 74;\n",
       "                var nbb_unformatted_code = \"exact_matches, close_matches, very_close_matches, predictions.count(1), real.count(1)\";\n",
       "                var nbb_formatted_code = \"exact_matches, close_matches, very_close_matches, predictions.count(1), real.count(1)\";\n",
       "                var nbb_cells = Jupyter.notebook.get_cells();\n",
       "                for (var i = 0; i < nbb_cells.length; ++i) {\n",
       "                    if (nbb_cells[i].input_prompt_number == nbb_cell_id) {\n",
       "                        if (nbb_cells[i].get_text() == nbb_unformatted_code) {\n",
       "                             nbb_cells[i].set_text(nbb_formatted_code);\n",
       "                        }\n",
       "                        break;\n",
       "                    }\n",
       "                }\n",
       "            }, 500);\n",
       "            "
      ],
      "text/plain": [
       "<IPython.core.display.Javascript object>"
      ]
     },
     "metadata": {},
     "output_type": "display_data"
    }
   ],
   "source": [
    "exact_matches, close_matches, very_close_matches, predictions.count(1), real.count(1)"
   ]
  },
  {
   "cell_type": "code",
   "execution_count": 75,
   "id": "0afbe995",
   "metadata": {},
   "outputs": [
    {
     "data": {
      "application/javascript": [
       "\n",
       "            setTimeout(function() {\n",
       "                var nbb_cell_id = 75;\n",
       "                var nbb_unformatted_code = \"num_positive_predictions = predictions.count(1)\\nnum_real_positives = real.count(1)\";\n",
       "                var nbb_formatted_code = \"num_positive_predictions = predictions.count(1)\\nnum_real_positives = real.count(1)\";\n",
       "                var nbb_cells = Jupyter.notebook.get_cells();\n",
       "                for (var i = 0; i < nbb_cells.length; ++i) {\n",
       "                    if (nbb_cells[i].input_prompt_number == nbb_cell_id) {\n",
       "                        if (nbb_cells[i].get_text() == nbb_unformatted_code) {\n",
       "                             nbb_cells[i].set_text(nbb_formatted_code);\n",
       "                        }\n",
       "                        break;\n",
       "                    }\n",
       "                }\n",
       "            }, 500);\n",
       "            "
      ],
      "text/plain": [
       "<IPython.core.display.Javascript object>"
      ]
     },
     "metadata": {},
     "output_type": "display_data"
    }
   ],
   "source": [
    "num_positive_predictions = predictions.count(1)\n",
    "num_real_positives = real.count(1)"
   ]
  },
  {
   "cell_type": "code",
   "execution_count": 76,
   "id": "15757d94",
   "metadata": {},
   "outputs": [
    {
     "name": "stdout",
     "output_type": "stream",
     "text": [
      "Predictions ----->\n",
      "Percentage of positive predictions made that are within proximity of 2: 0.0\n",
      "Percentage of positive predictions made that are within proximity of 1: 6.666666666666667\n",
      "Percentage of positive predictions made that are exact matches: 73.33333333333333\n",
      "Real ----->\n",
      "Percentage of positive predictions made that are within proximity of 2: 0.0\n",
      "Percentage of positive predictions made that are within proximity of 1: 2.5641025641025643\n",
      "Percentage of positive predictions made that are exact matches: 28.205128205128204\n"
     ]
    },
    {
     "data": {
      "application/javascript": [
       "\n",
       "            setTimeout(function() {\n",
       "                var nbb_cell_id = 76;\n",
       "                var nbb_unformatted_code = \"print(\\\"Predictions ----->\\\")\\nprint(\\n    f\\\"Percentage of positive predictions made that are within proximity of 2: {100*close_matches/num_positive_predictions}\\\"\\n)\\nprint(\\n    f\\\"Percentage of positive predictions made that are within proximity of 1: {100*very_close_matches/num_positive_predictions}\\\"\\n)\\nprint(\\n    f\\\"Percentage of positive predictions made that are exact matches: {100*exact_matches/num_positive_predictions}\\\"\\n)\\nprint(\\\"Real ----->\\\")\\nprint(\\n    f\\\"Percentage of positive predictions made that are within proximity of 2: {100*close_matches/num_real_positives}\\\"\\n)\\nprint(\\n    f\\\"Percentage of positive predictions made that are within proximity of 1: {100*very_close_matches/num_real_positives}\\\"\\n)\\nprint(\\n    f\\\"Percentage of positive predictions made that are exact matches: {100*exact_matches/num_real_positives}\\\"\\n)\";\n",
       "                var nbb_formatted_code = \"print(\\\"Predictions ----->\\\")\\nprint(\\n    f\\\"Percentage of positive predictions made that are within proximity of 2: {100*close_matches/num_positive_predictions}\\\"\\n)\\nprint(\\n    f\\\"Percentage of positive predictions made that are within proximity of 1: {100*very_close_matches/num_positive_predictions}\\\"\\n)\\nprint(\\n    f\\\"Percentage of positive predictions made that are exact matches: {100*exact_matches/num_positive_predictions}\\\"\\n)\\nprint(\\\"Real ----->\\\")\\nprint(\\n    f\\\"Percentage of positive predictions made that are within proximity of 2: {100*close_matches/num_real_positives}\\\"\\n)\\nprint(\\n    f\\\"Percentage of positive predictions made that are within proximity of 1: {100*very_close_matches/num_real_positives}\\\"\\n)\\nprint(\\n    f\\\"Percentage of positive predictions made that are exact matches: {100*exact_matches/num_real_positives}\\\"\\n)\";\n",
       "                var nbb_cells = Jupyter.notebook.get_cells();\n",
       "                for (var i = 0; i < nbb_cells.length; ++i) {\n",
       "                    if (nbb_cells[i].input_prompt_number == nbb_cell_id) {\n",
       "                        if (nbb_cells[i].get_text() == nbb_unformatted_code) {\n",
       "                             nbb_cells[i].set_text(nbb_formatted_code);\n",
       "                        }\n",
       "                        break;\n",
       "                    }\n",
       "                }\n",
       "            }, 500);\n",
       "            "
      ],
      "text/plain": [
       "<IPython.core.display.Javascript object>"
      ]
     },
     "metadata": {},
     "output_type": "display_data"
    }
   ],
   "source": [
    "print(\"Predictions ----->\")\n",
    "print(\n",
    "    f\"Percentage of positive predictions made that are within proximity of 2: {100*close_matches/num_positive_predictions}\"\n",
    ")\n",
    "print(\n",
    "    f\"Percentage of positive predictions made that are within proximity of 1: {100*very_close_matches/num_positive_predictions}\"\n",
    ")\n",
    "print(\n",
    "    f\"Percentage of positive predictions made that are exact matches: {100*exact_matches/num_positive_predictions}\"\n",
    ")\n",
    "print(\"Real ----->\")\n",
    "print(\n",
    "    f\"Percentage of real predictions made that are within proximity of 2: {100*close_matches/num_real_positives}\"\n",
    ")\n",
    "print(\n",
    "    f\"Percentage of real predictions made that are within proximity of 1: {100*very_close_matches/num_real_positives}\"\n",
    ")\n",
    "print(\n",
    "    f\"Percentage of real predictions made that are exact matches: {100*exact_matches/num_real_positives}\"\n",
    ")"
   ]
  },
  {
   "cell_type": "code",
   "execution_count": 82,
   "id": "e41f187b",
   "metadata": {},
   "outputs": [
    {
     "data": {
      "application/javascript": [
       "\n",
       "            setTimeout(function() {\n",
       "                var nbb_cell_id = 82;\n",
       "                var nbb_unformatted_code = \"proximity = (\\n    (1 / 3 * (close_matches / num_real_positives))\\n    + (1 / 2 * (very_close_matches / num_real_positives))\\n    + (exact_matches / num_real_positives)\\n) / (\\n    (1 / 3 * (close_matches / num_positive_predictions))\\n    + (1 / 2 * (very_close_matches / num_positive_predictions))\\n    + (exact_matches / num_positive_predictions)\\n)\";\n",
       "                var nbb_formatted_code = \"proximity = (\\n    (1 / 3 * (close_matches / num_real_positives))\\n    + (1 / 2 * (very_close_matches / num_real_positives))\\n    + (exact_matches / num_real_positives)\\n) / (\\n    (1 / 3 * (close_matches / num_positive_predictions))\\n    + (1 / 2 * (very_close_matches / num_positive_predictions))\\n    + (exact_matches / num_positive_predictions)\\n)\";\n",
       "                var nbb_cells = Jupyter.notebook.get_cells();\n",
       "                for (var i = 0; i < nbb_cells.length; ++i) {\n",
       "                    if (nbb_cells[i].input_prompt_number == nbb_cell_id) {\n",
       "                        if (nbb_cells[i].get_text() == nbb_unformatted_code) {\n",
       "                             nbb_cells[i].set_text(nbb_formatted_code);\n",
       "                        }\n",
       "                        break;\n",
       "                    }\n",
       "                }\n",
       "            }, 500);\n",
       "            "
      ],
      "text/plain": [
       "<IPython.core.display.Javascript object>"
      ]
     },
     "metadata": {},
     "output_type": "display_data"
    }
   ],
   "source": [
    "proximity = (\n",
    "    (1 / 3 * (close_matches / num_real_positives))\n",
    "    + (1 / 2 * (very_close_matches / num_real_positives))\n",
    "    + (exact_matches / num_real_positives)\n",
    ") / (\n",
    "    (1 / 3 * (close_matches / num_positive_predictions))\n",
    "    + (1 / 2 * (very_close_matches / num_positive_predictions))\n",
    "    + (exact_matches / num_positive_predictions)\n",
    ")"
   ]
  },
  {
   "cell_type": "code",
   "execution_count": 84,
   "id": "e02b8584",
   "metadata": {},
   "outputs": [
    {
     "data": {
      "text/plain": [
       "0.38461538461538464"
      ]
     },
     "execution_count": 84,
     "metadata": {},
     "output_type": "execute_result"
    },
    {
     "data": {
      "application/javascript": [
       "\n",
       "            setTimeout(function() {\n",
       "                var nbb_cell_id = 84;\n",
       "                var nbb_unformatted_code = \"proximity\";\n",
       "                var nbb_formatted_code = \"proximity\";\n",
       "                var nbb_cells = Jupyter.notebook.get_cells();\n",
       "                for (var i = 0; i < nbb_cells.length; ++i) {\n",
       "                    if (nbb_cells[i].input_prompt_number == nbb_cell_id) {\n",
       "                        if (nbb_cells[i].get_text() == nbb_unformatted_code) {\n",
       "                             nbb_cells[i].set_text(nbb_formatted_code);\n",
       "                        }\n",
       "                        break;\n",
       "                    }\n",
       "                }\n",
       "            }, 500);\n",
       "            "
      ],
      "text/plain": [
       "<IPython.core.display.Javascript object>"
      ]
     },
     "metadata": {},
     "output_type": "display_data"
    }
   ],
   "source": [
    "proximity"
   ]
  },
  {
   "cell_type": "code",
   "execution_count": 90,
   "id": "7505798e",
   "metadata": {},
   "outputs": [
    {
     "data": {
      "text/plain": [
       "(39, 15, 0.2948717948717949, 0.7666666666666666)"
      ]
     },
     "execution_count": 90,
     "metadata": {},
     "output_type": "execute_result"
    },
    {
     "data": {
      "application/javascript": [
       "\n",
       "            setTimeout(function() {\n",
       "                var nbb_cell_id = 90;\n",
       "                var nbb_unformatted_code = \"numerator = (\\n    (1 / 3 * (close_matches / num_real_positives))\\n    + (1 / 2 * (very_close_matches / num_real_positives))\\n    + (exact_matches / num_real_positives)\\n)\\n\\ndenominator = (\\n    (1 / 3 * (close_matches / num_positive_predictions))\\n    + (1 / 2 * (very_close_matches / num_positive_predictions))\\n    + (exact_matches / num_positive_predictions)\\n)\\n\\nnum_real_positives, num_positive_predictions, numerator, denominator\";\n",
       "                var nbb_formatted_code = \"numerator = (\\n    (1 / 3 * (close_matches / num_real_positives))\\n    + (1 / 2 * (very_close_matches / num_real_positives))\\n    + (exact_matches / num_real_positives)\\n)\\n\\ndenominator = (\\n    (1 / 3 * (close_matches / num_positive_predictions))\\n    + (1 / 2 * (very_close_matches / num_positive_predictions))\\n    + (exact_matches / num_positive_predictions)\\n)\\n\\nnum_real_positives, num_positive_predictions, numerator, denominator\";\n",
       "                var nbb_cells = Jupyter.notebook.get_cells();\n",
       "                for (var i = 0; i < nbb_cells.length; ++i) {\n",
       "                    if (nbb_cells[i].input_prompt_number == nbb_cell_id) {\n",
       "                        if (nbb_cells[i].get_text() == nbb_unformatted_code) {\n",
       "                             nbb_cells[i].set_text(nbb_formatted_code);\n",
       "                        }\n",
       "                        break;\n",
       "                    }\n",
       "                }\n",
       "            }, 500);\n",
       "            "
      ],
      "text/plain": [
       "<IPython.core.display.Javascript object>"
      ]
     },
     "metadata": {},
     "output_type": "display_data"
    }
   ],
   "source": [
    "numerator = (\n",
    "    (1 / 3 * (close_matches / num_real_positives))\n",
    "    + (1 / 2 * (very_close_matches / num_real_positives))\n",
    "    + (exact_matches / num_real_positives)\n",
    ")\n",
    "\n",
    "denominator = (\n",
    "    (1 / 3 * (close_matches / num_positive_predictions))\n",
    "    + (1 / 2 * (very_close_matches / num_positive_predictions))\n",
    "    + (exact_matches / num_positive_predictions)\n",
    ")\n",
    "\n",
    "num_real_positives, num_positive_predictions, numerator, denominator"
   ]
  },
  {
   "cell_type": "code",
   "execution_count": 92,
   "id": "dbe18e59",
   "metadata": {},
   "outputs": [
    {
     "data": {
      "text/plain": [
       "(0.22606837606837607, 2.5999999999999996)"
      ]
     },
     "execution_count": 92,
     "metadata": {},
     "output_type": "execute_result"
    },
    {
     "data": {
      "application/javascript": [
       "\n",
       "            setTimeout(function() {\n",
       "                var nbb_cell_id = 92;\n",
       "                var nbb_unformatted_code = \"numerator * denominator, denominator / numerator\";\n",
       "                var nbb_formatted_code = \"numerator * denominator, denominator / numerator\";\n",
       "                var nbb_cells = Jupyter.notebook.get_cells();\n",
       "                for (var i = 0; i < nbb_cells.length; ++i) {\n",
       "                    if (nbb_cells[i].input_prompt_number == nbb_cell_id) {\n",
       "                        if (nbb_cells[i].get_text() == nbb_unformatted_code) {\n",
       "                             nbb_cells[i].set_text(nbb_formatted_code);\n",
       "                        }\n",
       "                        break;\n",
       "                    }\n",
       "                }\n",
       "            }, 500);\n",
       "            "
      ],
      "text/plain": [
       "<IPython.core.display.Javascript object>"
      ]
     },
     "metadata": {},
     "output_type": "display_data"
    }
   ],
   "source": [
    "numerator * denominator, denominator / numerator"
   ]
  },
  {
   "cell_type": "code",
   "execution_count": null,
   "id": "d668615e",
   "metadata": {},
   "outputs": [],
   "source": []
  }
 ],
 "metadata": {
  "kernelspec": {
   "display_name": "Python 3 (ipykernel)",
   "language": "python",
   "name": "python3"
  },
  "language_info": {
   "codemirror_mode": {
    "name": "ipython",
    "version": 3
   },
   "file_extension": ".py",
   "mimetype": "text/x-python",
   "name": "python",
   "nbconvert_exporter": "python",
   "pygments_lexer": "ipython3",
   "version": "3.8.13"
  }
 },
 "nbformat": 4,
 "nbformat_minor": 5
}
