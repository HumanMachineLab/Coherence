{
 "cells": [
  {
   "cell_type": "code",
   "execution_count": 1,
   "id": "26fc71da",
   "metadata": {},
   "outputs": [],
   "source": [
    "# Run if working locally\n",
    "%load_ext autoreload\n",
    "%autoreload 2"
   ]
  },
  {
   "cell_type": "code",
   "execution_count": 15,
   "id": "72adac0a",
   "metadata": {},
   "outputs": [],
   "source": [
    "import sqlite3\n",
    "from sqlite3 import Error\n",
    "import pickle\n",
    "import os, sys\n",
    "import config\n",
    "\n",
    "config.root_path = os.path.abspath(os.path.join(os.getcwd(), \"..\"))\n",
    "sys.path.insert(0, config.root_path)\n",
    "\n",
    "from src.dataset.dataset import RawData\n",
    "from src.dataset.wiki50k_preprocessing import (\n",
    "    tokenize,\n",
    "    clean_sentence,\n",
    "    preprocess_text_segmentation,\n",
    "    format_data_for_db_insertion,\n",
    "    remove_blank_sentence,\n",
    "    flatten_list,\n",
    ")\n",
    "from db.dbv2 import DB, Table, TestTable, ValidationTable"
   ]
  },
  {
   "cell_type": "code",
   "execution_count": 16,
   "id": "fa53516e",
   "metadata": {},
   "outputs": [],
   "source": [
    "dataset_type = \"city\""
   ]
  },
  {
   "cell_type": "code",
   "execution_count": 17,
   "id": "8b69e762",
   "metadata": {},
   "outputs": [],
   "source": [
    "dataset = RawData(dataset_type)\n",
    "\n",
    "data = dataset.get_wiki_data()\n",
    "# cleaned_data = preprocess_text_segmentation(data)"
   ]
  },
  {
   "cell_type": "code",
   "execution_count": 18,
   "id": "bcb28cd1-f732-4593-b547-95bce61a2d96",
   "metadata": {},
   "outputs": [
    {
     "data": {
      "text/plain": [
       "['========,1,preface.\\n',\n",
       " 'WTTE, channel 28, is a Fox-affiliated television station located in Columbus, Ohio, USA.\\n',\n",
       " \"WTTE's broadcast license is owned by Cunningham Broadcasting, while the station's operations are controlled via local marketing agreement (LMA) by the Sinclair Broadcast Group, WTTE's original owners and present proprietors of ABC affiliate WSYX (channel 6).\\n\",\n",
       " 'Sinclar Broadcast Group also operates Chillicothe-licensed, CW-affiliated WWHO (channel 53), through a shared services agreement with Manhan Media.\\n',\n",
       " \"The three stations share studios on Dublin Road in Grandview Heights, a suburb of Columbus; WTTE and WSYX also share a transmitter on Columbus' west side.\\n\",\n",
       " '========,2,History.\\n',\n",
       " 'WTTE began operations on June 1, 1984 as the first general-entertainment independent station in central Ohio.\\n',\n",
       " 'The station was founded by the Commercial Radio Institute, a subsidiary of the Baltimore-based Sinclair Broadcast Group.\\n',\n",
       " 'WTTE quickly became the dominant independent station in the area largely because its programming policy was far less conservative than that of the other independent in the area, Christian-oriented, Newark-licensed WSFJ-TV (channel 51).\\n',\n",
       " 'Channel 28 is a charter affiliate of Fox, having joined the network at its launch on October 9, 1986.\\n']"
      ]
     },
     "execution_count": 18,
     "metadata": {},
     "output_type": "execute_result"
    }
   ],
   "source": [
    "data[:10]"
   ]
  },
  {
   "cell_type": "markdown",
   "id": "ff203052",
   "metadata": {},
   "source": [
    "## Format the Data"
   ]
  },
  {
   "cell_type": "code",
   "execution_count": 21,
   "id": "48c941c6",
   "metadata": {},
   "outputs": [],
   "source": [
    "data_to_insert = format_data_for_db_insertion(data)"
   ]
  },
  {
   "cell_type": "code",
   "execution_count": 22,
   "id": "b60016f6",
   "metadata": {},
   "outputs": [
    {
     "data": {
      "text/plain": [
       "[('WTTE, channel 28, is a Fox-affiliated television station located in Columbus, Ohio, USA.\\n',\n",
       "  1,\n",
       "  None,\n",
       "  0),\n",
       " (\"WTTE's broadcast license is owned by Cunningham Broadcasting, while the station's operations are controlled via local marketing agreement (LMA) by the Sinclair Broadcast Group, WTTE's original owners and present proprietors of ABC affiliate WSYX (channel 6).\\n\",\n",
       "  0,\n",
       "  1,\n",
       "  1),\n",
       " ('Sinclar Broadcast Group also operates Chillicothe-licensed, CW-affiliated WWHO (channel 53), through a shared services agreement with Manhan Media.\\n',\n",
       "  0,\n",
       "  1,\n",
       "  2),\n",
       " (\"The three stations share studios on Dublin Road in Grandview Heights, a suburb of Columbus; WTTE and WSYX also share a transmitter on Columbus' west side.\\n\",\n",
       "  0,\n",
       "  1,\n",
       "  3),\n",
       " ('WTTE began operations on June 1, 1984 as the first general-entertainment independent station in central Ohio.\\n',\n",
       "  1,\n",
       "  None,\n",
       "  0)]"
      ]
     },
     "execution_count": 22,
     "metadata": {},
     "output_type": "execute_result"
    }
   ],
   "source": [
    "data_to_insert[:5]"
   ]
  },
  {
   "cell_type": "code",
   "execution_count": 25,
   "id": "2e4c73e5-8fa0-4d8e-a3d7-270131b9fdc8",
   "metadata": {},
   "outputs": [
    {
     "data": {
      "text/plain": [
       "3070"
      ]
     },
     "execution_count": 25,
     "metadata": {},
     "output_type": "execute_result"
    }
   ],
   "source": [
    "len(data_to_insert)"
   ]
  },
  {
   "cell_type": "markdown",
   "id": "35aaec90",
   "metadata": {},
   "source": [
    "## Iterative Import\n",
    "Because I'm going to sleep..."
   ]
  },
  {
   "cell_type": "code",
   "execution_count": 24,
   "id": "1a38fd6c",
   "metadata": {
    "scrolled": true
   },
   "outputs": [
    {
     "name": "stdout",
     "output_type": "stream",
     "text": [
      "Using dataset: wiki50k\n",
      "Entered 0 sentences...\n",
      "Entered 500 sentences...\n",
      "Entered 1000 sentences...\n",
      "Entered 1500 sentences...\n",
      "Entered 2000 sentences...\n",
      "Entered 2500 sentences...\n",
      "Entered 3000 sentences...\n"
     ]
    }
   ],
   "source": [
    "for dataset_type in [\"wiki50k\"]:\n",
    "    database = r\"{}/db/{}.db\".format(config.root_path, dataset_type)\n",
    "    dataset = RawData(dataset_type)\n",
    "\n",
    "    data = dataset.get_wiki_data()\n",
    "\n",
    "    data_to_insert = format_data_for_db_insertion(data)\n",
    "    table = Table(dataset_type)\n",
    "\n",
    "    for i, sentence in enumerate(data_to_insert):\n",
    "        sentence_id = table.create_sentence(sentence)\n",
    "        if i % 500 == 0:\n",
    "            print(f\"Entered {i} sentences...\")"
   ]
  },
  {
   "cell_type": "code",
   "execution_count": 31,
   "id": "3b7d4dc9",
   "metadata": {},
   "outputs": [
    {
     "data": {
      "text/plain": [
       "'something something '"
      ]
     },
     "execution_count": 31,
     "metadata": {},
     "output_type": "execute_result"
    },
    {
     "data": {
      "application/javascript": [
       "\n",
       "            setTimeout(function() {\n",
       "                var nbb_cell_id = 31;\n",
       "                var nbb_unformatted_code = \"\\\"something something {disfmarker}\\\".replace(\\\"{disfmarker}\\\", \\\"\\\")\";\n",
       "                var nbb_formatted_code = \"\\\"something something {disfmarker}\\\".replace(\\\"{disfmarker}\\\", \\\"\\\")\";\n",
       "                var nbb_cells = Jupyter.notebook.get_cells();\n",
       "                for (var i = 0; i < nbb_cells.length; ++i) {\n",
       "                    if (nbb_cells[i].input_prompt_number == nbb_cell_id) {\n",
       "                        if (nbb_cells[i].get_text() == nbb_unformatted_code) {\n",
       "                             nbb_cells[i].set_text(nbb_formatted_code);\n",
       "                        }\n",
       "                        break;\n",
       "                    }\n",
       "                }\n",
       "            }, 500);\n",
       "            "
      ],
      "text/plain": [
       "<IPython.core.display.Javascript object>"
      ]
     },
     "metadata": {},
     "output_type": "display_data"
    }
   ],
   "source": [
    "\"something something {disfmarker}\".replace(\"{disfmarker}\", \"\")"
   ]
  },
  {
   "cell_type": "code",
   "execution_count": null,
   "id": "4d373b76",
   "metadata": {},
   "outputs": [],
   "source": []
  }
 ],
 "metadata": {
  "kernelspec": {
   "display_name": "Python 3 (ipykernel)",
   "language": "python",
   "name": "python3"
  },
  "language_info": {
   "codemirror_mode": {
    "name": "ipython",
    "version": 3
   },
   "file_extension": ".py",
   "mimetype": "text/x-python",
   "name": "python",
   "nbconvert_exporter": "python",
   "pygments_lexer": "ipython3",
   "version": "3.8.18"
  }
 },
 "nbformat": 4,
 "nbformat_minor": 5
}
