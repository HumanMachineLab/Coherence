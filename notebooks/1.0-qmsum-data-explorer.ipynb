{
 "cells": [
  {
   "cell_type": "code",
   "execution_count": 1,
   "id": "01aa0e6a",
   "metadata": {},
   "outputs": [
    {
     "name": "stdout",
     "output_type": "stream",
     "text": [
      "Note: you may need to restart the kernel to use updated packages.\n"
     ]
    }
   ],
   "source": [
    "pip install -q datasets transformers"
   ]
  },
  {
   "cell_type": "code",
   "execution_count": 2,
   "id": "88614be3",
   "metadata": {
    "scrolled": true
   },
   "outputs": [
    {
     "name": "stdout",
     "output_type": "stream",
     "text": [
      "Requirement already satisfied: datasets in /Users/amitmaraj/miniforge3/envs/phd/lib/python3.8/site-packages (2.14.4)\n",
      "Requirement already satisfied: xxhash in /Users/amitmaraj/miniforge3/envs/phd/lib/python3.8/site-packages (from datasets) (3.3.0)\n",
      "Requirement already satisfied: packaging in /Users/amitmaraj/miniforge3/envs/phd/lib/python3.8/site-packages (from datasets) (21.3)\n",
      "Requirement already satisfied: pyarrow>=8.0.0 in /Users/amitmaraj/miniforge3/envs/phd/lib/python3.8/site-packages (from datasets) (13.0.0)\n",
      "Requirement already satisfied: aiohttp in /Users/amitmaraj/miniforge3/envs/phd/lib/python3.8/site-packages (from datasets) (3.8.5)\n",
      "Requirement already satisfied: tqdm>=4.62.1 in /Users/amitmaraj/miniforge3/envs/phd/lib/python3.8/site-packages (from datasets) (4.64.1)\n",
      "Requirement already satisfied: pandas in /Users/amitmaraj/miniforge3/envs/phd/lib/python3.8/site-packages (from datasets) (1.5.0)\n",
      "Requirement already satisfied: requests>=2.19.0 in /Users/amitmaraj/miniforge3/envs/phd/lib/python3.8/site-packages (from datasets) (2.28.1)\n",
      "Requirement already satisfied: dill<0.3.8,>=0.3.0 in /Users/amitmaraj/miniforge3/envs/phd/lib/python3.8/site-packages (from datasets) (0.3.7)\n",
      "Requirement already satisfied: multiprocess in /Users/amitmaraj/miniforge3/envs/phd/lib/python3.8/site-packages (from datasets) (0.70.15)\n",
      "Requirement already satisfied: pyyaml>=5.1 in /Users/amitmaraj/miniforge3/envs/phd/lib/python3.8/site-packages (from datasets) (6.0)\n",
      "Requirement already satisfied: huggingface-hub<1.0.0,>=0.14.0 in /Users/amitmaraj/miniforge3/envs/phd/lib/python3.8/site-packages (from datasets) (0.16.4)\n",
      "Requirement already satisfied: fsspec[http]>=2021.11.1 in /Users/amitmaraj/miniforge3/envs/phd/lib/python3.8/site-packages (from datasets) (2023.6.0)\n",
      "Requirement already satisfied: numpy>=1.17 in /Users/amitmaraj/miniforge3/envs/phd/lib/python3.8/site-packages (from datasets) (1.23.2)\n",
      "Requirement already satisfied: yarl<2.0,>=1.0 in /Users/amitmaraj/miniforge3/envs/phd/lib/python3.8/site-packages (from aiohttp->datasets) (1.9.2)\n",
      "Requirement already satisfied: charset-normalizer<4.0,>=2.0 in /Users/amitmaraj/miniforge3/envs/phd/lib/python3.8/site-packages (from aiohttp->datasets) (2.1.1)\n",
      "Requirement already satisfied: multidict<7.0,>=4.5 in /Users/amitmaraj/miniforge3/envs/phd/lib/python3.8/site-packages (from aiohttp->datasets) (6.0.4)\n",
      "Requirement already satisfied: async-timeout<5.0,>=4.0.0a3 in /Users/amitmaraj/miniforge3/envs/phd/lib/python3.8/site-packages (from aiohttp->datasets) (4.0.3)\n",
      "Requirement already satisfied: frozenlist>=1.1.1 in /Users/amitmaraj/miniforge3/envs/phd/lib/python3.8/site-packages (from aiohttp->datasets) (1.4.0)\n",
      "Requirement already satisfied: attrs>=17.3.0 in /Users/amitmaraj/miniforge3/envs/phd/lib/python3.8/site-packages (from aiohttp->datasets) (22.1.0)\n",
      "Requirement already satisfied: aiosignal>=1.1.2 in /Users/amitmaraj/miniforge3/envs/phd/lib/python3.8/site-packages (from aiohttp->datasets) (1.3.1)\n",
      "Requirement already satisfied: filelock in /Users/amitmaraj/miniforge3/envs/phd/lib/python3.8/site-packages (from huggingface-hub<1.0.0,>=0.14.0->datasets) (3.8.0)\n",
      "Requirement already satisfied: typing-extensions>=3.7.4.3 in /Users/amitmaraj/miniforge3/envs/phd/lib/python3.8/site-packages (from huggingface-hub<1.0.0,>=0.14.0->datasets) (4.3.0)\n",
      "Requirement already satisfied: pyparsing!=3.0.5,>=2.0.2 in /Users/amitmaraj/miniforge3/envs/phd/lib/python3.8/site-packages (from packaging->datasets) (3.0.9)\n",
      "Requirement already satisfied: certifi>=2017.4.17 in /Users/amitmaraj/miniforge3/envs/phd/lib/python3.8/site-packages (from requests>=2.19.0->datasets) (2022.9.24)\n",
      "Requirement already satisfied: urllib3<1.27,>=1.21.1 in /Users/amitmaraj/miniforge3/envs/phd/lib/python3.8/site-packages (from requests>=2.19.0->datasets) (1.26.12)\n",
      "Requirement already satisfied: idna<4,>=2.5 in /Users/amitmaraj/miniforge3/envs/phd/lib/python3.8/site-packages (from requests>=2.19.0->datasets) (3.4)\n",
      "Requirement already satisfied: python-dateutil>=2.8.1 in /Users/amitmaraj/miniforge3/envs/phd/lib/python3.8/site-packages (from pandas->datasets) (2.8.2)\n",
      "Requirement already satisfied: pytz>=2020.1 in /Users/amitmaraj/miniforge3/envs/phd/lib/python3.8/site-packages (from pandas->datasets) (2022.2.1)\n",
      "Requirement already satisfied: six>=1.5 in /Users/amitmaraj/miniforge3/envs/phd/lib/python3.8/site-packages (from python-dateutil>=2.8.1->pandas->datasets) (1.16.0)\n",
      "Collecting cleantext\n",
      "  Downloading cleantext-1.1.4-py3-none-any.whl (4.9 kB)\n",
      "Requirement already satisfied: nltk in /Users/amitmaraj/miniforge3/envs/phd/lib/python3.8/site-packages (from cleantext) (3.7)\n",
      "Requirement already satisfied: regex>=2021.8.3 in /Users/amitmaraj/miniforge3/envs/phd/lib/python3.8/site-packages (from nltk->cleantext) (2022.9.13)\n",
      "Requirement already satisfied: joblib in /Users/amitmaraj/miniforge3/envs/phd/lib/python3.8/site-packages (from nltk->cleantext) (1.2.0)\n",
      "Requirement already satisfied: click in /Users/amitmaraj/miniforge3/envs/phd/lib/python3.8/site-packages (from nltk->cleantext) (8.1.3)\n",
      "Requirement already satisfied: tqdm in /Users/amitmaraj/miniforge3/envs/phd/lib/python3.8/site-packages (from nltk->cleantext) (4.64.1)\n",
      "Installing collected packages: cleantext\n",
      "Successfully installed cleantext-1.1.4\n"
     ]
    }
   ],
   "source": [
    "!pip install datasets\n",
    "!pip install cleantext"
   ]
  },
  {
   "cell_type": "code",
   "execution_count": 3,
   "id": "405758d2",
   "metadata": {},
   "outputs": [
    {
     "data": {
      "application/vnd.jupyter.widget-view+json": {
       "model_id": "ae999d8cae8747808c1c78e574c5c82d",
       "version_major": 2,
       "version_minor": 0
      },
      "text/plain": [
       "Downloading builder script:   0%|          | 0.00/18.5k [00:00<?, ?B/s]"
      ]
     },
     "metadata": {},
     "output_type": "display_data"
    },
    {
     "data": {
      "application/vnd.jupyter.widget-view+json": {
       "model_id": "d122d0b025934d8ab220a2e9720fbaf7",
       "version_major": 2,
       "version_minor": 0
      },
      "text/plain": [
       "Downloading readme:   0%|          | 0.00/7.37k [00:00<?, ?B/s]"
      ]
     },
     "metadata": {},
     "output_type": "display_data"
    },
    {
     "data": {
      "application/vnd.jupyter.widget-view+json": {
       "model_id": "33cb555865f44ed899c200657761a94f",
       "version_major": 2,
       "version_minor": 0
      },
      "text/plain": [
       "Downloading data:   0%|          | 0.00/27.3M [00:00<?, ?B/s]"
      ]
     },
     "metadata": {},
     "output_type": "display_data"
    },
    {
     "data": {
      "application/vnd.jupyter.widget-view+json": {
       "model_id": "ceea87a1c88d4d04ba1dacd01ee46fdb",
       "version_major": 2,
       "version_minor": 0
      },
      "text/plain": [
       "Generating train split: 0 examples [00:00, ? examples/s]"
      ]
     },
     "metadata": {},
     "output_type": "display_data"
    },
    {
     "data": {
      "application/vnd.jupyter.widget-view+json": {
       "model_id": "61aacf28a6ee44cda69260edaabbc73b",
       "version_major": 2,
       "version_minor": 0
      },
      "text/plain": [
       "Generating validation split: 0 examples [00:00, ? examples/s]"
      ]
     },
     "metadata": {},
     "output_type": "display_data"
    },
    {
     "data": {
      "application/vnd.jupyter.widget-view+json": {
       "model_id": "e4e5ac2158224dc28c5a936af9f929dd",
       "version_major": 2,
       "version_minor": 0
      },
      "text/plain": [
       "Generating test split: 0 examples [00:00, ? examples/s]"
      ]
     },
     "metadata": {},
     "output_type": "display_data"
    }
   ],
   "source": [
    "\n",
    "from datasets import load_dataset\n",
    "\n",
    "dataset = load_dataset(\"tau/scrolls\", \"qmsum\")\n",
    "\n",
    "# dataset\n",
    "\n",
    "# !pip install clean-text[gpl] -q\n",
    "from cleantext import clean\n",
    "\n",
    "train_df = dataset[\"train\"].to_pandas().convert_dtypes()\n",
    "val_df = dataset[\"validation\"].to_pandas().convert_dtypes()\n",
    "test_df = dataset[\"test\"].to_pandas().convert_dtypes()\n",
    "\n",
    "from tqdm.auto import tqdm \n",
    "\n",
    "tqdm.pandas()\n"
   ]
  },
  {
   "cell_type": "code",
   "execution_count": 4,
   "id": "c3107e98",
   "metadata": {},
   "outputs": [
    {
     "data": {
      "text/html": [
       "<div>\n",
       "<style scoped>\n",
       "    .dataframe tbody tr th:only-of-type {\n",
       "        vertical-align: middle;\n",
       "    }\n",
       "\n",
       "    .dataframe tbody tr th {\n",
       "        vertical-align: top;\n",
       "    }\n",
       "\n",
       "    .dataframe thead th {\n",
       "        text-align: right;\n",
       "    }\n",
       "</style>\n",
       "<table border=\"1\" class=\"dataframe\">\n",
       "  <thead>\n",
       "    <tr style=\"text-align: right;\">\n",
       "      <th></th>\n",
       "      <th>id</th>\n",
       "      <th>pid</th>\n",
       "      <th>input</th>\n",
       "      <th>output</th>\n",
       "    </tr>\n",
       "  </thead>\n",
       "  <tbody>\n",
       "    <tr>\n",
       "      <th>0</th>\n",
       "      <td>tr-sq-1</td>\n",
       "      <td>tr-sq-1_0</td>\n",
       "      <td>How Did Project Manager and User Interface int...</td>\n",
       "      <td>Project Manager introduced that the prototype ...</td>\n",
       "    </tr>\n",
       "    <tr>\n",
       "      <th>1</th>\n",
       "      <td>tr-sq-2</td>\n",
       "      <td>tr-sq-2_0</td>\n",
       "      <td>How did Marketing design the product evaluatio...</td>\n",
       "      <td>Marketing had some evaluation criteria in mind...</td>\n",
       "    </tr>\n",
       "    <tr>\n",
       "      <th>2</th>\n",
       "      <td>tr-sq-3</td>\n",
       "      <td>tr-sq-3_0</td>\n",
       "      <td>What did the team discuss during the product e...</td>\n",
       "      <td>Generally speaking, the team agreed that the p...</td>\n",
       "    </tr>\n",
       "    <tr>\n",
       "      <th>3</th>\n",
       "      <td>tr-sq-4</td>\n",
       "      <td>tr-sq-4_0</td>\n",
       "      <td>How did the team evaluate the product about it...</td>\n",
       "      <td>To start with, the team agreed that the remote...</td>\n",
       "    </tr>\n",
       "    <tr>\n",
       "      <th>4</th>\n",
       "      <td>tr-sq-5</td>\n",
       "      <td>tr-sq-5_0</td>\n",
       "      <td>What did the team discuss about the product co...</td>\n",
       "      <td>Project Manager first introduced the budget an...</td>\n",
       "    </tr>\n",
       "    <tr>\n",
       "      <th>...</th>\n",
       "      <td>...</td>\n",
       "      <td>...</td>\n",
       "      <td>...</td>\n",
       "      <td>...</td>\n",
       "    </tr>\n",
       "    <tr>\n",
       "      <th>1252</th>\n",
       "      <td>tr-sq-1253</td>\n",
       "      <td>tr-sq-1253_0</td>\n",
       "      <td>What did Bill Blair respond to the firearms se...</td>\n",
       "      <td>According to Bill Blair, gun violence in any o...</td>\n",
       "    </tr>\n",
       "    <tr>\n",
       "      <th>1253</th>\n",
       "      <td>tr-sq-1254</td>\n",
       "      <td>tr-sq-1254_0</td>\n",
       "      <td>Summarize the inquiries towards Service Canada...</td>\n",
       "      <td>As John Williamson, the member from New Brunsw...</td>\n",
       "    </tr>\n",
       "    <tr>\n",
       "      <th>1254</th>\n",
       "      <td>tr-sq-1255</td>\n",
       "      <td>tr-sq-1255_0</td>\n",
       "      <td>Why did John Williamson disagree with the gove...</td>\n",
       "      <td>Since there was a lot of absence in public ser...</td>\n",
       "    </tr>\n",
       "    <tr>\n",
       "      <th>1255</th>\n",
       "      <td>tr-sq-1256</td>\n",
       "      <td>tr-sq-1256_0</td>\n",
       "      <td>What did Bergeron think of the cooperation bet...</td>\n",
       "      <td>When it comes to the cooperation between two l...</td>\n",
       "    </tr>\n",
       "    <tr>\n",
       "      <th>1256</th>\n",
       "      <td>tr-gq-1257</td>\n",
       "      <td>tr-gq-1257_0</td>\n",
       "      <td>Summarize the whole meeting.\n",
       "\n",
       "The Chair (Hon. ...</td>\n",
       "      <td>The meeting was about the potential consequenc...</td>\n",
       "    </tr>\n",
       "  </tbody>\n",
       "</table>\n",
       "<p>1257 rows × 4 columns</p>\n",
       "</div>"
      ],
      "text/plain": [
       "              id           pid  \\\n",
       "0        tr-sq-1     tr-sq-1_0   \n",
       "1        tr-sq-2     tr-sq-2_0   \n",
       "2        tr-sq-3     tr-sq-3_0   \n",
       "3        tr-sq-4     tr-sq-4_0   \n",
       "4        tr-sq-5     tr-sq-5_0   \n",
       "...          ...           ...   \n",
       "1252  tr-sq-1253  tr-sq-1253_0   \n",
       "1253  tr-sq-1254  tr-sq-1254_0   \n",
       "1254  tr-sq-1255  tr-sq-1255_0   \n",
       "1255  tr-sq-1256  tr-sq-1256_0   \n",
       "1256  tr-gq-1257  tr-gq-1257_0   \n",
       "\n",
       "                                                  input  \\\n",
       "0     How Did Project Manager and User Interface int...   \n",
       "1     How did Marketing design the product evaluatio...   \n",
       "2     What did the team discuss during the product e...   \n",
       "3     How did the team evaluate the product about it...   \n",
       "4     What did the team discuss about the product co...   \n",
       "...                                                 ...   \n",
       "1252  What did Bill Blair respond to the firearms se...   \n",
       "1253  Summarize the inquiries towards Service Canada...   \n",
       "1254  Why did John Williamson disagree with the gove...   \n",
       "1255  What did Bergeron think of the cooperation bet...   \n",
       "1256  Summarize the whole meeting.\n",
       "\n",
       "The Chair (Hon. ...   \n",
       "\n",
       "                                                 output  \n",
       "0     Project Manager introduced that the prototype ...  \n",
       "1     Marketing had some evaluation criteria in mind...  \n",
       "2     Generally speaking, the team agreed that the p...  \n",
       "3     To start with, the team agreed that the remote...  \n",
       "4     Project Manager first introduced the budget an...  \n",
       "...                                                 ...  \n",
       "1252  According to Bill Blair, gun violence in any o...  \n",
       "1253  As John Williamson, the member from New Brunsw...  \n",
       "1254  Since there was a lot of absence in public ser...  \n",
       "1255  When it comes to the cooperation between two l...  \n",
       "1256  The meeting was about the potential consequenc...  \n",
       "\n",
       "[1257 rows x 4 columns]"
      ]
     },
     "execution_count": 4,
     "metadata": {},
     "output_type": "execute_result"
    }
   ],
   "source": [
    "train_df"
   ]
  },
  {
   "cell_type": "code",
   "execution_count": 5,
   "id": "481d2a98",
   "metadata": {},
   "outputs": [
    {
     "data": {
      "text/plain": [
       "\"Project Manager introduced that the prototype incorporated fashion trends that people prefer fancy looking products like fruit and vegetable. After That, User Interface presented the product which looked like a banana and was bright yellow except for the blue button. The style was as simple as possible in order to fit the customers' need for simplicity. Also, the product could be curved and used both-handed with advanced chips hidden inside, which seemed quite creative and identical to iPod features. In the end, Industrial Designer commented that the remote control could be smaller in size.\""
      ]
     },
     "execution_count": 5,
     "metadata": {},
     "output_type": "execute_result"
    }
   ],
   "source": [
    "train_df.iloc[0][\"output\"]"
   ]
  },
  {
   "cell_type": "code",
   "execution_count": null,
   "id": "1b06dc1f",
   "metadata": {},
   "outputs": [],
   "source": []
  }
 ],
 "metadata": {
  "kernelspec": {
   "display_name": "Python 3 (ipykernel)",
   "language": "python",
   "name": "python3"
  },
  "language_info": {
   "codemirror_mode": {
    "name": "ipython",
    "version": 3
   },
   "file_extension": ".py",
   "mimetype": "text/x-python",
   "name": "python",
   "nbconvert_exporter": "python",
   "pygments_lexer": "ipython3",
   "version": "3.8.13"
  }
 },
 "nbformat": 4,
 "nbformat_minor": 5
}
